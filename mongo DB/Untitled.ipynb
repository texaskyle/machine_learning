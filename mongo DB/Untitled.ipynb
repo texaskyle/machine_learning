{
 "cells": [
  {
   "cell_type": "code",
   "execution_count": 1,
   "id": "80e9f8ed",
   "metadata": {},
   "outputs": [],
   "source": [
    "import pymongo"
   ]
  },
  {
   "cell_type": "code",
   "execution_count": 2,
   "id": "18ebb14e",
   "metadata": {},
   "outputs": [],
   "source": [
    "# package which allows us to connect to mongodb\n",
    "# create a connection with MongoClient which is running on my local machine and on port 27017\n",
    "dbConn = pymongo.MongoClient(\"mongodb://localhost:27017\") "
   ]
  },
  {
   "cell_type": "code",
   "execution_count": 3,
   "id": "d126a57e",
   "metadata": {},
   "outputs": [],
   "source": [
    "dbName = 'demoDB'\n",
    "db = dbConn[dbName]  # connecting to the database name demoDB which is present in mongoDB\n",
    "# if the database is not locally present it automatically creates it\n"
   ]
  },
  {
   "cell_type": "code",
   "execution_count": 4,
   "id": "6ff502b1",
   "metadata": {},
   "outputs": [
    {
     "data": {
      "text/plain": [
       "['admin', 'config', 'demoDB', 'local']"
      ]
     },
     "execution_count": 4,
     "metadata": {},
     "output_type": "execute_result"
    }
   ],
   "source": [
    "# showing the database names\n",
    "dbConn.list_database_names() \n",
    "# the demoDB the has been created does not get shown here because if is empty and an empty does not count for anything until\n",
    "# is put inside it. it is also nt shown in the mongodb compass"
   ]
  },
  {
   "cell_type": "code",
   "execution_count": 5,
   "id": "bea91457",
   "metadata": {},
   "outputs": [
    {
     "name": "stdout",
     "output_type": "stream",
     "text": [
      "demoDB exist\n"
     ]
    }
   ],
   "source": [
    "# checking if the database exist in mongoDB\n",
    "dblist = dbConn.list_database_names()  # obtaining all the database names\n",
    "dbName = 'demoDB'\n",
    "\n",
    "if dbName in dblist:\n",
    "    print(\"demoDB exist\")\n",
    "else:\n",
    "    print(\"demoDB does not exist\")"
   ]
  },
  {
   "cell_type": "markdown",
   "id": "0c99e6a2",
   "metadata": {},
   "source": [
    "## inserting data into the collection\n"
   ]
  },
  {
   "cell_type": "code",
   "execution_count": 6,
   "id": "bb7784c4",
   "metadata": {},
   "outputs": [],
   "source": [
    "collection_name = 'mongo_demo'\n",
    "collection = db[collection_name]"
   ]
  },
  {
   "cell_type": "code",
   "execution_count": 7,
   "id": "f6c4c7b0",
   "metadata": {},
   "outputs": [
    {
     "name": "stdout",
     "output_type": "stream",
     "text": [
      "mongo_demo exist\n"
     ]
    }
   ],
   "source": [
    "# checking if the collection exist\n",
    "collection_list = db.list_collection_names()\n",
    "collection_name = 'mongo_demo'\n",
    "\n",
    "if collection_name in collection_list:\n",
    "    print('mongo_demo exist')\n",
    "else:\n",
    "    print('no collection the list')"
   ]
  },
  {
   "cell_type": "code",
   "execution_count": 8,
   "id": "edbf18d8",
   "metadata": {},
   "outputs": [],
   "source": [
    "# inserting one row in the collection\n",
    "# inserting key value pairs in the collection, in form of a dictonary, here one does not need to mentio on the type of the data\n",
    "my_row = {\n",
    "    'name' : 'evans',\n",
    "    'class' : 7,\n",
    "    'subject' : 'maths'\n",
    "}"
   ]
  },
  {
   "cell_type": "code",
   "execution_count": 9,
   "id": "57990ff9",
   "metadata": {},
   "outputs": [],
   "source": [
    "x = collection.insert_one(my_row) # insert record into the collection"
   ]
  },
  {
   "cell_type": "code",
   "execution_count": 10,
   "id": "9b807640",
   "metadata": {},
   "outputs": [
    {
     "name": "stdout",
     "output_type": "stream",
     "text": [
      "63f9df3dc2e729c816816680\n"
     ]
    }
   ],
   "source": [
    " print(x.inserted_id)"
   ]
  },
  {
   "cell_type": "markdown",
   "id": "a4e7f508",
   "metadata": {},
   "source": [
    "#### inserting many rows"
   ]
  },
  {
   "cell_type": "code",
   "execution_count": 11,
   "id": "e3bf840a",
   "metadata": {},
   "outputs": [],
   "source": [
    "my_rows = [\n",
    "    {\n",
    "    'name' : 'kezz',\n",
    "    'class' : 5,\n",
    "    'subject' : 'art and craft'},\n",
    "    {\n",
    "        'name' : 'lucy',\n",
    "        'class' : 2,\n",
    "        'subject' : 'music'\n",
    "    },\n",
    "    {\n",
    "        'name' : 'njoro',\n",
    "        'class' : 8,\n",
    "        'subject' : 'mechanics'\n",
    "    }\n",
    "]"
   ]
  },
  {
   "cell_type": "code",
   "execution_count": 12,
   "id": "72b4227f",
   "metadata": {},
   "outputs": [
    {
     "data": {
      "text/plain": [
       "<pymongo.results.InsertManyResult at 0x23d55399a30>"
      ]
     },
     "execution_count": 12,
     "metadata": {},
     "output_type": "execute_result"
    }
   ],
   "source": [
    "x = collection.insert_many(my_rows)\n",
    "x"
   ]
  },
  {
   "cell_type": "code",
   "execution_count": 13,
   "id": "4b2ef3e7",
   "metadata": {},
   "outputs": [
    {
     "name": "stdout",
     "output_type": "stream",
     "text": [
      "[ObjectId('63f9df3dc2e729c816816681'), ObjectId('63f9df3dc2e729c816816682'), ObjectId('63f9df3dc2e729c816816683')]\n"
     ]
    }
   ],
   "source": [
    "print(x.inserted_ids)"
   ]
  },
  {
   "cell_type": "markdown",
   "id": "0e15e60c",
   "metadata": {},
   "source": [
    "## selecting data from the database"
   ]
  },
  {
   "cell_type": "code",
   "execution_count": 14,
   "id": "6729c756",
   "metadata": {},
   "outputs": [
    {
     "data": {
      "text/plain": [
       "<pymongo.cursor.Cursor at 0x23d553a4a00>"
      ]
     },
     "execution_count": 14,
     "metadata": {},
     "output_type": "execute_result"
    }
   ],
   "source": [
    "result = collection.find({})\n",
    "result"
   ]
  },
  {
   "cell_type": "code",
   "execution_count": 15,
   "id": "f7911a46",
   "metadata": {},
   "outputs": [
    {
     "data": {
      "text/plain": [
       "{'_id': ObjectId('63f897e9fd7d616ca3a8288d'),\n",
       " 'name': 'evans',\n",
       " 'class': 7,\n",
       " 'subject': 'maths'}"
      ]
     },
     "execution_count": 15,
     "metadata": {},
     "output_type": "execute_result"
    }
   ],
   "source": [
    "result[3]"
   ]
  },
  {
   "cell_type": "markdown",
   "id": "528d8be9",
   "metadata": {},
   "source": [
    "#### limit"
   ]
  },
  {
   "cell_type": "code",
   "execution_count": 16,
   "id": "fe6b0a5a",
   "metadata": {},
   "outputs": [
    {
     "data": {
      "text/plain": [
       "<pymongo.cursor.Cursor at 0x23d553a4eb0>"
      ]
     },
     "execution_count": 16,
     "metadata": {},
     "output_type": "execute_result"
    }
   ],
   "source": [
    "results = collection.find({}).limit(3)\n",
    "results"
   ]
  },
  {
   "cell_type": "code",
   "execution_count": 17,
   "id": "f9879d86",
   "metadata": {},
   "outputs": [
    {
     "name": "stdout",
     "output_type": "stream",
     "text": [
      "{'_id': ObjectId('63f8941dfd7d616ca3a82888'), 'name': 'evans', 'class': 7, 'subject': 'maths'}\n",
      "{'_id': ObjectId('63f8941dfd7d616ca3a82889'), 'name': 'kezz', 'class': 5, 'subject': 'art and craft'}\n",
      "{'_id': ObjectId('63f8941dfd7d616ca3a8288a'), 'name': 'lucy', 'class': 2, 'subject': 'music'}\n"
     ]
    }
   ],
   "source": [
    "for result in results:\n",
    "    print (result)"
   ]
  },
  {
   "cell_type": "markdown",
   "id": "9989b0be",
   "metadata": {},
   "source": [
    "#### retriving only some columns"
   ]
  },
  {
   "cell_type": "code",
   "execution_count": 18,
   "id": "3d289ea5",
   "metadata": {},
   "outputs": [],
   "source": [
    "results_some = collection.find({}, {'name', 'subject'})"
   ]
  },
  {
   "cell_type": "code",
   "execution_count": 19,
   "id": "95d9b0c7",
   "metadata": {},
   "outputs": [
    {
     "name": "stdout",
     "output_type": "stream",
     "text": [
      "{'_id': ObjectId('63f8941dfd7d616ca3a82888'), 'name': 'evans', 'subject': 'maths'}\n",
      "{'_id': ObjectId('63f8941dfd7d616ca3a82889'), 'name': 'kezz', 'subject': 'art and craft'}\n",
      "{'_id': ObjectId('63f8941dfd7d616ca3a8288a'), 'name': 'lucy', 'subject': 'music'}\n",
      "{'_id': ObjectId('63f897e9fd7d616ca3a8288d'), 'name': 'evans', 'subject': 'maths'}\n",
      "{'_id': ObjectId('63f897eafd7d616ca3a8288e'), 'name': 'kezz', 'subject': 'art and craft'}\n",
      "{'_id': ObjectId('63f897eafd7d616ca3a8288f'), 'name': 'lucy', 'subject': 'music'}\n",
      "{'_id': ObjectId('63f9df3dc2e729c816816680'), 'name': 'evans', 'subject': 'maths'}\n",
      "{'_id': ObjectId('63f9df3dc2e729c816816681'), 'name': 'kezz', 'subject': 'art and craft'}\n",
      "{'_id': ObjectId('63f9df3dc2e729c816816682'), 'name': 'lucy', 'subject': 'music'}\n",
      "{'_id': ObjectId('63f9df3dc2e729c816816683'), 'name': 'njoro', 'subject': 'mechanics'}\n"
     ]
    }
   ],
   "source": [
    "for result in results_some:\n",
    "    print(result)"
   ]
  },
  {
   "cell_type": "code",
   "execution_count": null,
   "id": "1fd78add",
   "metadata": {},
   "outputs": [],
   "source": []
  },
  {
   "cell_type": "code",
   "execution_count": 20,
   "id": "b4b84935",
   "metadata": {},
   "outputs": [
    {
     "data": {
      "text/plain": [
       "<pymongo.cursor.Cursor at 0x23d553ba1f0>"
      ]
     },
     "execution_count": 20,
     "metadata": {},
     "output_type": "execute_result"
    }
   ],
   "source": [
    "query = {'name' : 'kezz'}\n",
    "query_result = collection.find(query)    \n",
    "query_result"
   ]
  },
  {
   "cell_type": "code",
   "execution_count": 21,
   "id": "f9c6cc62",
   "metadata": {},
   "outputs": [
    {
     "name": "stdout",
     "output_type": "stream",
     "text": [
      "{'_id': ObjectId('63f8941dfd7d616ca3a82889'), 'name': 'kezz', 'class': 5, 'subject': 'art and craft'}\n",
      "{'_id': ObjectId('63f897eafd7d616ca3a8288e'), 'name': 'kezz', 'class': 5, 'subject': 'art and craft'}\n",
      "{'_id': ObjectId('63f9df3dc2e729c816816681'), 'name': 'kezz', 'class': 5, 'subject': 'art and craft'}\n"
     ]
    }
   ],
   "source": [
    "for query in query_result:\n",
    "    print(query)"
   ]
  },
  {
   "cell_type": "code",
   "execution_count": 22,
   "id": "e4034091",
   "metadata": {},
   "outputs": [
    {
     "data": {
      "text/plain": [
       "<pymongo.cursor.Cursor at 0x23d553baa60>"
      ]
     },
     "execution_count": 22,
     "metadata": {},
     "output_type": "execute_result"
    }
   ],
   "source": [
    "query2 = {'class':8}\n",
    "results = collection.find(query2)\n",
    "results"
   ]
  },
  {
   "cell_type": "code",
   "execution_count": 23,
   "id": "9cfde40c",
   "metadata": {},
   "outputs": [
    {
     "name": "stdout",
     "output_type": "stream",
     "text": [
      "{'_id': ObjectId('63f9df3dc2e729c816816683'), 'name': 'njoro', 'class': 8, 'subject': 'mechanics'}\n"
     ]
    }
   ],
   "source": [
    "for result in results:\n",
    "    print(result)"
   ]
  },
  {
   "cell_type": "code",
   "execution_count": 24,
   "id": "834e3111",
   "metadata": {},
   "outputs": [
    {
     "data": {
      "text/plain": [
       "<pymongo.cursor.Cursor at 0x23d553ba8e0>"
      ]
     },
     "execution_count": 24,
     "metadata": {},
     "output_type": "execute_result"
    }
   ],
   "source": [
    "## greater than\n",
    "query3 = {'class' : {'$gt' : 6}}\n",
    "results3 = collection.find(query3)\n",
    "results3"
   ]
  },
  {
   "cell_type": "code",
   "execution_count": 25,
   "id": "2132d225",
   "metadata": {},
   "outputs": [
    {
     "name": "stdout",
     "output_type": "stream",
     "text": [
      "{'_id': ObjectId('63f8941dfd7d616ca3a82888'), 'name': 'evans', 'class': 7, 'subject': 'maths'}\n",
      "{'_id': ObjectId('63f897e9fd7d616ca3a8288d'), 'name': 'evans', 'class': 7, 'subject': 'maths'}\n",
      "{'_id': ObjectId('63f9df3dc2e729c816816680'), 'name': 'evans', 'class': 7, 'subject': 'maths'}\n",
      "{'_id': ObjectId('63f9df3dc2e729c816816683'), 'name': 'njoro', 'class': 8, 'subject': 'mechanics'}\n"
     ]
    }
   ],
   "source": [
    "for result in results3:\n",
    "    print(result)"
   ]
  },
  {
   "cell_type": "code",
   "execution_count": null,
   "id": "a83a4d8e",
   "metadata": {},
   "outputs": [],
   "source": []
  },
  {
   "cell_type": "code",
   "execution_count": 26,
   "id": "f610fd6b",
   "metadata": {},
   "outputs": [
    {
     "name": "stdout",
     "output_type": "stream",
     "text": [
      "{'_id': ObjectId('63f8941dfd7d616ca3a82889'), 'name': 'kezz', 'class': 5, 'subject': 'art and craft'}\n",
      "{'_id': ObjectId('63f8941dfd7d616ca3a8288a'), 'name': 'lucy', 'class': 2, 'subject': 'music'}\n",
      "{'_id': ObjectId('63f897eafd7d616ca3a8288e'), 'name': 'kezz', 'class': 5, 'subject': 'art and craft'}\n",
      "{'_id': ObjectId('63f897eafd7d616ca3a8288f'), 'name': 'lucy', 'class': 2, 'subject': 'music'}\n",
      "{'_id': ObjectId('63f9df3dc2e729c816816681'), 'name': 'kezz', 'class': 5, 'subject': 'art and craft'}\n",
      "{'_id': ObjectId('63f9df3dc2e729c816816682'), 'name': 'lucy', 'class': 2, 'subject': 'music'}\n"
     ]
    }
   ],
   "source": [
    "## less than \n",
    "query4 = {'class' : {'$lt' : 6}}\n",
    "results4 = collection.find(query4)\n",
    "for result in results4:\n",
    "    print(result)"
   ]
  },
  {
   "cell_type": "markdown",
   "id": "a5cdd89d",
   "metadata": {},
   "source": [
    "## sorting"
   ]
  },
  {
   "cell_type": "code",
   "execution_count": 27,
   "id": "d5deae63",
   "metadata": {},
   "outputs": [],
   "source": [
    "# sort using the subject names in ascending order\n",
    "results5 = collection.find({}).sort('subject')"
   ]
  },
  {
   "cell_type": "code",
   "execution_count": 28,
   "id": "fa701f8f",
   "metadata": {},
   "outputs": [
    {
     "name": "stdout",
     "output_type": "stream",
     "text": [
      "{'_id': ObjectId('63f8941dfd7d616ca3a82889'), 'name': 'kezz', 'class': 5, 'subject': 'art and craft'}\n",
      "{'_id': ObjectId('63f897eafd7d616ca3a8288e'), 'name': 'kezz', 'class': 5, 'subject': 'art and craft'}\n",
      "{'_id': ObjectId('63f9df3dc2e729c816816681'), 'name': 'kezz', 'class': 5, 'subject': 'art and craft'}\n",
      "{'_id': ObjectId('63f8941dfd7d616ca3a82888'), 'name': 'evans', 'class': 7, 'subject': 'maths'}\n",
      "{'_id': ObjectId('63f897e9fd7d616ca3a8288d'), 'name': 'evans', 'class': 7, 'subject': 'maths'}\n",
      "{'_id': ObjectId('63f9df3dc2e729c816816680'), 'name': 'evans', 'class': 7, 'subject': 'maths'}\n",
      "{'_id': ObjectId('63f9df3dc2e729c816816683'), 'name': 'njoro', 'class': 8, 'subject': 'mechanics'}\n",
      "{'_id': ObjectId('63f8941dfd7d616ca3a8288a'), 'name': 'lucy', 'class': 2, 'subject': 'music'}\n",
      "{'_id': ObjectId('63f897eafd7d616ca3a8288f'), 'name': 'lucy', 'class': 2, 'subject': 'music'}\n",
      "{'_id': ObjectId('63f9df3dc2e729c816816682'), 'name': 'lucy', 'class': 2, 'subject': 'music'}\n"
     ]
    }
   ],
   "source": [
    "for result in results5:\n",
    "    print(result)"
   ]
  },
  {
   "cell_type": "code",
   "execution_count": 29,
   "id": "5df935bd",
   "metadata": {},
   "outputs": [
    {
     "name": "stdout",
     "output_type": "stream",
     "text": [
      "{'_id': ObjectId('63f9df3dc2e729c816816683'), 'class': 8, 'subject': 'mechanics'}\n",
      "{'_id': ObjectId('63f8941dfd7d616ca3a82888'), 'class': 7, 'subject': 'maths'}\n",
      "{'_id': ObjectId('63f897e9fd7d616ca3a8288d'), 'class': 7, 'subject': 'maths'}\n",
      "{'_id': ObjectId('63f9df3dc2e729c816816680'), 'class': 7, 'subject': 'maths'}\n",
      "{'_id': ObjectId('63f8941dfd7d616ca3a82889'), 'class': 5, 'subject': 'art and craft'}\n",
      "{'_id': ObjectId('63f897eafd7d616ca3a8288e'), 'class': 5, 'subject': 'art and craft'}\n",
      "{'_id': ObjectId('63f9df3dc2e729c816816681'), 'class': 5, 'subject': 'art and craft'}\n",
      "{'_id': ObjectId('63f8941dfd7d616ca3a8288a'), 'class': 2, 'subject': 'music'}\n",
      "{'_id': ObjectId('63f897eafd7d616ca3a8288f'), 'class': 2, 'subject': 'music'}\n",
      "{'_id': ObjectId('63f9df3dc2e729c816816682'), 'class': 2, 'subject': 'music'}\n"
     ]
    }
   ],
   "source": [
    "# sorting the classes in descending order\n",
    "results6 = collection.find({}, {'class', 'subject'}).sort('class', -1)\n",
    "for result in results6:\n",
    "    print(result)"
   ]
  },
  {
   "cell_type": "markdown",
   "id": "32845f11",
   "metadata": {},
   "source": [
    "## deleting "
   ]
  },
  {
   "cell_type": "code",
   "execution_count": 30,
   "id": "209dd4bf",
   "metadata": {},
   "outputs": [],
   "source": [
    "# deleting from one row\n",
    "query7 = {'name' : 'njoro'}\n",
    "x = collection.delete_one(query7)"
   ]
  },
  {
   "cell_type": "code",
   "execution_count": 31,
   "id": "3f527cdc",
   "metadata": {},
   "outputs": [
    {
     "data": {
      "text/plain": [
       "1"
      ]
     },
     "execution_count": 31,
     "metadata": {},
     "output_type": "execute_result"
    }
   ],
   "source": [
    "x.deleted_count"
   ]
  },
  {
   "cell_type": "code",
   "execution_count": 32,
   "id": "62a4e6d1",
   "metadata": {},
   "outputs": [],
   "source": [
    "# deleting from multiple rows\n",
    "#query8 = {'class' : 7}\n",
    "#x = collection.delete_many(query8)"
   ]
  },
  {
   "cell_type": "code",
   "execution_count": 33,
   "id": "6bbfffc9",
   "metadata": {},
   "outputs": [
    {
     "data": {
      "text/plain": [
       "1"
      ]
     },
     "execution_count": 33,
     "metadata": {},
     "output_type": "execute_result"
    }
   ],
   "source": [
    "x.deleted_count"
   ]
  },
  {
   "cell_type": "code",
   "execution_count": 34,
   "id": "8cdd21e5",
   "metadata": {},
   "outputs": [],
   "source": [
    "# deleting all the rows in the collection\n",
    "#collection.delete_many({})"
   ]
  },
  {
   "cell_type": "code",
   "execution_count": 35,
   "id": "d69e81d7",
   "metadata": {},
   "outputs": [
    {
     "data": {
      "text/plain": [
       "<pymongo.results.InsertManyResult at 0x23d553cd7c0>"
      ]
     },
     "execution_count": 35,
     "metadata": {},
     "output_type": "execute_result"
    }
   ],
   "source": [
    "# creating another collection\n",
    "collection2 = db['test_collection']\n",
    "\n",
    "# inserting data into the collection\n",
    "rows = [\n",
    "    {\n",
    "        'kenya' : 'nairobi',\n",
    "        'usa' : 'mexico',\n",
    "        'rwanda' : 'kigali'\n",
    "    }\n",
    "]\n",
    "\n",
    "collection2.insert_many(rows)"
   ]
  },
  {
   "cell_type": "code",
   "execution_count": 37,
   "id": "b6e92fdd",
   "metadata": {},
   "outputs": [],
   "source": [
    "# dropping the test collection\n",
    "collection_to_drop = db['test_collection']\n",
    "collection_to_drop.drop()"
   ]
  },
  {
   "cell_type": "markdown",
   "id": "2d71dd96",
   "metadata": {},
   "source": [
    "## update"
   ]
  },
  {
   "cell_type": "code",
   "execution_count": 38,
   "id": "23ffaafb",
   "metadata": {},
   "outputs": [],
   "source": [
    "value_to_be_updated = {'class' : 7}\n",
    "new_value = {'$set' : {'class' : 3}}\n",
    "x = collection.update_many(value_to_be_updated, new_value)"
   ]
  },
  {
   "cell_type": "code",
   "execution_count": 39,
   "id": "47dea901",
   "metadata": {},
   "outputs": [
    {
     "name": "stdout",
     "output_type": "stream",
     "text": [
      "3\n"
     ]
    }
   ],
   "source": [
    "print(x.modified_count)"
   ]
  },
  {
   "cell_type": "code",
   "execution_count": 40,
   "id": "e6aca9ef",
   "metadata": {},
   "outputs": [],
   "source": [
    "# updating one row\n",
    "update_criteria = {'name' : 'evans'}\n",
    "new_value = {'$set' : {'name' : \"njoroge\"}}\n",
    "x = collection.update_one(update_criteria, new_value)"
   ]
  },
  {
   "cell_type": "code",
   "execution_count": 41,
   "id": "344ea2c4",
   "metadata": {},
   "outputs": [
    {
     "name": "stdout",
     "output_type": "stream",
     "text": [
      "1\n"
     ]
    }
   ],
   "source": [
    "print(x.modified_count)"
   ]
  },
  {
   "cell_type": "code",
   "execution_count": null,
   "id": "4a2e224c",
   "metadata": {},
   "outputs": [],
   "source": [
    " "
   ]
  }
 ],
 "metadata": {
  "kernelspec": {
   "display_name": "Python 3 (ipykernel)",
   "language": "python",
   "name": "python3"
  },
  "language_info": {
   "codemirror_mode": {
    "name": "ipython",
    "version": 3
   },
   "file_extension": ".py",
   "mimetype": "text/x-python",
   "name": "python",
   "nbconvert_exporter": "python",
   "pygments_lexer": "ipython3",
   "version": "3.9.13"
  }
 },
 "nbformat": 4,
 "nbformat_minor": 5
}
