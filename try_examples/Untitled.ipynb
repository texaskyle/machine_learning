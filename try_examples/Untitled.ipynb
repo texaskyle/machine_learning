{
 "cells": [
  {
   "cell_type": "code",
   "execution_count": 1,
   "id": "fb8a9d97",
   "metadata": {},
   "outputs": [],
   "source": [
    "import pymongo\n"
   ]
  },
  {
   "cell_type": "code",
   "execution_count": 2,
   "id": "4b371896",
   "metadata": {},
   "outputs": [],
   "source": [
    "searchString = \"iphone7\"\n",
    "dbConn = pymongo.MongoClient(\"mongodb://localhost:27017/\")  # opening a connection to Mongo\n",
    "db = dbConn['crawlerDB']  # connecting to the database called crawlerDB\n",
    "reviews = db[searchString].find({})"
   ]
  },
  {
   "cell_type": "code",
   "execution_count": 8,
   "id": "15ae7f21",
   "metadata": {},
   "outputs": [
    {
     "data": {
      "text/plain": [
       "pymongo.cursor.Cursor"
      ]
     },
     "execution_count": 8,
     "metadata": {},
     "output_type": "execute_result"
    }
   ],
   "source": [
    "type(reviews)"
   ]
  },
  {
   "cell_type": "code",
   "execution_count": 4,
   "id": "c3e585da",
   "metadata": {},
   "outputs": [
    {
     "name": "stdout",
     "output_type": "stream",
     "text": [
      "djyhsfgdzfv\n"
     ]
    }
   ],
   "source": [
    "for i in reviews:\n",
    "    print(i)\n",
    "else:\n",
    "    print(\"djyhsfgdzfv\")"
   ]
  },
  {
   "cell_type": "code",
   "execution_count": null,
   "id": "cb97e745",
   "metadata": {},
   "outputs": [],
   "source": []
  }
 ],
 "metadata": {
  "kernelspec": {
   "display_name": "Python 3 (ipykernel)",
   "language": "python",
   "name": "python3"
  },
  "language_info": {
   "codemirror_mode": {
    "name": "ipython",
    "version": 3
   },
   "file_extension": ".py",
   "mimetype": "text/x-python",
   "name": "python",
   "nbconvert_exporter": "python",
   "pygments_lexer": "ipython3",
   "version": "3.9.13"
  }
 },
 "nbformat": 4,
 "nbformat_minor": 5
}
