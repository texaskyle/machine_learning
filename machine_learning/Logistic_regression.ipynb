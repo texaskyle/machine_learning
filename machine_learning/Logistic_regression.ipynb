{
 "cells": [
  {
   "cell_type": "code",
   "execution_count": 23,
   "id": "951de04c",
   "metadata": {},
   "outputs": [
    {
     "name": "stdout",
     "output_type": "stream",
     "text": [
      "[0]\n",
      "The tumor wont occur!\n"
     ]
    }
   ],
   "source": [
    "import numpy\n",
    "from sklearn import linear_model\n",
    "\n",
    "# x will represent the size of the tumor in centimeter\n",
    "X = numpy.array([3.78, 2.44, 2.09, 0.14, 1.72, 1.65, 4.92, 4.37, 4.96, 4.52, 3.69, 5.88]).reshape(-1, 1)\n",
    "# x has to be reshaped into a column from a row for the LogisticRegression function to work\n",
    "# y will represent whether or not the tumor is cancerous(0 for \"No\" and 1 for \"yes\")\n",
    "y = numpy.array([0, 0, 0, 0, 0, 0, 1, 1, 1, 1, 1, 1])\n",
    "\n",
    "# creating the model from the sklearn, to create a logistic regression object\n",
    "logr = linear_model.LogisticRegression()\n",
    "# the method that has  been created has a method called fit that takes both the dependent and the independed variables\n",
    "logr.fit(X, y)\n",
    "\n",
    "# the object can now predicted wherether the tumor is cancerous \n",
    "predicted = logr.predict(numpy.array([2.93]).reshape(-1, 1))\n",
    "print(predicted)\n",
    "if predicted == 1:\n",
    "    print(\"The tumor will occur\")\n",
    "else:\n",
    "    print(\"The tumor wont occur!\")\n"
   ]
  }
 ],
 "metadata": {
  "kernelspec": {
   "display_name": "Python 3 (ipykernel)",
   "language": "python",
   "name": "python3"
  },
  "language_info": {
   "codemirror_mode": {
    "name": "ipython",
    "version": 3
   },
   "file_extension": ".py",
   "mimetype": "text/x-python",
   "name": "python",
   "nbconvert_exporter": "python",
   "pygments_lexer": "ipython3",
   "version": "3.9.13"
  }
 },
 "nbformat": 4,
 "nbformat_minor": 5
}
