{
 "cells": [
  {
   "cell_type": "code",
   "execution_count": 28,
   "id": "6def3096",
   "metadata": {},
   "outputs": [
    {
     "name": "stdout",
     "output_type": "stream",
     "text": [
      "[[97.07204485]]\n"
     ]
    },
    {
     "name": "stderr",
     "output_type": "stream",
     "text": [
      "C:\\ProgramData\\Anaconda3\\lib\\site-packages\\sklearn\\base.py:450: UserWarning: X does not have valid feature names, but LinearRegression was fitted with feature names\n",
      "  warnings.warn(\n"
     ]
    }
   ],
   "source": [
    "import pandas as pd\n",
    "\n",
    "# reading the csv file\n",
    "df = pd.read_csv('data.csv')\n",
    "X = df[['Weight', 'Volume']]\n",
    "y = df[['CO2']]\n",
    "\n",
    "# creating the linear regression object\n",
    "from sklearn import linear_model\n",
    "regr = linear_model.LinearRegression()\n",
    "regr.fit(X,y)\n",
    "\n",
    "# now  there is a linear regression model that is ready to predict the CO2 values based on volume and weight\n",
    "\n",
    "#predicting a car of weight 2300kgs and 1300cm3 liter engine\n",
    "predicted_CO2 = regr.predict([[2300, 1.3]])\n",
    "print(predicted_CO2)\n",
    "\n"
   ]
  },
  {
   "cell_type": "code",
   "execution_count": 25,
   "id": "0ea3dea1",
   "metadata": {},
   "outputs": [
    {
     "name": "stdout",
     "output_type": "stream",
     "text": [
      "cofficient = [[0.00755095 0.00780526]]\n",
      "[[114.75968007]]\n",
      "114.75968280000001\n"
     ]
    },
    {
     "name": "stderr",
     "output_type": "stream",
     "text": [
      "C:\\ProgramData\\Anaconda3\\lib\\site-packages\\sklearn\\base.py:450: UserWarning: X does not have valid feature names, but LinearRegression was fitted with feature names\n",
      "  warnings.warn(\n"
     ]
    }
   ],
   "source": [
    "# coefficient\n",
    "\n",
    "import pandas as pd\n",
    "\n",
    "# reading the csv file\n",
    "df = pd.read_csv('data.csv')\n",
    "X = df[['Weight', 'Volume']]\n",
    "y = df[['CO2']]\n",
    "\n",
    "# creating the linear regression object\n",
    "from sklearn import linear_model\n",
    "regr = linear_model.LinearRegression()\n",
    "regr.fit(X,y)\n",
    "\n",
    "# checking the coefficient\n",
    "print(f\"cofficient = {regr.coef_}\")\n",
    "\n",
    "predicted_CO = regr.predict([[3300, 1300]])\n",
    "print(predicted_CO)\n",
    "print(f\"{107.2087328 + (1000.00000 * 0.00755095)}\")\n"
   ]
  },
  {
   "cell_type": "code",
   "execution_count": null,
   "id": "3c5584b3",
   "metadata": {},
   "outputs": [],
   "source": []
  }
 ],
 "metadata": {
  "kernelspec": {
   "display_name": "Python 3 (ipykernel)",
   "language": "python",
   "name": "python3"
  },
  "language_info": {
   "codemirror_mode": {
    "name": "ipython",
    "version": 3
   },
   "file_extension": ".py",
   "mimetype": "text/x-python",
   "name": "python",
   "nbconvert_exporter": "python",
   "pygments_lexer": "ipython3",
   "version": "3.9.13"
  }
 },
 "nbformat": 4,
 "nbformat_minor": 5
}
