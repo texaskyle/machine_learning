{
 "cells": [
  {
   "cell_type": "code",
   "execution_count": 6,
   "id": "7ebe172a",
   "metadata": {},
   "outputs": [
    {
     "name": "stdout",
     "output_type": "stream",
     "text": [
      "python: 3.9.13 (main, Aug 25 2022, 23:51:50) [MSC v.1916 64 bit (AMD64)]\n",
      "pandas: 1.4.4\n",
      "numpy: 1.21.5\n",
      "scipy: 1.9.1\n",
      "matplotlib: 3.5.2\n",
      "sklearn: 1.0.2\n"
     ]
    }
   ],
   "source": [
    "import sys\n",
    "print(f\"python: {sys.version}\")\n",
    "\n",
    "import pandas\n",
    "print(f\"pandas: {pandas.__version__}\")\n",
    "\n",
    "import numpy\n",
    "print(f\"numpy: {numpy.__version__}\")\n",
    "\n",
    "import scipy\n",
    "print(f\"scipy: {scipy.__version__}\")\n",
    "\n",
    "import matplotlib\n",
    "print(f\"matplotlib: {matplotlib.__version__}\")\n",
    "\n",
    "import sklearn\n",
    "print(f\"sklearn: {sklearn.__version__}\")"
   ]
  },
  {
   "cell_type": "code",
   "execution_count": null,
   "id": "eb1b9ab5",
   "metadata": {},
   "outputs": [],
   "source": []
  }
 ],
 "metadata": {
  "kernelspec": {
   "display_name": "Python 3 (ipykernel)",
   "language": "python",
   "name": "python3"
  },
  "language_info": {
   "codemirror_mode": {
    "name": "ipython",
    "version": 3
   },
   "file_extension": ".py",
   "mimetype": "text/x-python",
   "name": "python",
   "nbconvert_exporter": "python",
   "pygments_lexer": "ipython3",
   "version": "3.9.13"
  }
 },
 "nbformat": 4,
 "nbformat_minor": 5
}
