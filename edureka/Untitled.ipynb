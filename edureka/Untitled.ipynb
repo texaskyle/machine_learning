{
 "cells": [
  {
   "cell_type": "code",
   "execution_count": 2,
   "id": "2a98b5e8",
   "metadata": {},
   "outputs": [
    {
     "name": "stdout",
     "output_type": "stream",
     "text": [
      "7.0\n",
      "4.0\n"
     ]
    }
   ],
   "source": [
    "a = 4 + 7j\n",
    "type(a)\n",
    "\n",
    "print(a.imag)\n",
    "print(a.real)\n"
   ]
  },
  {
   "cell_type": "code",
   "execution_count": 4,
   "id": "62967b70",
   "metadata": {},
   "outputs": [
    {
     "name": "stdout",
     "output_type": "stream",
     "text": [
      "My name is ng'ang'a\n"
     ]
    }
   ],
   "source": [
    "name = 'My name is ng\\'ang\\'a'\n",
    "print(name)"
   ]
  },
  {
   "cell_type": "code",
   "execution_count": 7,
   "id": "48a87a9d",
   "metadata": {},
   "outputs": [
    {
     "data": {
      "text/plain": [
       "'a'"
      ]
     },
     "execution_count": 7,
     "metadata": {},
     "output_type": "execute_result"
    }
   ],
   "source": [
    "id(name)\n",
    "name[0]\n",
    "name[-1]"
   ]
  },
  {
   "cell_type": "code",
   "execution_count": 1,
   "id": "a58fd59f",
   "metadata": {},
   "outputs": [
    {
     "data": {
      "text/plain": [
       "list"
      ]
     },
     "execution_count": 1,
     "metadata": {},
     "output_type": "execute_result"
    }
   ],
   "source": [
    "c=[]\n",
    "type(c)"
   ]
  },
  {
   "cell_type": "code",
   "execution_count": 17,
   "id": "58b2b0ea",
   "metadata": {},
   "outputs": [
    {
     "data": {
      "text/plain": [
       "'kezz'"
      ]
     },
     "execution_count": 17,
     "metadata": {},
     "output_type": "execute_result"
    }
   ],
   "source": [
    "a = [1, 2, 3, \"evans\", \"lucy\", 3.67, 3+4j, [2, 7, 4+6j, 'kezz']]\n",
    "a[-1]\n",
    "type(a[-1])\n",
    "\n",
    "a[-1][-1]"
   ]
  },
  {
   "cell_type": "code",
   "execution_count": 16,
   "id": "0abf7217",
   "metadata": {},
   "outputs": [
    {
     "data": {
      "text/plain": [
       "6"
      ]
     },
     "execution_count": 16,
     "metadata": {},
     "output_type": "execute_result"
    }
   ],
   "source": [
    "b = [[1,2,3], [4,5,6]]\n",
    "b[1][-1]"
   ]
  },
  {
   "cell_type": "code",
   "execution_count": 19,
   "id": "6e42eddf",
   "metadata": {},
   "outputs": [
    {
     "data": {
      "text/plain": [
       "'evans k'"
      ]
     },
     "execution_count": 19,
     "metadata": {},
     "output_type": "execute_result"
    }
   ],
   "source": [
    "s= \"evans kiarie\"\n",
    "s[0:-5:1]"
   ]
  },
  {
   "cell_type": "markdown",
   "id": "280cbfad",
   "metadata": {},
   "source": [
    "## range"
   ]
  },
  {
   "cell_type": "code",
   "execution_count": 22,
   "id": "5d75ab59",
   "metadata": {},
   "outputs": [
    {
     "data": {
      "text/plain": [
       "[0, 1, 2, 3, 4, 5, 6, 7, 8, 9]"
      ]
     },
     "execution_count": 22,
     "metadata": {},
     "output_type": "execute_result"
    }
   ],
   "source": [
    "range(10)\n",
    "list(range(10))"
   ]
  },
  {
   "cell_type": "code",
   "execution_count": 24,
   "id": "9e825ebe",
   "metadata": {},
   "outputs": [
    {
     "data": {
      "text/plain": [
       "[10, 9, 8, 7, 6, 5, 4]"
      ]
     },
     "execution_count": 24,
     "metadata": {},
     "output_type": "execute_result"
    }
   ],
   "source": [
    "# reverse\n",
    "list(range(10, 3, -1))"
   ]
  }
 ],
 "metadata": {
  "kernelspec": {
   "display_name": "Python 3 (ipykernel)",
   "language": "python",
   "name": "python3"
  },
  "language_info": {
   "codemirror_mode": {
    "name": "ipython",
    "version": 3
   },
   "file_extension": ".py",
   "mimetype": "text/x-python",
   "name": "python",
   "nbconvert_exporter": "python",
   "pygments_lexer": "ipython3",
   "version": "3.9.13"
  }
 },
 "nbformat": 4,
 "nbformat_minor": 5
}
