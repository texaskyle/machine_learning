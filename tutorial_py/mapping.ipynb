{
 "cells": [
  {
   "cell_type": "code",
   "execution_count": 13,
   "id": "dd351c26",
   "metadata": {},
   "outputs": [],
   "source": [
    "l = [2,4,7,5,3,8,9,5,3,45,6,75]\n",
    "m = []\n",
    "def square(n):\n",
    "    return n**2\n",
    "    \n",
    "for i in l:\n",
    "    m.append(square(i))\n",
    "    \n",
    "\n"
   ]
  },
  {
   "cell_type": "code",
   "execution_count": 15,
   "id": "949f243c",
   "metadata": {},
   "outputs": [
    {
     "data": {
      "text/plain": [
       "[9, 16, 2809, 4, 36, 49, 9, 484, 16, 36, 5776, 4356, 3025, 1089]"
      ]
     },
     "execution_count": 15,
     "metadata": {},
     "output_type": "execute_result"
    }
   ],
   "source": [
    "a = [3,4,53,2,6,7,3,22,4,6,76,66,55,33]\n",
    "b = []\n",
    "\n",
    "# using a list comprehesion\n",
    "[square(i) for i in a]"
   ]
  },
  {
   "cell_type": "code",
   "execution_count": 21,
   "id": "26667a83",
   "metadata": {},
   "outputs": [
    {
     "name": "stdout",
     "output_type": "stream",
     "text": [
      "[27, 64, 125, 250047, 125, 216, 512, 216, 64, 343, 857375, 13824, 274625, 175616]"
     ]
    }
   ],
   "source": [
    "# using a map function\n",
    "# map(func, *iterables)\n",
    "def cube(n):\n",
    "    return n**3\n",
    "\n",
    "#list \n",
    "l = [3,4,5,63,5,6,8,6,4,7,95,24,65,56]\n",
    "\n",
    "# suing the map function and cast the map to a list\n",
    "a = list(map(cube, l))\n",
    "print(a, end=\"\")\n",
    "\n"
   ]
  },
  {
   "cell_type": "code",
   "execution_count": 52,
   "id": "e6574ee6",
   "metadata": {},
   "outputs": [
    {
     "name": "stdout",
     "output_type": "stream",
     "text": [
      "{3: 9, 4: 16, 5: 25, 63: 3969, 6: 36, 8: 64, 7: 49, 95: 9025, 24: 576, 65: 4225, 56: 3136}\n",
      "3 9\n",
      "4 16\n",
      "5 25\n",
      "63 3969\n",
      "6 36\n",
      "8 64\n",
      "7 49\n",
      "95 9025\n",
      "24 576\n",
      "65 4225\n",
      "56 3136\n"
     ]
    }
   ],
   "source": [
    "f = [3,4,5,63,5,6,8,6,4,7,95,24,65,56]\n",
    "for i in f:\n",
    "    l = list(map(square, f))\n",
    "\n",
    "    \n",
    "# using a zip function to from a dictonary\n",
    "my_dict = {k:v for k,v in zip(f, l)}\n",
    "    \n",
    "    \n",
    "print(my_dict)\n",
    "\n",
    "for key, value in my_dict.items():\n",
    "    print(key, value)\n"
   ]
  },
  {
   "cell_type": "code",
   "execution_count": 61,
   "id": "9184f916",
   "metadata": {},
   "outputs": [
    {
     "data": {
      "text/plain": [
       "[4, 16, 36, 16, 9, 36, 64, 9604, 2025, 1089]"
      ]
     },
     "execution_count": 61,
     "metadata": {},
     "output_type": "execute_result"
    }
   ],
   "source": [
    "# using a lambda function to find the square\n",
    "l = [2,4,6,4,3,6,8,98,45,33]\n",
    "list(map(lambda x: x**2, l))"
   ]
  },
  {
   "cell_type": "code",
   "execution_count": 76,
   "id": "994b5523",
   "metadata": {},
   "outputs": [
    {
     "name": "stdout",
     "output_type": "stream",
     "text": [
      "[11, 16, 14, 51, 22, 14]\n"
     ]
    }
   ],
   "source": [
    "a  = [2,3,4,8,6,4]\n",
    "b = [4,6,7,39,7,3,6]\n",
    "c = [5,7,3,4,9,7,2,4,5,68,1,4,6]\n",
    "\n",
    "m  = zip(a,b,c)\n",
    "\n",
    "\n",
    "\n",
    "s = list(map(lambda x:sum(x), m))\n",
    "print(s)"
   ]
  },
  {
   "cell_type": "code",
   "execution_count": 74,
   "id": "802806a8",
   "metadata": {},
   "outputs": [
    {
     "data": {
      "text/plain": [
       "[11, 16, 14, 51, 22, 14]"
      ]
     },
     "execution_count": 74,
     "metadata": {},
     "output_type": "execute_result"
    }
   ],
   "source": [
    "a  = [2,3,4,8,6,4]\n",
    "b = [4,6,7,39,7,3,6]\n",
    "c = [5,7,3,4,9,7,2,4,5,68,1,4,6]\n",
    "\n",
    "def summation(a,b,c):\n",
    "    return a+b+c\n",
    "\n",
    "list(map(summation, a,b,c ))"
   ]
  },
  {
   "cell_type": "code",
   "execution_count": 77,
   "id": "c9c819fc",
   "metadata": {},
   "outputs": [
    {
     "data": {
      "text/plain": [
       "[11, 16, 14, 51, 22, 14]"
      ]
     },
     "execution_count": 77,
     "metadata": {},
     "output_type": "execute_result"
    }
   ],
   "source": [
    "list(map(lambda x,y,z: x+y+z, a,b,c))"
   ]
  },
  {
   "cell_type": "code",
   "execution_count": 7,
   "id": "25d3f863",
   "metadata": {},
   "outputs": [
    {
     "data": {
      "text/plain": [
       "[6, 10]"
      ]
     },
     "execution_count": 7,
     "metadata": {},
     "output_type": "execute_result"
    }
   ],
   "source": [
    "n = [3,5,7,9,5]\n",
    "m = [3,5]\n",
    "def summation(x,y):\n",
    "    return x+y\n",
    "\n",
    "list(map(summation, n,m))"
   ]
  },
  {
   "cell_type": "markdown",
   "id": "1db9965e",
   "metadata": {},
   "source": [
    "## reduce"
   ]
  },
  {
   "cell_type": "code",
   "execution_count": 11,
   "id": "22936f33",
   "metadata": {},
   "outputs": [
    {
     "data": {
      "text/plain": [
       "32"
      ]
     },
     "execution_count": 11,
     "metadata": {},
     "output_type": "execute_result"
    }
   ],
   "source": [
    "from functools import reduce\n",
    "\n",
    "#list\n",
    "l = [3,6,7,8,3,5]\n",
    "\n",
    "#external function\n",
    "def summation(x, y):\n",
    "    return x+y\n",
    "reduce(summation, l)"
   ]
  },
  {
   "cell_type": "code",
   "execution_count": 13,
   "id": "22571e9c",
   "metadata": {},
   "outputs": [
    {
     "data": {
      "text/plain": [
       "44"
      ]
     },
     "execution_count": 13,
     "metadata": {},
     "output_type": "execute_result"
    }
   ],
   "source": [
    "# reduce using a lambda function\n",
    "from functools import reduce\n",
    "#list\n",
    "m = [5,7,4,3,6,9,3,7]\n",
    "reduce(lambda x,y:x+y, m)"
   ]
  },
  {
   "cell_type": "markdown",
   "id": "e8d6a072",
   "metadata": {},
   "source": [
    "## filter"
   ]
  },
  {
   "cell_type": "code",
   "execution_count": 19,
   "id": "2fa47fc9",
   "metadata": {},
   "outputs": [
    {
     "data": {
      "text/plain": [
       "[4, 6, 4, 2, 6, 8]"
      ]
     },
     "execution_count": 19,
     "metadata": {},
     "output_type": "execute_result"
    }
   ],
   "source": [
    "# using an external function\n",
    "def is_even(n):\n",
    "    if n % 2 == 0:\n",
    "        return True\n",
    "    else:\n",
    "        return False\n",
    "    \n",
    "    \n",
    "l = [4,6,5,7,4,3,2,6,8]    \n",
    "list(filter(is_even, l))\n",
    "    \n"
   ]
  },
  {
   "cell_type": "code",
   "execution_count": 24,
   "id": "7cae5019",
   "metadata": {},
   "outputs": [
    {
     "data": {
      "text/plain": [
       "[7, 3, 93, 79]"
      ]
     },
     "execution_count": 24,
     "metadata": {},
     "output_type": "execute_result"
    }
   ],
   "source": [
    "# using an inbuild function to find only the odd numbers\n",
    "m = [6,7,3,6,93,79,42,6,8]\n",
    "\n",
    "list(filter(lambda x: x%2 !=0, m))"
   ]
  }
 ],
 "metadata": {
  "kernelspec": {
   "display_name": "Python 3 (ipykernel)",
   "language": "python",
   "name": "python3"
  },
  "language_info": {
   "codemirror_mode": {
    "name": "ipython",
    "version": 3
   },
   "file_extension": ".py",
   "mimetype": "text/x-python",
   "name": "python",
   "nbconvert_exporter": "python",
   "pygments_lexer": "ipython3",
   "version": "3.9.13"
  }
 },
 "nbformat": 4,
 "nbformat_minor": 5
}
