{
 "cells": [
  {
   "cell_type": "code",
   "execution_count": 46,
   "id": "e0dd2485",
   "metadata": {},
   "outputs": [],
   "source": [
    "import pandas as pd"
   ]
  },
  {
   "cell_type": "code",
   "execution_count": 59,
   "id": "5171360b",
   "metadata": {},
   "outputs": [
    {
     "data": {
      "text/plain": [
       "DatetimeIndex(['2000-01-01 00:00:00', '2003-07-02 12:00:00',\n",
       "               '2007-01-01 00:00:00', '2010-07-02 12:00:00',\n",
       "               '2014-01-01 00:00:00', '2017-07-02 12:00:00',\n",
       "               '2021-01-01 00:00:00'],\n",
       "              dtype='datetime64[ns]', freq=None)"
      ]
     },
     "execution_count": 59,
     "metadata": {},
     "output_type": "execute_result"
    }
   ],
   "source": [
    "dates = pd.date_range('1/1/2000','1/1/2021', periods=7)\n",
    "dates"
   ]
  },
  {
   "cell_type": "code",
   "execution_count": 48,
   "id": "0ec2e785",
   "metadata": {},
   "outputs": [
    {
     "data": {
      "text/plain": [
       "2000-01-01 00:00:00    0\n",
       "2003-07-02 12:00:00    1\n",
       "2007-01-01 00:00:00    2\n",
       "2010-07-02 12:00:00    3\n",
       "2014-01-01 00:00:00    4\n",
       "2017-07-02 12:00:00    5\n",
       "2021-01-01 00:00:00    6\n",
       "dtype: int32"
      ]
     },
     "execution_count": 48,
     "metadata": {},
     "output_type": "execute_result"
    }
   ],
   "source": [
    "import numpy as np\n",
    "ts = pd.Series(np.arange(7), index=dates)\n",
    "ts"
   ]
  },
  {
   "cell_type": "code",
   "execution_count": 49,
   "id": "2bf9f3be",
   "metadata": {},
   "outputs": [],
   "source": [
    "# storing a data to a file\n",
    "tmseries = ts.to_csv('C:/Users/charles/Desktop/Jupiter/tutorial_py/pandas/tmseries.csv', sep=',')\n"
   ]
  },
  {
   "cell_type": "code",
   "execution_count": 50,
   "id": "6accdc0f",
   "metadata": {},
   "outputs": [
    {
     "data": {
      "text/html": [
       "<div>\n",
       "<style scoped>\n",
       "    .dataframe tbody tr th:only-of-type {\n",
       "        vertical-align: middle;\n",
       "    }\n",
       "\n",
       "    .dataframe tbody tr th {\n",
       "        vertical-align: top;\n",
       "    }\n",
       "\n",
       "    .dataframe thead th {\n",
       "        text-align: right;\n",
       "    }\n",
       "</style>\n",
       "<table border=\"1\" class=\"dataframe\">\n",
       "  <thead>\n",
       "    <tr style=\"text-align: right;\">\n",
       "      <th></th>\n",
       "      <th>Position</th>\n",
       "      <th>Name</th>\n",
       "      <th>Class</th>\n",
       "      <th>Subject</th>\n",
       "    </tr>\n",
       "  </thead>\n",
       "  <tbody>\n",
       "    <tr>\n",
       "      <th>0</th>\n",
       "      <td>1</td>\n",
       "      <td>lucy</td>\n",
       "      <td>1N</td>\n",
       "      <td>Maths</td>\n",
       "    </tr>\n",
       "    <tr>\n",
       "      <th>1</th>\n",
       "      <td>2</td>\n",
       "      <td>Evans</td>\n",
       "      <td>1M</td>\n",
       "      <td>science</td>\n",
       "    </tr>\n",
       "    <tr>\n",
       "      <th>2</th>\n",
       "      <td></td>\n",
       "      <td>Njoro</td>\n",
       "      <td></td>\n",
       "      <td>Physics</td>\n",
       "    </tr>\n",
       "    <tr>\n",
       "      <th>3</th>\n",
       "      <td>4</td>\n",
       "      <td>Jane</td>\n",
       "      <td>4j</td>\n",
       "      <td>CRE</td>\n",
       "    </tr>\n",
       "    <tr>\n",
       "      <th>4</th>\n",
       "      <td>5</td>\n",
       "      <td>njogu</td>\n",
       "      <td></td>\n",
       "      <td>comp</td>\n",
       "    </tr>\n",
       "  </tbody>\n",
       "</table>\n",
       "</div>"
      ],
      "text/plain": [
       "  Position   Name Class  Subject\n",
       "0        1   lucy    1N    Maths\n",
       "1        2  Evans    1M  science\n",
       "2           Njoro        Physics\n",
       "3        4   Jane    4j      CRE\n",
       "4        5  njogu           comp"
      ]
     },
     "execution_count": 50,
     "metadata": {},
     "output_type": "execute_result"
    }
   ],
   "source": [
    "data = pd.DataFrame([[1,'lucy', '1N', 'Maths'],\n",
    "             [2, 'Evans', '1M', 'science'],\n",
    "             ['', 'Njoro', '', 'Physics'],\n",
    "             [4, 'Jane', '4j', 'CRE'],\n",
    "                    [5, 'njogu', '', 'comp']],\n",
    "            columns=['Position', 'Name', 'Class', 'Subject'],)\n",
    "data"
   ]
  },
  {
   "cell_type": "code",
   "execution_count": 51,
   "id": "75fe48b2",
   "metadata": {},
   "outputs": [
    {
     "data": {
      "text/plain": [
       "pandas.core.indexes.datetimes.DatetimeIndex"
      ]
     },
     "execution_count": 51,
     "metadata": {},
     "output_type": "execute_result"
    }
   ],
   "source": [
    "dates = pd.date_range('1/1/2000', '1/1/2005', periods=5)\n",
    "type(dates)"
   ]
  },
  {
   "cell_type": "code",
   "execution_count": 52,
   "id": "c75c0d34",
   "metadata": {},
   "outputs": [
    {
     "name": "stdout",
     "output_type": "stream",
     "text": [
      "successful!\n"
     ]
    }
   ],
   "source": [
    "try:\n",
    "    data.to_csv('C:/Users/charles/Desktop/Jupiter/tutorial_py/pandas/class_position.csv', index= False, na_rep='NULL', sep='@')\n",
    "except PermissionError as e:\n",
    "    print(e)\n",
    "else:\n",
    "    print(\"successful!\")"
   ]
  },
  {
   "cell_type": "code",
   "execution_count": 53,
   "id": "c5ae6ee1",
   "metadata": {},
   "outputs": [
    {
     "data": {
      "text/html": [
       "<div>\n",
       "<style scoped>\n",
       "    .dataframe tbody tr th:only-of-type {\n",
       "        vertical-align: middle;\n",
       "    }\n",
       "\n",
       "    .dataframe tbody tr th {\n",
       "        vertical-align: top;\n",
       "    }\n",
       "\n",
       "    .dataframe thead th {\n",
       "        text-align: right;\n",
       "    }\n",
       "</style>\n",
       "<table border=\"1\" class=\"dataframe\">\n",
       "  <thead>\n",
       "    <tr style=\"text-align: right;\">\n",
       "      <th></th>\n",
       "      <th>Position</th>\n",
       "      <th>Name</th>\n",
       "      <th>Class</th>\n",
       "      <th>Subject</th>\n",
       "      <th>dates</th>\n",
       "    </tr>\n",
       "  </thead>\n",
       "  <tbody>\n",
       "    <tr>\n",
       "      <th>0</th>\n",
       "      <td>1.0</td>\n",
       "      <td>lucy</td>\n",
       "      <td>1N</td>\n",
       "      <td>Maths</td>\n",
       "      <td>2000-01-01 00:00:00</td>\n",
       "    </tr>\n",
       "    <tr>\n",
       "      <th>1</th>\n",
       "      <td>2.0</td>\n",
       "      <td>Evans</td>\n",
       "      <td>1M</td>\n",
       "      <td>science</td>\n",
       "      <td>2001-04-01 18:00:00</td>\n",
       "    </tr>\n",
       "    <tr>\n",
       "      <th>2</th>\n",
       "      <td>NaN</td>\n",
       "      <td>Njoro</td>\n",
       "      <td>NaN</td>\n",
       "      <td>Physics</td>\n",
       "      <td>2002-07-02 12:00:00</td>\n",
       "    </tr>\n",
       "    <tr>\n",
       "      <th>3</th>\n",
       "      <td>4.0</td>\n",
       "      <td>Jane</td>\n",
       "      <td>4j</td>\n",
       "      <td>CRE</td>\n",
       "      <td>2003-10-02 06:00:00</td>\n",
       "    </tr>\n",
       "    <tr>\n",
       "      <th>4</th>\n",
       "      <td>5.0</td>\n",
       "      <td>njogu</td>\n",
       "      <td>NaN</td>\n",
       "      <td>comp</td>\n",
       "      <td>2005-01-01 00:00:00</td>\n",
       "    </tr>\n",
       "  </tbody>\n",
       "</table>\n",
       "</div>"
      ],
      "text/plain": [
       "   Position   Name Class  Subject               dates\n",
       "0       1.0   lucy    1N    Maths 2000-01-01 00:00:00\n",
       "1       2.0  Evans    1M  science 2001-04-01 18:00:00\n",
       "2       NaN  Njoro   NaN  Physics 2002-07-02 12:00:00\n",
       "3       4.0   Jane    4j      CRE 2003-10-02 06:00:00\n",
       "4       5.0  njogu   NaN     comp 2005-01-01 00:00:00"
      ]
     },
     "execution_count": 53,
     "metadata": {},
     "output_type": "execute_result"
    }
   ],
   "source": [
    "data1 = pd.read_csv(\"C:\\\\Users\\\\charles\\\\Desktop\\\\Jupiter\\\\tutorial_py\\\\pandas\\\\class_position.csv\", sep='@')\n",
    "data1['dates'] = dates\n",
    "data1"
   ]
  },
  {
   "cell_type": "code",
   "execution_count": 54,
   "id": "44d1526c",
   "metadata": {},
   "outputs": [
    {
     "name": "stdout",
     "output_type": "stream",
     "text": [
      "successful!\n"
     ]
    }
   ],
   "source": [
    "try:\n",
    "    data1.to_csv('C:/Users/charles/Desktop/Jupiter/tutorial_py/pandas/class_position1.csv', index= False, na_rep='NULL', sep='@')\n",
    "except PermissionError as e:\n",
    "    print(e)\n",
    "else:\n",
    "    print(\"successful!\")"
   ]
  },
  {
   "cell_type": "code",
   "execution_count": 55,
   "id": "632e827d",
   "metadata": {},
   "outputs": [
    {
     "data": {
      "text/html": [
       "<div>\n",
       "<style scoped>\n",
       "    .dataframe tbody tr th:only-of-type {\n",
       "        vertical-align: middle;\n",
       "    }\n",
       "\n",
       "    .dataframe tbody tr th {\n",
       "        vertical-align: top;\n",
       "    }\n",
       "\n",
       "    .dataframe thead th {\n",
       "        text-align: right;\n",
       "    }\n",
       "</style>\n",
       "<table border=\"1\" class=\"dataframe\">\n",
       "  <thead>\n",
       "    <tr style=\"text-align: right;\">\n",
       "      <th></th>\n",
       "      <th>Position</th>\n",
       "      <th>Name</th>\n",
       "      <th>Class</th>\n",
       "      <th>Subject</th>\n",
       "    </tr>\n",
       "    <tr>\n",
       "      <th>dates</th>\n",
       "      <th></th>\n",
       "      <th></th>\n",
       "      <th></th>\n",
       "      <th></th>\n",
       "    </tr>\n",
       "  </thead>\n",
       "  <tbody>\n",
       "    <tr>\n",
       "      <th>2000-01-01 00:00:00</th>\n",
       "      <td>1.0</td>\n",
       "      <td>lucy</td>\n",
       "      <td>1N</td>\n",
       "      <td>Maths</td>\n",
       "    </tr>\n",
       "    <tr>\n",
       "      <th>2001-04-01 18:00:00</th>\n",
       "      <td>2.0</td>\n",
       "      <td>Evans</td>\n",
       "      <td>1M</td>\n",
       "      <td>science</td>\n",
       "    </tr>\n",
       "    <tr>\n",
       "      <th>2002-07-02 12:00:00</th>\n",
       "      <td>NaN</td>\n",
       "      <td>Njoro</td>\n",
       "      <td>NaN</td>\n",
       "      <td>Physics</td>\n",
       "    </tr>\n",
       "    <tr>\n",
       "      <th>2003-10-02 06:00:00</th>\n",
       "      <td>4.0</td>\n",
       "      <td>Jane</td>\n",
       "      <td>4j</td>\n",
       "      <td>CRE</td>\n",
       "    </tr>\n",
       "    <tr>\n",
       "      <th>2005-01-01 00:00:00</th>\n",
       "      <td>5.0</td>\n",
       "      <td>njogu</td>\n",
       "      <td>NaN</td>\n",
       "      <td>comp</td>\n",
       "    </tr>\n",
       "  </tbody>\n",
       "</table>\n",
       "</div>"
      ],
      "text/plain": [
       "                     Position   Name Class  Subject\n",
       "dates                                              \n",
       "2000-01-01 00:00:00       1.0   lucy    1N    Maths\n",
       "2001-04-01 18:00:00       2.0  Evans    1M  science\n",
       "2002-07-02 12:00:00       NaN  Njoro   NaN  Physics\n",
       "2003-10-02 06:00:00       4.0   Jane    4j      CRE\n",
       "2005-01-01 00:00:00       5.0  njogu   NaN     comp"
      ]
     },
     "execution_count": 55,
     "metadata": {},
     "output_type": "execute_result"
    }
   ],
   "source": [
    "data1 = pd.read_csv(\"C:\\\\Users\\\\charles\\\\Desktop\\\\Jupiter\\\\tutorial_py\\\\pandas\\\\class_position1.csv\", index_col='dates', sep='@')\n",
    "data1"
   ]
  },
  {
   "cell_type": "code",
   "execution_count": 56,
   "id": "54e7d08f",
   "metadata": {},
   "outputs": [
    {
     "name": "stdout",
     "output_type": "stream",
     "text": [
      "[(5, 4), (7, 5), (8, 7), (9, 23), (3, 5)]\n",
      "5 4\n",
      "7 5\n",
      "8 7\n",
      "9 23\n",
      "3 5\n"
     ]
    }
   ],
   "source": [
    "l1 = [5,7,8,9,3]\n",
    "l2 = [4,5,7,23,5,6]\n",
    "type(list(zip(l1,l2)))\n",
    "a = list(zip(l1,l2))\n",
    "print(a)\n",
    "for i,v in a:\n",
    "    print(i,v)\n"
   ]
  },
  {
   "cell_type": "code",
   "execution_count": 57,
   "id": "60d23a42",
   "metadata": {},
   "outputs": [
    {
     "data": {
      "text/plain": [
       "{5: 4, 7: 5, 8: 7, 9: 23, 3: 5}"
      ]
     },
     "execution_count": 57,
     "metadata": {},
     "output_type": "execute_result"
    }
   ],
   "source": [
    "\n",
    "{i:v for i,v in a}\n",
    "    \n"
   ]
  },
  {
   "cell_type": "code",
   "execution_count": 45,
   "id": "73d3dfd3",
   "metadata": {},
   "outputs": [
    {
     "data": {
      "text/plain": [
       "{5: 4, 7: 5, 8: 7, 9: 23, 3: 5}"
      ]
     },
     "execution_count": 45,
     "metadata": {},
     "output_type": "execute_result"
    }
   ],
   "source": [
    "d = {}\n",
    "for i,v in a:\n",
    "    d[i] = v\n",
    "    \n",
    "d"
   ]
  },
  {
   "cell_type": "code",
   "execution_count": 65,
   "id": "1856e586",
   "metadata": {},
   "outputs": [
    {
     "data": {
      "text/plain": [
       "{6: 36, 4: 16, 7: 49, 8: 64, 2: 4, 5: 25}"
      ]
     },
     "execution_count": 65,
     "metadata": {},
     "output_type": "execute_result"
    }
   ],
   "source": [
    "l = [6,4,6,7,8,4,2,4,5,7]\n",
    "\n",
    "l2 = list(map(lambda x: x**2, l))\n",
    "\n",
    "d = {}\n",
    "for k,v in zip(l, l2):\n",
    "    d[k]=v\n",
    "d    "
   ]
  }
 ],
 "metadata": {
  "kernelspec": {
   "display_name": "Python 3 (ipykernel)",
   "language": "python",
   "name": "python3"
  },
  "language_info": {
   "codemirror_mode": {
    "name": "ipython",
    "version": 3
   },
   "file_extension": ".py",
   "mimetype": "text/x-python",
   "name": "python",
   "nbconvert_exporter": "python",
   "pygments_lexer": "ipython3",
   "version": "3.9.13"
  }
 },
 "nbformat": 4,
 "nbformat_minor": 5
}
