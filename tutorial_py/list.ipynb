{
 "cells": [
  {
   "cell_type": "code",
   "execution_count": 11,
   "id": "e7c67d08",
   "metadata": {},
   "outputs": [
    {
     "name": "stdout",
     "output_type": "stream",
     "text": [
      "[[4, 5, 6], [4, 5, 6], [4, 5, 6]]\n"
     ]
    },
    {
     "data": {
      "text/plain": [
       "[1, 3, 57, 8, 'cat', 'dog', [4, 5, 6], [4, 5, 6], [4, 5, 6], [4, 5, 6]]"
      ]
     },
     "execution_count": 11,
     "metadata": {},
     "output_type": "execute_result"
    }
   ],
   "source": [
    "l = [1,3,57,8, \"cat\", \"dog\", [4,5,6]]\n",
    "m = []\n",
    "\n",
    "for j in l[-1]:\n",
    "        m.append(i)\n",
    "    \n",
    "print(m)    \n",
    "\n",
    "a = l+m \n",
    "a*1"
   ]
  },
  {
   "cell_type": "code",
   "execution_count": 21,
   "id": "f5c49388",
   "metadata": {},
   "outputs": [],
   "source": [
    "a = [1,2,5,6,7]\n",
    "b = \"evans\"\n",
    "\n",
    "#a + [b] # it is correct\n",
    "#a + list(b) this is also correct although the word evans will be split into the diffrent strings\n",
    "#a + list(37) # this is not correct since interger is not interable"
   ]
  },
  {
   "cell_type": "code",
   "execution_count": 23,
   "id": "f53add69",
   "metadata": {},
   "outputs": [
    {
     "data": {
      "text/plain": [
       "[2, 6, 8, 'cat', 'dog', 'evans']"
      ]
     },
     "execution_count": 23,
     "metadata": {},
     "output_type": "execute_result"
    }
   ],
   "source": [
    "a = [2, 6, 8, \"cat\", \"dog\"]\n",
    "a.append(\"evans\") # it appends this item as the last one in the list\n",
    "a.insert()"
   ]
  },
  {
   "cell_type": "code",
   "execution_count": 25,
   "id": "554eadfe",
   "metadata": {},
   "outputs": [
    {
     "data": {
      "text/plain": [
       "[1, 2, 3, 4]"
      ]
     },
     "execution_count": 25,
     "metadata": {},
     "output_type": "execute_result"
    }
   ],
   "source": [
    "a = [1,2,3,4,5]\n",
    "a.pop() # it removes the last element in the list\n",
    "a"
   ]
  },
  {
   "cell_type": "code",
   "execution_count": 29,
   "id": "fa8c21f7",
   "metadata": {},
   "outputs": [
    {
     "data": {
      "text/plain": [
       "[]"
      ]
     },
     "execution_count": 29,
     "metadata": {},
     "output_type": "execute_result"
    }
   ],
   "source": [
    "a.pop(0)\n",
    "a"
   ]
  },
  {
   "cell_type": "code",
   "execution_count": 40,
   "id": "7087c054",
   "metadata": {},
   "outputs": [
    {
     "data": {
      "text/plain": [
       "[5, 4, 3, 2, 1]"
      ]
     },
     "execution_count": 40,
     "metadata": {},
     "output_type": "execute_result"
    }
   ],
   "source": [
    "# reversing elements in a list\n",
    "a = [0,1,2,3,4,5]\n",
    "a[5:0:-1] # or\n"
   ]
  },
  {
   "cell_type": "code",
   "execution_count": 48,
   "id": "eb32f3e1",
   "metadata": {},
   "outputs": [
    {
     "data": {
      "text/plain": [
       "[5, 4, 3, 2, 1, 0]"
      ]
     },
     "execution_count": 48,
     "metadata": {},
     "output_type": "execute_result"
    }
   ],
   "source": [
    "a\n",
    "a[::-1]"
   ]
  },
  {
   "cell_type": "code",
   "execution_count": 75,
   "id": "ca1349cd",
   "metadata": {},
   "outputs": [
    {
     "data": {
      "text/plain": [
       "[0, 1, 2, 3, 4, 5]"
      ]
     },
     "execution_count": 75,
     "metadata": {},
     "output_type": "execute_result"
    }
   ],
   "source": [
    "a\n",
    "a.reverse()\n",
    "a"
   ]
  },
  {
   "cell_type": "code",
   "execution_count": 76,
   "id": "e8ee89f5",
   "metadata": {},
   "outputs": [
    {
     "name": "stdout",
     "output_type": "stream",
     "text": [
      "[0, 1, 2, 3, 4, 5]\n"
     ]
    }
   ],
   "source": [
    "print(a)"
   ]
  },
  {
   "cell_type": "code",
   "execution_count": 79,
   "id": "f28270da",
   "metadata": {},
   "outputs": [
    {
     "data": {
      "text/plain": [
       "[78, 74, 59, 40, 37, 34, 33, 20, 2]"
      ]
     },
     "execution_count": 79,
     "metadata": {},
     "output_type": "execute_result"
    }
   ],
   "source": [
    "a = [34, 2, 78, 20, 59, 40, 37, 74, 33]\n",
    "a.sort(reverse=True)\n",
    "a"
   ]
  },
  {
   "cell_type": "code",
   "execution_count": 92,
   "id": "5fef31d9",
   "metadata": {},
   "outputs": [
    {
     "data": {
      "text/plain": [
       "[[73, 42, 26, 54, 98, 78, 42, 67, 32],\n",
       " [3, 43, 86, 78, 56, 32],\n",
       " [5, 4, 3, 2, 1]]"
      ]
     },
     "execution_count": 92,
     "metadata": {},
     "output_type": "execute_result"
    }
   ],
   "source": [
    "# creating a  nested list\n",
    "a = [1,2,3,4,5]\n",
    "b  = [32,56,78,86,43,3]\n",
    "c = [32,67,42,78,98,54,26,42,73]\n",
    "d = [a,b,c]\n",
    "d[2][::2] # taking elements from the last list and performing a step of 2\n",
    "\n",
    "# reversing the lists and the elements in the list\n",
    "d[::-1]\n",
    "m = []\n",
    "for i in d[::-1]:\n",
    "    m.append(i[::-1])\n",
    "    \n",
    "m\n"
   ]
  },
  {
   "cell_type": "code",
   "execution_count": 96,
   "id": "9fb35058",
   "metadata": {},
   "outputs": [
    {
     "name": "stdout",
     "output_type": "stream",
     "text": [
      "[26, 86, 3]\n"
     ]
    }
   ],
   "source": [
    "# getting a second elemnt from every list\n",
    "n = []\n",
    "for i in m:\n",
    "    n.append(i[2])\n",
    "print(n)"
   ]
  },
  {
   "cell_type": "code",
   "execution_count": 11,
   "id": "b0c902b8",
   "metadata": {},
   "outputs": [
    {
     "name": "stdout",
     "output_type": "stream",
     "text": [
      "a append =       ['a', 'b', 'c', 'd', 3, 4, 5, ['cats', 'dogs']]\n",
      "c extend =       ['cats', 'dogs', 'a', 'b', 'c', 'd', 3, 4, 5]\n"
     ]
    }
   ],
   "source": [
    "# extend\n",
    "a = [\"a\",\"b\",\"c\",\"d\",3,4,5]\n",
    "b = [\"cats\", \"dogs\"]\n",
    "\n",
    "# append\n",
    "a.append(b)     # it appends the data as it is\n",
    "print(f\"a append =       {a}\")\n",
    "\n",
    "# extend\n",
    "c = [\"a\",\"b\",\"c\",\"d\",3,4,5]\n",
    "d = [\"cats\", \"dogs\"]\n",
    "d.extend(c)        # it unwraps the data to form another list\n",
    "print(f\"c extend =       {d}\")"
   ]
  },
  {
   "cell_type": "code",
   "execution_count": 2,
   "id": "0031f6bf",
   "metadata": {},
   "outputs": [
    {
     "data": {
      "text/plain": [
       "7"
      ]
     },
     "execution_count": 2,
     "metadata": {},
     "output_type": "execute_result"
    }
   ],
   "source": [
    "# index\n",
    "m  = [1,2,3,6,3,6,7,6]\n",
    "m.index(6, 6,8)"
   ]
  },
  {
   "cell_type": "code",
   "execution_count": 5,
   "id": "9a7a0d0c",
   "metadata": {},
   "outputs": [
    {
     "name": "stdout",
     "output_type": "stream",
     "text": [
      "[1, 2, 3, 3, 7, 6]\n"
     ]
    }
   ],
   "source": [
    "m\n",
    "m.remove(6)\n",
    "print(m)"
   ]
  },
  {
   "cell_type": "code",
   "execution_count": 7,
   "id": "f1bbc846",
   "metadata": {},
   "outputs": [
    {
     "name": "stdout",
     "output_type": "stream",
     "text": [
      "[2, 3, 4, 7, 8, 4, 32]\n"
     ]
    }
   ],
   "source": [
    "# removing all the occurences of 6\n",
    "m  = [2,3,4,6,7,6,8,6,4,32,6]\n",
    "\n",
    "for i in m:\n",
    "    if i == 6:\n",
    "        m.remove(6)\n",
    "print(m)"
   ]
  },
  {
   "cell_type": "code",
   "execution_count": 72,
   "id": "f7d2d7ed",
   "metadata": {},
   "outputs": [
    {
     "name": "stdout",
     "output_type": "stream",
     "text": [
      "[2, 8, 4, 8, 5, 6, 7, 8, [4, 8, 3, 8, 3, 2, 8]]\n"
     ]
    }
   ],
   "source": [
    "   "
   ]
  },
  {
   "cell_type": "code",
   "execution_count": 3,
   "id": "2a39e870",
   "metadata": {},
   "outputs": [
    {
     "name": "stdout",
     "output_type": "stream",
     "text": [
      "6\n",
      "12\n",
      "18\n"
     ]
    }
   ],
   "source": [
    "# list comprehension\n",
    "m = [[1,2,3,4], [4,5,6], [7,8,9,10]]\n",
    "# taking the second data in every index\n",
    "for i in m:\n",
    "    print(i[2]*2)"
   ]
  },
  {
   "cell_type": "code",
   "execution_count": 9,
   "id": "9d78f5e1",
   "metadata": {},
   "outputs": [
    {
     "name": "stdout",
     "output_type": "stream",
     "text": [
      "6\n",
      "12\n",
      "18\n"
     ]
    },
    {
     "data": {
      "text/plain": [
       "[None, None, None]"
      ]
     },
     "execution_count": 9,
     "metadata": {},
     "output_type": "execute_result"
    }
   ],
   "source": [
    "[print(a) for a in [i[2]*2 for i in m]]"
   ]
  }
 ],
 "metadata": {
  "kernelspec": {
   "display_name": "Python 3 (ipykernel)",
   "language": "python",
   "name": "python3"
  },
  "language_info": {
   "codemirror_mode": {
    "name": "ipython",
    "version": 3
   },
   "file_extension": ".py",
   "mimetype": "text/x-python",
   "name": "python",
   "nbconvert_exporter": "python",
   "pygments_lexer": "ipython3",
   "version": "3.9.13"
  }
 },
 "nbformat": 4,
 "nbformat_minor": 5
}
