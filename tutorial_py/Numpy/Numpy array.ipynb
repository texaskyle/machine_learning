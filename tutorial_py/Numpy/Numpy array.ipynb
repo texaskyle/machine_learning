{
 "cells": [
  {
   "cell_type": "code",
   "execution_count": 11,
   "id": "a8841729",
   "metadata": {},
   "outputs": [
    {
     "data": {
      "text/plain": [
       "array(['1', '2', '3', 'evans'], dtype='<U11')"
      ]
     },
     "execution_count": 11,
     "metadata": {},
     "output_type": "execute_result"
    }
   ],
   "source": [
    "import numpy as np\n",
    "# normal list\n",
    "l = [1,2,3,'evans']\n",
    "# array\n",
    "np.array([1,2,3,'evans'])\n"
   ]
  },
  {
   "cell_type": "code",
   "execution_count": 12,
   "id": "d9826115",
   "metadata": {},
   "outputs": [
    {
     "data": {
      "text/plain": [
       "numpy.ndarray"
      ]
     },
     "execution_count": 12,
     "metadata": {},
     "output_type": "execute_result"
    }
   ],
   "source": [
    "type(np.array([1,2,3,'evans']))"
   ]
  },
  {
   "cell_type": "code",
   "execution_count": 13,
   "id": "a73fe99b",
   "metadata": {},
   "outputs": [
    {
     "data": {
      "text/plain": [
       "array([1., 2., 3.])"
      ]
     },
     "execution_count": 13,
     "metadata": {},
     "output_type": "execute_result"
    }
   ],
   "source": [
    "# upcasting\n",
    "np.array([1,2,3.0])"
   ]
  },
  {
   "cell_type": "code",
   "execution_count": 14,
   "id": "96b0783a",
   "metadata": {},
   "outputs": [
    {
     "data": {
      "text/plain": [
       "array([[1, 2],\n",
       "       [9, 5]])"
      ]
     },
     "execution_count": 14,
     "metadata": {},
     "output_type": "execute_result"
    }
   ],
   "source": [
    "# Two dimension\n",
    "np.array([[1,2],[9,5]])"
   ]
  },
  {
   "cell_type": "code",
   "execution_count": 15,
   "id": "fec742ce",
   "metadata": {},
   "outputs": [
    {
     "data": {
      "text/plain": [
       "array([[[4, 5]]])"
      ]
     },
     "execution_count": 15,
     "metadata": {},
     "output_type": "execute_result"
    }
   ],
   "source": [
    "# minimum dimension\n",
    "np.array([4,5], ndmin=3) # this is a three dimensional list"
   ]
  },
  {
   "cell_type": "code",
   "execution_count": 16,
   "id": "f7b2774b",
   "metadata": {},
   "outputs": [
    {
     "data": {
      "text/plain": [
       "array([[[[1, 5, 'evans']]]], dtype=object)"
      ]
     },
     "execution_count": 16,
     "metadata": {},
     "output_type": "execute_result"
    }
   ],
   "source": [
    "# dtype \n",
    "np.array([1,5, 'evans'], dtype=object, ndmin=4)"
   ]
  },
  {
   "cell_type": "code",
   "execution_count": 17,
   "id": "8e8aad11",
   "metadata": {},
   "outputs": [
    {
     "data": {
      "text/plain": [
       "array([[[[[1.+0.j, 3.+0.j],\n",
       "          [6.+0.j, 5.+0.j]]]]])"
      ]
     },
     "execution_count": 17,
     "metadata": {},
     "output_type": "execute_result"
    }
   ],
   "source": [
    "np.array([[1,3], [6,5]], dtype=complex, ndmin=5 )"
   ]
  },
  {
   "cell_type": "code",
   "execution_count": 18,
   "id": "35135c46",
   "metadata": {},
   "outputs": [
    {
     "data": {
      "text/plain": [
       "array([(5, 3), (8, 4)], dtype=[('a', '<i2'), ('b', '<i4')])"
      ]
     },
     "execution_count": 18,
     "metadata": {},
     "output_type": "execute_result"
    }
   ],
   "source": [
    "# datatype consisting more than element\n",
    "a = np.array([(5,3), (8,4)], dtype=[('a', '<i2'), ('b', \"<i4\")])\n",
    "a"
   ]
  },
  {
   "cell_type": "code",
   "execution_count": 19,
   "id": "2f5a9c39",
   "metadata": {},
   "outputs": [
    {
     "data": {
      "text/plain": [
       "(5, 3)"
      ]
     },
     "execution_count": 19,
     "metadata": {},
     "output_type": "execute_result"
    }
   ],
   "source": [
    "a[0]"
   ]
  },
  {
   "cell_type": "code",
   "execution_count": 20,
   "id": "81a781f9",
   "metadata": {},
   "outputs": [
    {
     "data": {
      "text/plain": [
       "3"
      ]
     },
     "execution_count": 20,
     "metadata": {},
     "output_type": "execute_result"
    }
   ],
   "source": [
    "a[0][1]"
   ]
  },
  {
   "cell_type": "code",
   "execution_count": 21,
   "id": "9cbacb4f",
   "metadata": {},
   "outputs": [
    {
     "data": {
      "text/plain": [
       "4"
      ]
     },
     "execution_count": 21,
     "metadata": {},
     "output_type": "execute_result"
    }
   ],
   "source": [
    "a[1][1]"
   ]
  },
  {
   "cell_type": "code",
   "execution_count": 22,
   "id": "efe774b2",
   "metadata": {},
   "outputs": [
    {
     "data": {
      "text/plain": [
       "numpy.int32"
      ]
     },
     "execution_count": 22,
     "metadata": {},
     "output_type": "execute_result"
    }
   ],
   "source": [
    "type(a[0][1])"
   ]
  },
  {
   "cell_type": "code",
   "execution_count": 23,
   "id": "6c5743b7",
   "metadata": {},
   "outputs": [],
   "source": [
    "a = np.array([(2,3), (6,7), (3,6), (7,8)], dtype=[('a', '<i8'), ('b', '<i4')])"
   ]
  },
  {
   "cell_type": "code",
   "execution_count": 24,
   "id": "cd6324b6",
   "metadata": {},
   "outputs": [
    {
     "data": {
      "text/plain": [
       "8"
      ]
     },
     "execution_count": 24,
     "metadata": {},
     "output_type": "execute_result"
    }
   ],
   "source": [
    "a[3][1]"
   ]
  },
  {
   "cell_type": "code",
   "execution_count": 25,
   "id": "73b882c7",
   "metadata": {},
   "outputs": [
    {
     "data": {
      "text/plain": [
       "numpy.int32"
      ]
     },
     "execution_count": 25,
     "metadata": {},
     "output_type": "execute_result"
    }
   ],
   "source": [
    "type(a[3][1])"
   ]
  },
  {
   "cell_type": "code",
   "execution_count": 26,
   "id": "fa6c6fe2",
   "metadata": {},
   "outputs": [
    {
     "data": {
      "text/plain": [
       "array([(3, 4, 5, 6), (6, 4, 3, 2)],\n",
       "      dtype=[('a', '<i4'), ('b', '<i2'), ('c', '<i8'), ('d', '<i4')])"
      ]
     },
     "execution_count": 26,
     "metadata": {},
     "output_type": "execute_result"
    }
   ],
   "source": [
    "b = np.array([(3,4,5,6), (6,4,3,2)], dtype=[('a', '<i4'), ('b', '<i2'), ('c', '<i8'), ('d', '<i4')])\n",
    "b"
   ]
  },
  {
   "cell_type": "code",
   "execution_count": 27,
   "id": "957fdcaf",
   "metadata": {},
   "outputs": [
    {
     "data": {
      "text/plain": [
       "numpy.int64"
      ]
     },
     "execution_count": 27,
     "metadata": {},
     "output_type": "execute_result"
    }
   ],
   "source": [
    "type(b[1][2])"
   ]
  },
  {
   "cell_type": "code",
   "execution_count": 28,
   "id": "9261fdc6",
   "metadata": {},
   "outputs": [
    {
     "data": {
      "text/plain": [
       "numpy.ndarray"
      ]
     },
     "execution_count": 28,
     "metadata": {},
     "output_type": "execute_result"
    }
   ],
   "source": [
    "type(b)"
   ]
  },
  {
   "cell_type": "code",
   "execution_count": 29,
   "id": "a6b89996",
   "metadata": {},
   "outputs": [],
   "source": [
    "a = np.array([3,4], dtype=np.float64)"
   ]
  },
  {
   "cell_type": "code",
   "execution_count": 30,
   "id": "f3a78b71",
   "metadata": {},
   "outputs": [
    {
     "data": {
      "text/plain": [
       "numpy.float64"
      ]
     },
     "execution_count": 30,
     "metadata": {},
     "output_type": "execute_result"
    }
   ],
   "source": [
    "type(a[1])"
   ]
  },
  {
   "cell_type": "markdown",
   "id": "3b0bc9e5",
   "metadata": {},
   "source": [
    "## matrix"
   ]
  },
  {
   "cell_type": "code",
   "execution_count": 31,
   "id": "dbd60740",
   "metadata": {},
   "outputs": [
    {
     "data": {
      "text/plain": [
       "matrix([[5, 7],\n",
       "        [3, 9]])"
      ]
     },
     "execution_count": 31,
     "metadata": {},
     "output_type": "execute_result"
    }
   ],
   "source": [
    "np.mat(np.array([[5,7], [3,9]]))"
   ]
  },
  {
   "cell_type": "code",
   "execution_count": 32,
   "id": "e87f7408",
   "metadata": {},
   "outputs": [
    {
     "data": {
      "text/plain": [
       "matrix([[4, 7],\n",
       "        [3, 7]])"
      ]
     },
     "execution_count": 32,
     "metadata": {},
     "output_type": "execute_result"
    }
   ],
   "source": [
    "# data which is in string to a string\n",
    "np.mat('4 7; 3 7')"
   ]
  },
  {
   "cell_type": "markdown",
   "id": "4890f0ef",
   "metadata": {},
   "source": [
    "## numpy.asarray()"
   ]
  },
  {
   "cell_type": "code",
   "execution_count": 33,
   "id": "92eb8881",
   "metadata": {},
   "outputs": [
    {
     "data": {
      "text/plain": [
       "array([7, 5])"
      ]
     },
     "execution_count": 33,
     "metadata": {},
     "output_type": "execute_result"
    }
   ],
   "source": [
    "# they kind do a similar task in converting to a list to an array\n",
    "a = [7,5]\n",
    "np.asarray(a)"
   ]
  },
  {
   "cell_type": "code",
   "execution_count": 34,
   "id": "b5b4a5e1",
   "metadata": {},
   "outputs": [
    {
     "data": {
      "text/plain": [
       "array([[3., 5.],\n",
       "       [6., 2.]])"
      ]
     },
     "execution_count": 34,
     "metadata": {},
     "output_type": "execute_result"
    }
   ],
   "source": [
    "# converting the list into a float datatype\n",
    "b = np.asarray([[3,5], [6,2]], dtype=float)\n",
    "b"
   ]
  },
  {
   "cell_type": "code",
   "execution_count": 35,
   "id": "1bddc9b1",
   "metadata": {},
   "outputs": [
    {
     "data": {
      "text/plain": [
       "5.0"
      ]
     },
     "execution_count": 35,
     "metadata": {},
     "output_type": "execute_result"
    }
   ],
   "source": [
    "b[0][1]"
   ]
  },
  {
   "cell_type": "code",
   "execution_count": 36,
   "id": "c4f48b4c",
   "metadata": {},
   "outputs": [
    {
     "data": {
      "text/plain": [
       "numpy.float64"
      ]
     },
     "execution_count": 36,
     "metadata": {},
     "output_type": "execute_result"
    }
   ],
   "source": [
    "type(b[0][1])"
   ]
  },
  {
   "cell_type": "code",
   "execution_count": 37,
   "id": "0a433b02",
   "metadata": {},
   "outputs": [
    {
     "data": {
      "text/plain": [
       "array([[3., 5.],\n",
       "       [5., 9.]], dtype=float32)"
      ]
     },
     "execution_count": 37,
     "metadata": {},
     "output_type": "execute_result"
    }
   ],
   "source": [
    "c = np.asarray([[3,5], [5,9]], dtype=np.float32)\n",
    "c"
   ]
  },
  {
   "cell_type": "code",
   "execution_count": 38,
   "id": "9b41648d",
   "metadata": {},
   "outputs": [
    {
     "data": {
      "text/plain": [
       "numpy.float32"
      ]
     },
     "execution_count": 38,
     "metadata": {},
     "output_type": "execute_result"
    }
   ],
   "source": [
    "type(c[1][0])"
   ]
  },
  {
   "cell_type": "code",
   "execution_count": null,
   "id": "c1a08cd9",
   "metadata": {},
   "outputs": [],
   "source": []
  },
  {
   "cell_type": "markdown",
   "id": "d04c00a9",
   "metadata": {},
   "source": [
    "# subclass"
   ]
  },
  {
   "cell_type": "code",
   "execution_count": 39,
   "id": "2c342e89",
   "metadata": {},
   "outputs": [
    {
     "data": {
      "text/plain": [
       "True"
      ]
     },
     "execution_count": 39,
     "metadata": {},
     "output_type": "execute_result"
    }
   ],
   "source": [
    "issubclass(np.matrix, np.ndarray)"
   ]
  },
  {
   "cell_type": "code",
   "execution_count": 40,
   "id": "ea573155",
   "metadata": {},
   "outputs": [
    {
     "data": {
      "text/plain": [
       "False"
      ]
     },
     "execution_count": 40,
     "metadata": {},
     "output_type": "execute_result"
    }
   ],
   "source": [
    "issubclass(np.ndarray, np.matrix)"
   ]
  },
  {
   "cell_type": "markdown",
   "id": "c2c93bb6",
   "metadata": {},
   "source": [
    "## np.asanyarray()\n",
    "if the data is not in any form of array, np.asanyarray() conversion will be done"
   ]
  },
  {
   "cell_type": "code",
   "execution_count": 41,
   "id": "8c829652",
   "metadata": {},
   "outputs": [
    {
     "data": {
      "text/plain": [
       "array([3, 6])"
      ]
     },
     "execution_count": 41,
     "metadata": {},
     "output_type": "execute_result"
    }
   ],
   "source": [
    "a = [3,6]\n",
    "np.asanyarray(a)"
   ]
  },
  {
   "cell_type": "code",
   "execution_count": 42,
   "id": "ac819250",
   "metadata": {},
   "outputs": [
    {
     "data": {
      "text/plain": [
       "matrix([[5, 7],\n",
       "        [4, 9]])"
      ]
     },
     "execution_count": 42,
     "metadata": {},
     "output_type": "execute_result"
    }
   ],
   "source": [
    "# matrix will not be converted with np.asanyarray() because it is a subset of any array\n",
    "m1 = np.mat([[5,7], [4,9]])\n",
    "m1"
   ]
  },
  {
   "cell_type": "code",
   "execution_count": 43,
   "id": "6378bfd3",
   "metadata": {},
   "outputs": [
    {
     "data": {
      "text/plain": [
       "matrix([[5, 7],\n",
       "        [4, 9]])"
      ]
     },
     "execution_count": 43,
     "metadata": {},
     "output_type": "execute_result"
    }
   ],
   "source": [
    "np.asanyarray(m1)"
   ]
  },
  {
   "cell_type": "code",
   "execution_count": 44,
   "id": "d86f96e1",
   "metadata": {},
   "outputs": [
    {
     "data": {
      "text/plain": [
       "array([[3, 4],\n",
       "       [8, 3]])"
      ]
     },
     "execution_count": 44,
     "metadata": {},
     "output_type": "execute_result"
    }
   ],
   "source": [
    "# but np.array() will  convert matrix to an array\n",
    "np.array(np.mat([[3,4], [8,3]]))"
   ]
  },
  {
   "cell_type": "code",
   "execution_count": 45,
   "id": "29f4c352",
   "metadata": {},
   "outputs": [
    {
     "data": {
      "text/plain": [
       "array([[3, 4],\n",
       "       [5, 6]])"
      ]
     },
     "execution_count": 45,
     "metadata": {},
     "output_type": "execute_result"
    }
   ],
   "source": [
    "# but np.asarray() will  convert matrix to an array\n",
    "np.asarray(np.mat([[3,4], [5,6]]))"
   ]
  },
  {
   "cell_type": "markdown",
   "id": "4ee82b9e",
   "metadata": {},
   "source": [
    "## np.fromfunction()\n",
    "it takes a function as an argument\n",
    "\n",
    "this function will try to generate an array based on certain condition"
   ]
  },
  {
   "cell_type": "code",
   "execution_count": 46,
   "id": "adbee92e",
   "metadata": {},
   "outputs": [
    {
     "data": {
      "text/plain": [
       "array([[ True, False, False],\n",
       "       [False,  True, False],\n",
       "       [False, False,  True]])"
      ]
     },
     "execution_count": 46,
     "metadata": {},
     "output_type": "execute_result"
    }
   ],
   "source": [
    "np.fromfunction(lambda i,j : i==j, (3,3), dtype=int)"
   ]
  },
  {
   "cell_type": "code",
   "execution_count": 47,
   "id": "3ea5912d",
   "metadata": {},
   "outputs": [
    {
     "data": {
      "text/plain": [
       "array([[[0, 1, 2],\n",
       "        [1, 2, 3],\n",
       "        [2, 3, 4]],\n",
       "\n",
       "       [[1, 2, 3],\n",
       "        [2, 3, 4],\n",
       "        [3, 4, 5]],\n",
       "\n",
       "       [[2, 3, 4],\n",
       "        [3, 4, 5],\n",
       "        [4, 5, 6]]])"
      ]
     },
     "execution_count": 47,
     "metadata": {},
     "output_type": "execute_result"
    }
   ],
   "source": [
    "np.fromfunction(lambda i,j,k:i+j+k, (3,3,3), dtype=int)"
   ]
  },
  {
   "cell_type": "code",
   "execution_count": 48,
   "id": "98041a74",
   "metadata": {},
   "outputs": [
    {
     "data": {
      "text/plain": [
       "array([[0, 0, 0],\n",
       "       [0, 1, 2]])"
      ]
     },
     "execution_count": 48,
     "metadata": {},
     "output_type": "execute_result"
    }
   ],
   "source": [
    "np.fromfunction(lambda i, j : i*j, (2,3), dtype=int)"
   ]
  },
  {
   "cell_type": "code",
   "execution_count": 49,
   "id": "249e956e",
   "metadata": {},
   "outputs": [
    {
     "data": {
      "image/png": "[encoded data removed]",
      "text/plain": [
       "<Figure size 640x480 with 2 Axes>"
      ]
     },
     "metadata": {},
     "output_type": "display_data"
    },
    {
     "data": {
      "image/png": "[encoded data removed]",
      "text/plain": [
       "<Figure size 640x480 with 2 Axes>"
      ]
     },
     "metadata": {},
     "output_type": "display_data"
    },
    {
     "data": {
      "image/png": "[encoded data removed]",
      "text/plain": [
       "<Figure size 640x480 with 2 Axes>"
      ]
     },
     "metadata": {},
     "output_type": "display_data"
    }
   ],
   "source": [
    "import numpy as np\n",
    "import matplotlib.pyplot as plt\n",
    "\n",
    "# Create a 3D array\n",
    "arr = np.fromfunction(lambda i, j, k: i + j + k, (3, 3, 4), dtype=int)\n",
    "\n",
    "# Plot slices of the array along the first dimension\n",
    "for i in range(arr.shape[0]):\n",
    "    plt.imshow(arr[i, :, :], cmap='viridis')\n",
    "    plt.colorbar()\n",
    "    plt.title(f\"Slice along dimension 0, index {i}\")\n",
    "    plt.show()\n"
   ]
  },
  {
   "cell_type": "code",
   "execution_count": 50,
   "id": "8af0bea6",
   "metadata": {},
   "outputs": [
    {
     "data": {
      "text/plain": [
       "array([[[[0, 1, 2],\n",
       "         [1, 2, 3],\n",
       "         [2, 3, 4]],\n",
       "\n",
       "        [[1, 2, 3],\n",
       "         [2, 3, 4],\n",
       "         [3, 4, 5]],\n",
       "\n",
       "        [[2, 3, 4],\n",
       "         [3, 4, 5],\n",
       "         [4, 5, 6]]],\n",
       "\n",
       "\n",
       "       [[[1, 2, 3],\n",
       "         [2, 3, 4],\n",
       "         [3, 4, 5]],\n",
       "\n",
       "        [[2, 3, 4],\n",
       "         [3, 4, 5],\n",
       "         [4, 5, 6]],\n",
       "\n",
       "        [[3, 4, 5],\n",
       "         [4, 5, 6],\n",
       "         [5, 6, 7]]]])"
      ]
     },
     "execution_count": 50,
     "metadata": {},
     "output_type": "execute_result"
    }
   ],
   "source": [
    "np.fromfunction(lambda i,j,k,m : i+j+k+m, (2,3,3,3), dtype=int)"
   ]
  },
  {
   "cell_type": "markdown",
   "id": "edb6262e",
   "metadata": {},
   "source": [
    "## np.fromiter()\n",
    "if you have an iterable or a generator and you want to convert it to an interable you use the function np.fromiter(), \n",
    "the parameter of this one is passing an iterable"
   ]
  },
  {
   "cell_type": "code",
   "execution_count": 51,
   "id": "ece7c441",
   "metadata": {},
   "outputs": [],
   "source": [
    "iterable = (i*i for i in range(6))"
   ]
  },
  {
   "cell_type": "code",
   "execution_count": 52,
   "id": "b6aa07de",
   "metadata": {},
   "outputs": [
    {
     "data": {
      "text/plain": [
       "array([ 0.,  1.,  4.,  9., 16., 25.])"
      ]
     },
     "execution_count": 52,
     "metadata": {},
     "output_type": "execute_result"
    }
   ],
   "source": [
    "np.fromiter(iterable, dtype=float)"
   ]
  },
  {
   "cell_type": "markdown",
   "id": "bc4160ba",
   "metadata": {},
   "source": [
    "## np.fromstring()\n",
    "here we are converting a particular string to an array, while we specify the sperator to use"
   ]
  },
  {
   "cell_type": "code",
   "execution_count": 53,
   "id": "9f4818b8",
   "metadata": {},
   "outputs": [
    {
     "data": {
      "text/plain": [
       "array([4., 5., 6., 7.])"
      ]
     },
     "execution_count": 53,
     "metadata": {},
     "output_type": "execute_result"
    }
   ],
   "source": [
    "np.fromstring('4,5,6,7', dtype=float, sep=',')"
   ]
  },
  {
   "cell_type": "markdown",
   "id": "5c39ebf1",
   "metadata": {},
   "source": [
    "## np.core.records.fromarrays()"
   ]
  },
  {
   "cell_type": "code",
   "execution_count": 54,
   "id": "022ed2f9",
   "metadata": {},
   "outputs": [],
   "source": [
    "x1 = np.array([3,5,4,2])\n",
    "x2 = np.array(['a', 'b', 'c', 'd'])\n",
    "x3 = np.array([1.1, 4.3, 5, 5.4])\n",
    "x4 = np.array([4, 'sudh', 'evans', 5])\n",
    "\n",
    "r = np.core.records.fromarrays([x1, x2, x3, x4])"
   ]
  },
  {
   "cell_type": "code",
   "execution_count": 55,
   "id": "836de391",
   "metadata": {},
   "outputs": [
    {
     "data": {
      "text/plain": [
       "rec.array([(3, 'a', 1.1, '4'), (5, 'b', 4.3, 'sudh'),\n",
       "           (4, 'c', 5. , 'evans'), (2, 'd', 5.4, '5')],\n",
       "          dtype=[('f0', '<i4'), ('f1', '<U1'), ('f2', '<f8'), ('f3', '<U11')])"
      ]
     },
     "execution_count": 55,
     "metadata": {},
     "output_type": "execute_result"
    }
   ],
   "source": [
    "r"
   ]
  },
  {
   "cell_type": "code",
   "execution_count": null,
   "id": "67994696",
   "metadata": {},
   "outputs": [],
   "source": []
  },
  {
   "cell_type": "markdown",
   "id": "55006799",
   "metadata": {},
   "source": [
    "## data types"
   ]
  },
  {
   "cell_type": "code",
   "execution_count": 56,
   "id": "4217ef19",
   "metadata": {},
   "outputs": [
    {
     "data": {
      "text/plain": [
       "[[1, 2, 3], [4, 5, 6], [7, 8, 9]]"
      ]
     },
     "execution_count": 56,
     "metadata": {},
     "output_type": "execute_result"
    }
   ],
   "source": [
    "my_list = [[1,2,3], [4,5,6], [7,8,9]]\n",
    "my_list"
   ]
  },
  {
   "cell_type": "code",
   "execution_count": 57,
   "id": "60557351",
   "metadata": {},
   "outputs": [
    {
     "name": "stdout",
     "output_type": "stream",
     "text": [
      "[[1 2 3]\n",
      " [4 5 6]\n",
      " [7 8 9]]\n"
     ]
    }
   ],
   "source": [
    "# creating an array\n",
    "arr = np.array(my_list)\n",
    "print(arr)"
   ]
  },
  {
   "cell_type": "code",
   "execution_count": 58,
   "id": "388c04fc",
   "metadata": {},
   "outputs": [
    {
     "data": {
      "text/plain": [
       "numpy.ndarray"
      ]
     },
     "execution_count": 58,
     "metadata": {},
     "output_type": "execute_result"
    }
   ],
   "source": [
    "type(arr)"
   ]
  },
  {
   "cell_type": "code",
   "execution_count": 59,
   "id": "eb2bda95",
   "metadata": {},
   "outputs": [
    {
     "data": {
      "text/plain": [
       "(3, 3)"
      ]
     },
     "execution_count": 59,
     "metadata": {},
     "output_type": "execute_result"
    }
   ],
   "source": [
    "arr.shape"
   ]
  },
  {
   "cell_type": "code",
   "execution_count": 60,
   "id": "7bdf7d15",
   "metadata": {},
   "outputs": [
    {
     "data": {
      "text/plain": [
       "9"
      ]
     },
     "execution_count": 60,
     "metadata": {},
     "output_type": "execute_result"
    }
   ],
   "source": [
    "arr.size"
   ]
  },
  {
   "cell_type": "code",
   "execution_count": 61,
   "id": "cb625812",
   "metadata": {},
   "outputs": [
    {
     "data": {
      "text/plain": [
       "dtype('int32')"
      ]
     },
     "execution_count": 61,
     "metadata": {},
     "output_type": "execute_result"
    }
   ],
   "source": [
    "arr.dtype"
   ]
  },
  {
   "cell_type": "code",
   "execution_count": 62,
   "id": "7957e2ec",
   "metadata": {},
   "outputs": [
    {
     "data": {
      "text/plain": [
       "2"
      ]
     },
     "execution_count": 62,
     "metadata": {},
     "output_type": "execute_result"
    }
   ],
   "source": [
    "arr.ndim\n"
   ]
  },
  {
   "cell_type": "code",
   "execution_count": 63,
   "id": "449fdab8",
   "metadata": {},
   "outputs": [
    {
     "data": {
      "text/plain": [
       "dtype('int32')"
      ]
     },
     "execution_count": 63,
     "metadata": {},
     "output_type": "execute_result"
    }
   ],
   "source": [
    "arr.dtype"
   ]
  },
  {
   "cell_type": "markdown",
   "id": "73badc2e",
   "metadata": {},
   "source": [
    "## arange()"
   ]
  },
  {
   "cell_type": "code",
   "execution_count": 64,
   "id": "f3328432",
   "metadata": {},
   "outputs": [
    {
     "data": {
      "text/plain": [
       "[10, 11, 12, 13, 14, 15, 16, 17, 18, 19]"
      ]
     },
     "execution_count": 64,
     "metadata": {},
     "output_type": "execute_result"
    }
   ],
   "source": [
    "# range can only take interger datatypes\n",
    "list(range(10,20))"
   ]
  },
  {
   "cell_type": "code",
   "execution_count": 65,
   "id": "6e19b1c6",
   "metadata": {},
   "outputs": [
    {
     "data": {
      "text/plain": [
       "array([10, 11, 12, 13, 14, 15, 16, 17, 18, 19])"
      ]
     },
     "execution_count": 65,
     "metadata": {},
     "output_type": "execute_result"
    }
   ],
   "source": [
    "# arange can take floating points as intergers\n",
    "np.arange(10,20)"
   ]
  },
  {
   "cell_type": "code",
   "execution_count": 66,
   "id": "5728d2c0",
   "metadata": {},
   "outputs": [
    {
     "data": {
      "text/plain": [
       "array([10. , 12.5, 15. , 17.5])"
      ]
     },
     "execution_count": 66,
     "metadata": {},
     "output_type": "execute_result"
    }
   ],
   "source": [
    "np.arange(10,20,2.5)"
   ]
  },
  {
   "cell_type": "code",
   "execution_count": 67,
   "id": "1b18eeae",
   "metadata": {},
   "outputs": [
    {
     "data": {
      "text/plain": [
       "array([10.23, 11.79, 13.35, 14.91, 16.47, 18.03, 19.59])"
      ]
     },
     "execution_count": 67,
     "metadata": {},
     "output_type": "execute_result"
    }
   ],
   "source": [
    "np.arange(10.23, 20.456, 1.56)"
   ]
  },
  {
   "cell_type": "code",
   "execution_count": 68,
   "id": "294a41ca",
   "metadata": {},
   "outputs": [
    {
     "data": {
      "text/plain": [
       "array([10.5, 13. , 15.5, 18. ])"
      ]
     },
     "execution_count": 68,
     "metadata": {},
     "output_type": "execute_result"
    }
   ],
   "source": [
    "np.arange(10.5, 20.5, 2.5)"
   ]
  },
  {
   "cell_type": "markdown",
   "id": "c77d8741",
   "metadata": {},
   "source": [
    "## np.linspace()\n",
    "it will generate data from the starting point to the end point based on the specified number of data provided, \n",
    "in this case the starting point is 1 and the end point is 5, while the numbers to generate is 10"
   ]
  },
  {
   "cell_type": "code",
   "execution_count": 69,
   "id": "011b531f",
   "metadata": {},
   "outputs": [
    {
     "data": {
      "text/plain": [
       "array([1.        , 1.44444444, 1.88888889, 2.33333333, 2.77777778,\n",
       "       3.22222222, 3.66666667, 4.11111111, 4.55555556, 5.        ])"
      ]
     },
     "execution_count": 69,
     "metadata": {},
     "output_type": "execute_result"
    }
   ],
   "source": [
    "np.linspace(1,5,10)"
   ]
  },
  {
   "cell_type": "code",
   "execution_count": 70,
   "id": "b37f9288",
   "metadata": {},
   "outputs": [
    {
     "data": {
      "text/plain": [
       "array([1.        , 1.44444444, 1.88888889, 2.33333333, 2.77777778,\n",
       "       3.22222222, 3.66666667, 4.11111111, 4.55555556, 5.        ])"
      ]
     },
     "execution_count": 70,
     "metadata": {},
     "output_type": "execute_result"
    }
   ],
   "source": [
    "(np.linspace(1,5,10))"
   ]
  },
  {
   "cell_type": "code",
   "execution_count": 71,
   "id": "e29716f9",
   "metadata": {},
   "outputs": [
    {
     "data": {
      "text/plain": [
       "(array([1., 3., 5., 7., 9.]), 2.0)"
      ]
     },
     "execution_count": 71,
     "metadata": {},
     "output_type": "execute_result"
    }
   ],
   "source": [
    "# printing the space it has considered\n",
    "a = np.linspace(1,11, num=5, endpoint=False, retstep=True)  \n",
    "a"
   ]
  },
  {
   "cell_type": "markdown",
   "id": "f0dfe56c",
   "metadata": {},
   "source": [
    "## Matrix Creation"
   ]
  },
  {
   "cell_type": "code",
   "execution_count": 72,
   "id": "5a8ef21a",
   "metadata": {},
   "outputs": [
    {
     "data": {
      "text/plain": [
       "array([0., 0., 0., 0., 0.])"
      ]
     },
     "execution_count": 72,
     "metadata": {},
     "output_type": "execute_result"
    }
   ],
   "source": [
    "# printing a vector of zeros\n",
    "np.zeros(5)"
   ]
  },
  {
   "cell_type": "code",
   "execution_count": 73,
   "id": "d626731a",
   "metadata": {},
   "outputs": [
    {
     "data": {
      "text/plain": [
       "array([[0., 0., 0., 0.],\n",
       "       [0., 0., 0., 0.],\n",
       "       [0., 0., 0., 0.]])"
      ]
     },
     "execution_count": 73,
     "metadata": {},
     "output_type": "execute_result"
    }
   ],
   "source": [
    "# printing a matrix of zeros\n",
    "np.zeros((3,4))"
   ]
  },
  {
   "cell_type": "code",
   "execution_count": 74,
   "id": "bed475fa",
   "metadata": {},
   "outputs": [
    {
     "data": {
      "text/plain": [
       "array([1., 1., 1., 1., 1.])"
      ]
     },
     "execution_count": 74,
     "metadata": {},
     "output_type": "execute_result"
    }
   ],
   "source": [
    "# vector of ones\n",
    "np.ones(5)"
   ]
  },
  {
   "cell_type": "code",
   "execution_count": 75,
   "id": "a0a13597",
   "metadata": {},
   "outputs": [
    {
     "data": {
      "text/plain": [
       "array([[[1., 1., 1., 1.],\n",
       "        [1., 1., 1., 1.],\n",
       "        [1., 1., 1., 1.]],\n",
       "\n",
       "       [[1., 1., 1., 1.],\n",
       "        [1., 1., 1., 1.],\n",
       "        [1., 1., 1., 1.]],\n",
       "\n",
       "       [[1., 1., 1., 1.],\n",
       "        [1., 1., 1., 1.],\n",
       "        [1., 1., 1., 1.]]])"
      ]
     },
     "execution_count": 75,
     "metadata": {},
     "output_type": "execute_result"
    }
   ],
   "source": [
    "np.ones((3,3,4))"
   ]
  },
  {
   "cell_type": "code",
   "execution_count": 76,
   "id": "c4e15998",
   "metadata": {},
   "outputs": [
    {
     "data": {
      "text/plain": [
       "array([[[6., 6., 6.],\n",
       "        [6., 6., 6.],\n",
       "        [6., 6., 6.],\n",
       "        [6., 6., 6.]],\n",
       "\n",
       "       [[6., 6., 6.],\n",
       "        [6., 6., 6.],\n",
       "        [6., 6., 6.],\n",
       "        [6., 6., 6.]],\n",
       "\n",
       "       [[6., 6., 6.],\n",
       "        [6., 6., 6.],\n",
       "        [6., 6., 6.],\n",
       "        [6., 6., 6.]]])"
      ]
     },
     "execution_count": 76,
     "metadata": {},
     "output_type": "execute_result"
    }
   ],
   "source": [
    "# addition of the ones matrix\n",
    "np.ones((3,4,3)) + 5"
   ]
  },
  {
   "cell_type": "markdown",
   "id": "2572904f",
   "metadata": {},
   "source": [
    "## identity matrix\n",
    "when creating an identity matrix the parameter inside the function should be one since this matrix has square dimensions"
   ]
  },
  {
   "cell_type": "code",
   "execution_count": 77,
   "id": "e9eab43a",
   "metadata": {},
   "outputs": [
    {
     "name": "stdout",
     "output_type": "stream",
     "text": [
      "Dimension (4, 4)\n"
     ]
    },
    {
     "data": {
      "text/plain": [
       "array([[1., 0., 0., 0.],\n",
       "       [0., 1., 0., 0.],\n",
       "       [0., 0., 1., 0.],\n",
       "       [0., 0., 0., 1.]])"
      ]
     },
     "execution_count": 77,
     "metadata": {},
     "output_type": "execute_result"
    }
   ],
   "source": [
    "identity_mat = np.eye(4)    # matrix of dimension(4,4)\n",
    "print(f\"Dimension {identity_mat.shape}\")\n",
    "identity_mat"
   ]
  },
  {
   "cell_type": "code",
   "execution_count": 78,
   "id": "a4f275ca",
   "metadata": {},
   "outputs": [
    {
     "data": {
      "text/plain": [
       "array([[1., 0., 0., 0., 0.],\n",
       "       [0., 1., 0., 0., 0.],\n",
       "       [0., 0., 1., 0., 0.],\n",
       "       [0., 0., 0., 1., 0.],\n",
       "       [0., 0., 0., 0., 1.]])"
      ]
     },
     "execution_count": 78,
     "metadata": {},
     "output_type": "execute_result"
    }
   ],
   "source": [
    "np.eye(5)"
   ]
  },
  {
   "cell_type": "markdown",
   "id": "3650b9e1",
   "metadata": {},
   "source": [
    "## np.logspace()\n",
    "the default base is 10"
   ]
  },
  {
   "cell_type": "code",
   "execution_count": 79,
   "id": "96d7e1ea",
   "metadata": {},
   "outputs": [
    {
     "data": {
      "text/plain": [
       "array([ 100.        ,  215.443469  ,  464.15888336, 1000.        ])"
      ]
     },
     "execution_count": 79,
     "metadata": {},
     "output_type": "execute_result"
    }
   ],
   "source": [
    "np.logspace(2.0, 3.0, num=4, base=10)"
   ]
  },
  {
   "cell_type": "markdown",
   "id": "fea6f350",
   "metadata": {},
   "source": [
    "## Assignment\n",
    "a matrix of (3,4,8) with zeros then perform an addition operation with 5 and multiple by 2"
   ]
  },
  {
   "cell_type": "code",
   "execution_count": 80,
   "id": "6669cb49",
   "metadata": {},
   "outputs": [
    {
     "data": {
      "text/plain": [
       "array([[[10., 10., 10., 10., 10., 10., 10., 10.],\n",
       "        [10., 10., 10., 10., 10., 10., 10., 10.],\n",
       "        [10., 10., 10., 10., 10., 10., 10., 10.],\n",
       "        [10., 10., 10., 10., 10., 10., 10., 10.]],\n",
       "\n",
       "       [[10., 10., 10., 10., 10., 10., 10., 10.],\n",
       "        [10., 10., 10., 10., 10., 10., 10., 10.],\n",
       "        [10., 10., 10., 10., 10., 10., 10., 10.],\n",
       "        [10., 10., 10., 10., 10., 10., 10., 10.]],\n",
       "\n",
       "       [[10., 10., 10., 10., 10., 10., 10., 10.],\n",
       "        [10., 10., 10., 10., 10., 10., 10., 10.],\n",
       "        [10., 10., 10., 10., 10., 10., 10., 10.],\n",
       "        [10., 10., 10., 10., 10., 10., 10., 10.]]])"
      ]
     },
     "execution_count": 80,
     "metadata": {},
     "output_type": "execute_result"
    }
   ],
   "source": [
    "(np.zeros((3,4,8))+5)*2"
   ]
  },
  {
   "cell_type": "code",
   "execution_count": 81,
   "id": "caafe167",
   "metadata": {},
   "outputs": [
    {
     "data": {
      "text/plain": [
       "array([4.        , 4.05063291, 4.10126582, 4.15189873, 4.20253165,\n",
       "       4.25316456, 4.30379747, 4.35443038, 4.40506329, 4.4556962 ,\n",
       "       4.50632911, 4.55696203, 4.60759494, 4.65822785, 4.70886076,\n",
       "       4.75949367, 4.81012658, 4.86075949, 4.91139241, 4.96202532,\n",
       "       5.01265823, 5.06329114, 5.11392405, 5.16455696, 5.21518987,\n",
       "       5.26582278, 5.3164557 , 5.36708861, 5.41772152, 5.46835443,\n",
       "       5.51898734, 5.56962025, 5.62025316, 5.67088608, 5.72151899,\n",
       "       5.7721519 , 5.82278481, 5.87341772, 5.92405063, 5.97468354,\n",
       "       6.02531646, 6.07594937, 6.12658228, 6.17721519, 6.2278481 ,\n",
       "       6.27848101, 6.32911392, 6.37974684, 6.43037975, 6.48101266,\n",
       "       6.53164557, 6.58227848, 6.63291139, 6.6835443 , 6.73417722,\n",
       "       6.78481013, 6.83544304, 6.88607595, 6.93670886, 6.98734177,\n",
       "       7.03797468, 7.08860759, 7.13924051, 7.18987342, 7.24050633,\n",
       "       7.29113924, 7.34177215, 7.39240506, 7.44303797, 7.49367089,\n",
       "       7.5443038 , 7.59493671, 7.64556962, 7.69620253, 7.74683544,\n",
       "       7.79746835, 7.84810127, 7.89873418, 7.94936709, 8.        ])"
      ]
     },
     "execution_count": 81,
     "metadata": {},
     "output_type": "execute_result"
    }
   ],
   "source": [
    "# generate data from 4-8 and the number of the data to be 80\n",
    "np.linspace(4,8, num=80)"
   ]
  },
  {
   "cell_type": "code",
   "execution_count": 82,
   "id": "4794dd29",
   "metadata": {},
   "outputs": [],
   "source": [
    "# take any list and convert the list to matrix\n",
    "a = [4,5,6,5]\n",
    "b = ['evans', 6,3,5.6]\n",
    "c = [4.5, 6.3, 6,2, 8.4]\n",
    "d = [5.3, 6, 3, 2.7]\n"
   ]
  },
  {
   "cell_type": "code",
   "execution_count": 83,
   "id": "9f8d3257",
   "metadata": {},
   "outputs": [
    {
     "data": {
      "text/plain": [
       "matrix([[4, 5, 6, 5]])"
      ]
     },
     "execution_count": 83,
     "metadata": {},
     "output_type": "execute_result"
    }
   ],
   "source": [
    "np.mat(a)"
   ]
  },
  {
   "cell_type": "code",
   "execution_count": 84,
   "id": "41dd5ca3",
   "metadata": {},
   "outputs": [
    {
     "data": {
      "text/plain": [
       "matrix([['evans', '6', '3', '5.6']], dtype='<U32')"
      ]
     },
     "execution_count": 84,
     "metadata": {},
     "output_type": "execute_result"
    }
   ],
   "source": [
    "np.mat(b)"
   ]
  },
  {
   "cell_type": "code",
   "execution_count": 85,
   "id": "b3bdc0ad",
   "metadata": {},
   "outputs": [
    {
     "data": {
      "text/plain": [
       "matrix([[4.5, 6.3, 6. , 2. , 8.4]])"
      ]
     },
     "execution_count": 85,
     "metadata": {},
     "output_type": "execute_result"
    }
   ],
   "source": [
    "np.mat(c)"
   ]
  },
  {
   "cell_type": "code",
   "execution_count": 86,
   "id": "79d3d974",
   "metadata": {},
   "outputs": [
    {
     "data": {
      "text/plain": [
       "matrix([[5.3, 6. , 3. , 2.7]])"
      ]
     },
     "execution_count": 86,
     "metadata": {},
     "output_type": "execute_result"
    }
   ],
   "source": [
    "np.mat(d)"
   ]
  },
  {
   "cell_type": "code",
   "execution_count": 87,
   "id": "00a149a7",
   "metadata": {},
   "outputs": [
    {
     "data": {
      "text/plain": [
       "array([[[0, 1],\n",
       "        [1, 2],\n",
       "        [2, 3],\n",
       "        [3, 4],\n",
       "        [4, 5]],\n",
       "\n",
       "       [[1, 2],\n",
       "        [2, 3],\n",
       "        [3, 4],\n",
       "        [4, 5],\n",
       "        [5, 6]],\n",
       "\n",
       "       [[2, 3],\n",
       "        [3, 4],\n",
       "        [4, 5],\n",
       "        [5, 6],\n",
       "        [6, 7]],\n",
       "\n",
       "       [[3, 4],\n",
       "        [4, 5],\n",
       "        [5, 6],\n",
       "        [6, 7],\n",
       "        [7, 8]]])"
      ]
     },
     "execution_count": 87,
     "metadata": {},
     "output_type": "execute_result"
    }
   ],
   "source": [
    "# create an array of dimension (4,5,2) then show the shape, dimension, size and the datatype\n",
    "arr = np.fromfunction(lambda i,j,k: i+j+k, (4,5,2), dtype=int)\n",
    "arr"
   ]
  },
  {
   "cell_type": "code",
   "execution_count": 88,
   "id": "f6083fff",
   "metadata": {},
   "outputs": [
    {
     "data": {
      "text/plain": [
       "40"
      ]
     },
     "execution_count": 88,
     "metadata": {},
     "output_type": "execute_result"
    }
   ],
   "source": [
    "arr.size"
   ]
  },
  {
   "cell_type": "code",
   "execution_count": 89,
   "id": "967f0786",
   "metadata": {},
   "outputs": [
    {
     "data": {
      "text/plain": [
       "dtype('int32')"
      ]
     },
     "execution_count": 89,
     "metadata": {},
     "output_type": "execute_result"
    }
   ],
   "source": [
    "arr.dtype"
   ]
  },
  {
   "cell_type": "code",
   "execution_count": 90,
   "id": "53945b0e",
   "metadata": {},
   "outputs": [
    {
     "data": {
      "text/plain": [
       "(4, 5, 2)"
      ]
     },
     "execution_count": 90,
     "metadata": {},
     "output_type": "execute_result"
    }
   ],
   "source": [
    "arr.shape"
   ]
  },
  {
   "cell_type": "code",
   "execution_count": 91,
   "id": "5461db7e",
   "metadata": {},
   "outputs": [
    {
     "data": {
      "text/plain": [
       "3"
      ]
     },
     "execution_count": 91,
     "metadata": {},
     "output_type": "execute_result"
    }
   ],
   "source": [
    "arr.ndim"
   ]
  },
  {
   "cell_type": "code",
   "execution_count": 92,
   "id": "fec6714f",
   "metadata": {},
   "outputs": [],
   "source": [
    "arr_2 = np.ones((4,5,2))"
   ]
  },
  {
   "cell_type": "code",
   "execution_count": 93,
   "id": "96f13463",
   "metadata": {},
   "outputs": [
    {
     "data": {
      "text/plain": [
       "40"
      ]
     },
     "execution_count": 93,
     "metadata": {},
     "output_type": "execute_result"
    }
   ],
   "source": [
    "arr_2.size"
   ]
  },
  {
   "cell_type": "code",
   "execution_count": 94,
   "id": "87ec3398",
   "metadata": {},
   "outputs": [
    {
     "data": {
      "text/plain": [
       "(4, 5, 2)"
      ]
     },
     "execution_count": 94,
     "metadata": {},
     "output_type": "execute_result"
    }
   ],
   "source": [
    "arr_2.shape"
   ]
  },
  {
   "cell_type": "code",
   "execution_count": 95,
   "id": "cf0cddaf",
   "metadata": {},
   "outputs": [
    {
     "data": {
      "text/plain": [
       "3"
      ]
     },
     "execution_count": 95,
     "metadata": {},
     "output_type": "execute_result"
    }
   ],
   "source": [
    "arr_2.ndim"
   ]
  },
  {
   "cell_type": "code",
   "execution_count": 96,
   "id": "00e7875e",
   "metadata": {},
   "outputs": [
    {
     "data": {
      "text/plain": [
       "dtype('float64')"
      ]
     },
     "execution_count": 96,
     "metadata": {},
     "output_type": "execute_result"
    }
   ],
   "source": [
    "arr_2.dtype"
   ]
  },
  {
   "cell_type": "code",
   "execution_count": 97,
   "id": "29631651",
   "metadata": {},
   "outputs": [],
   "source": [
    "# generate an array of (3x3x3) and another array of (3x3x3) and the concatenate them\n",
    "x1 = np.ones((3,3,3))"
   ]
  },
  {
   "cell_type": "code",
   "execution_count": 98,
   "id": "5f5bac1d",
   "metadata": {},
   "outputs": [],
   "source": [
    "x2 = np.ones((3,3,3))"
   ]
  },
  {
   "cell_type": "code",
   "execution_count": 99,
   "id": "91c13d5e",
   "metadata": {},
   "outputs": [
    {
     "data": {
      "text/plain": [
       "array([[[2., 2., 2.],\n",
       "        [2., 2., 2.],\n",
       "        [2., 2., 2.]],\n",
       "\n",
       "       [[2., 2., 2.],\n",
       "        [2., 2., 2.],\n",
       "        [2., 2., 2.]],\n",
       "\n",
       "       [[2., 2., 2.],\n",
       "        [2., 2., 2.],\n",
       "        [2., 2., 2.]]])"
      ]
     },
     "execution_count": 99,
     "metadata": {},
     "output_type": "execute_result"
    }
   ],
   "source": [
    "x1 + x2"
   ]
  },
  {
   "cell_type": "code",
   "execution_count": 100,
   "id": "5c2a3022",
   "metadata": {},
   "outputs": [
    {
     "data": {
      "text/plain": [
       "array([5, 6, 7, 8, 9])"
      ]
     },
     "execution_count": 100,
     "metadata": {},
     "output_type": "execute_result"
    }
   ],
   "source": [
    "np.arange(5, 10, 1)"
   ]
  },
  {
   "cell_type": "code",
   "execution_count": 101,
   "id": "8394d181",
   "metadata": {},
   "outputs": [
    {
     "data": {
      "text/plain": [
       "(array([5., 6., 7., 8., 9.]), 1.0)"
      ]
     },
     "execution_count": 101,
     "metadata": {},
     "output_type": "execute_result"
    }
   ],
   "source": [
    "np.linspace(5,9,num=5, retstep=True)"
   ]
  },
  {
   "cell_type": "markdown",
   "id": "042d99f7",
   "metadata": {},
   "source": [
    "## reshape()"
   ]
  },
  {
   "cell_type": "code",
   "execution_count": 102,
   "id": "afd01459",
   "metadata": {},
   "outputs": [
    {
     "data": {
      "text/plain": [
       "array([ 0,  1,  2,  3,  4,  5,  6,  7,  8,  9, 10, 11, 12, 13, 14, 15])"
      ]
     },
     "execution_count": 102,
     "metadata": {},
     "output_type": "execute_result"
    }
   ],
   "source": [
    "np.arange(16)"
   ]
  },
  {
   "cell_type": "code",
   "execution_count": 103,
   "id": "a3ecb864",
   "metadata": {},
   "outputs": [
    {
     "data": {
      "text/plain": [
       "array([[ 0,  1],\n",
       "       [ 2,  3],\n",
       "       [ 4,  5],\n",
       "       [ 6,  7],\n",
       "       [ 8,  9],\n",
       "       [10, 11],\n",
       "       [12, 13],\n",
       "       [14, 15]])"
      ]
     },
     "execution_count": 103,
     "metadata": {},
     "output_type": "execute_result"
    }
   ],
   "source": [
    "np.arange(16).reshape(8,2)"
   ]
  },
  {
   "cell_type": "code",
   "execution_count": 104,
   "id": "3569aeca",
   "metadata": {},
   "outputs": [
    {
     "data": {
      "text/plain": [
       "array([[[ 0,  1],\n",
       "        [ 2,  3]],\n",
       "\n",
       "       [[ 4,  5],\n",
       "        [ 6,  7]],\n",
       "\n",
       "       [[ 8,  9],\n",
       "        [10, 11]],\n",
       "\n",
       "       [[12, 13],\n",
       "        [14, 15]]])"
      ]
     },
     "execution_count": 104,
     "metadata": {},
     "output_type": "execute_result"
    }
   ],
   "source": [
    "np.arange(16).reshape(4,2,2)"
   ]
  },
  {
   "cell_type": "code",
   "execution_count": 105,
   "id": "3d95fecd",
   "metadata": {},
   "outputs": [
    {
     "data": {
      "text/plain": [
       "array([[[ 0,  1],\n",
       "        [ 2,  3],\n",
       "        [ 4,  5],\n",
       "        [ 6,  7]],\n",
       "\n",
       "       [[ 8,  9],\n",
       "        [10, 11],\n",
       "        [12, 13],\n",
       "        [14, 15]]])"
      ]
     },
     "execution_count": 105,
     "metadata": {},
     "output_type": "execute_result"
    }
   ],
   "source": [
    "np.arange(16).reshape(2,4,2)"
   ]
  },
  {
   "cell_type": "code",
   "execution_count": 106,
   "id": "ca790d38",
   "metadata": {},
   "outputs": [
    {
     "data": {
      "text/plain": [
       "array([[[[ 0,  1]],\n",
       "\n",
       "        [[ 2,  3]],\n",
       "\n",
       "        [[ 4,  5]],\n",
       "\n",
       "        [[ 6,  7]]],\n",
       "\n",
       "\n",
       "       [[[ 8,  9]],\n",
       "\n",
       "        [[10, 11]],\n",
       "\n",
       "        [[12, 13]],\n",
       "\n",
       "        [[14, 15]]]])"
      ]
     },
     "execution_count": 106,
     "metadata": {},
     "output_type": "execute_result"
    }
   ],
   "source": [
    "np.arange(16).reshape((2,4,1,2))"
   ]
  },
  {
   "cell_type": "code",
   "execution_count": 107,
   "id": "86eb3bcb",
   "metadata": {},
   "outputs": [
    {
     "data": {
      "text/plain": [
       "array([[ 0,  1,  2,  3,  4,  5,  6,  7,  8,  9, 10, 11, 12, 13, 14, 15]])"
      ]
     },
     "execution_count": 107,
     "metadata": {},
     "output_type": "execute_result"
    }
   ],
   "source": [
    "## reshaping using minus one\n",
    "np.arange(16).reshape(1, -1)"
   ]
  },
  {
   "cell_type": "code",
   "execution_count": 108,
   "id": "4027dc8f",
   "metadata": {},
   "outputs": [
    {
     "data": {
      "text/plain": [
       "array([[ 0,  1],\n",
       "       [ 2,  3],\n",
       "       [ 4,  5],\n",
       "       [ 6,  7],\n",
       "       [ 8,  9],\n",
       "       [10, 11],\n",
       "       [12, 13],\n",
       "       [14, 15]])"
      ]
     },
     "execution_count": 108,
     "metadata": {},
     "output_type": "execute_result"
    }
   ],
   "source": [
    "np.arange(16).reshape((8,-1))"
   ]
  },
  {
   "cell_type": "code",
   "execution_count": 109,
   "id": "fa068c73",
   "metadata": {},
   "outputs": [
    {
     "data": {
      "text/plain": [
       "array([[[ 0,  1],\n",
       "        [ 2,  3],\n",
       "        [ 4,  5],\n",
       "        [ 6,  7]],\n",
       "\n",
       "       [[ 8,  9],\n",
       "        [10, 11],\n",
       "        [12, 13],\n",
       "        [14, 15]]])"
      ]
     },
     "execution_count": 109,
     "metadata": {},
     "output_type": "execute_result"
    }
   ],
   "source": [
    " np.arange(16).reshape((2,4,-1))"
   ]
  },
  {
   "cell_type": "code",
   "execution_count": 110,
   "id": "9aadc83b",
   "metadata": {},
   "outputs": [
    {
     "data": {
      "text/plain": [
       "array([[[ 0,  1,  2,  3],\n",
       "        [ 4,  5,  6,  7]],\n",
       "\n",
       "       [[ 8,  9, 10, 11],\n",
       "        [12, 13, 14, 15]]])"
      ]
     },
     "execution_count": 110,
     "metadata": {},
     "output_type": "execute_result"
    }
   ],
   "source": [
    "np.arange(16).reshape((-1,2,4))"
   ]
  },
  {
   "cell_type": "markdown",
   "id": "cad2da1a",
   "metadata": {},
   "source": [
    "## np.diag(x)"
   ]
  },
  {
   "cell_type": "code",
   "execution_count": 111,
   "id": "78d5199d",
   "metadata": {},
   "outputs": [
    {
     "data": {
      "text/plain": [
       "array([[ 0,  1],\n",
       "       [ 2,  3],\n",
       "       [ 4,  5],\n",
       "       [ 6,  7],\n",
       "       [ 8,  9],\n",
       "       [10, 11],\n",
       "       [12, 13],\n",
       "       [14, 15]])"
      ]
     },
     "execution_count": 111,
     "metadata": {},
     "output_type": "execute_result"
    }
   ],
   "source": [
    "x = np.arange(16).reshape(-1,2)\n",
    "x"
   ]
  },
  {
   "cell_type": "code",
   "execution_count": 112,
   "id": "490ea658",
   "metadata": {},
   "outputs": [
    {
     "data": {
      "text/plain": [
       "array([0, 3])"
      ]
     },
     "execution_count": 112,
     "metadata": {},
     "output_type": "execute_result"
    }
   ],
   "source": [
    "np.diag(x)"
   ]
  },
  {
   "cell_type": "code",
   "execution_count": 113,
   "id": "d848fae6",
   "metadata": {},
   "outputs": [
    {
     "data": {
      "text/plain": [
       "array([[ 0,  1,  2,  3],\n",
       "       [ 4,  5,  6,  7],\n",
       "       [ 8,  9, 10, 11],\n",
       "       [12, 13, 14, 15]])"
      ]
     },
     "execution_count": 113,
     "metadata": {},
     "output_type": "execute_result"
    }
   ],
   "source": [
    "arr = np.arange(16).reshape((-1, 4))\n",
    "arr"
   ]
  },
  {
   "cell_type": "code",
   "execution_count": 114,
   "id": "fee43f57",
   "metadata": {},
   "outputs": [
    {
     "data": {
      "text/plain": [
       "array([ 0,  5, 10, 15])"
      ]
     },
     "execution_count": 114,
     "metadata": {},
     "output_type": "execute_result"
    }
   ],
   "source": [
    "np.diag(arr)"
   ]
  },
  {
   "cell_type": "code",
   "execution_count": 115,
   "id": "ba081dc3",
   "metadata": {},
   "outputs": [
    {
     "data": {
      "text/plain": [
       "4"
      ]
     },
     "execution_count": 115,
     "metadata": {},
     "output_type": "execute_result"
    }
   ],
   "source": [
    "len(arr)"
   ]
  },
  {
   "cell_type": "code",
   "execution_count": 116,
   "id": "26d5b757",
   "metadata": {},
   "outputs": [
    {
     "data": {
      "text/plain": [
       "array([[ 0,  1,  2,  3],\n",
       "       [ 4,  5,  6,  7],\n",
       "       [ 8,  9, 10, 11],\n",
       "       [12, 13, 14, 15]])"
      ]
     },
     "execution_count": 116,
     "metadata": {},
     "output_type": "execute_result"
    }
   ],
   "source": [
    "m = np.arange(16).reshape(-567,4)\n",
    "m"
   ]
  },
  {
   "cell_type": "code",
   "execution_count": 117,
   "id": "b9665356",
   "metadata": {},
   "outputs": [
    {
     "data": {
      "text/plain": [
       "4"
      ]
     },
     "execution_count": 117,
     "metadata": {},
     "output_type": "execute_result"
    }
   ],
   "source": [
    "len(m)"
   ]
  },
  {
   "cell_type": "code",
   "execution_count": null,
   "id": "7da12d03",
   "metadata": {},
   "outputs": [],
   "source": []
  },
  {
   "cell_type": "code",
   "execution_count": 118,
   "id": "5a7757d0",
   "metadata": {},
   "outputs": [
    {
     "name": "stdout",
     "output_type": "stream",
     "text": [
      "[0, 5, 10, 15]\n"
     ]
    }
   ],
   "source": [
    "arr = [[0, 1, 2, 3],\n",
    "       [4, 5, 6, 7],\n",
    "       [8, 9, 10, 11],\n",
    "       [12, 13, 14, 15]]\n",
    "\n",
    "diagonal = []\n",
    "for i in range(len(arr)):\n",
    "    for j in range(len(arr[i])):\n",
    "        if i == j:\n",
    "            diagonal.append(arr[i][j])\n",
    "\n",
    "print(diagonal)\n"
   ]
  },
  {
   "cell_type": "code",
   "execution_count": 119,
   "id": "01621424",
   "metadata": {},
   "outputs": [
    {
     "data": {
      "text/plain": [
       "array([[ 0,  1],\n",
       "       [ 2,  3],\n",
       "       [ 4,  5],\n",
       "       [ 6,  7],\n",
       "       [ 8,  9],\n",
       "       [10, 11],\n",
       "       [12, 13],\n",
       "       [14, 15]])"
      ]
     },
     "execution_count": 119,
     "metadata": {},
     "output_type": "execute_result"
    }
   ],
   "source": [
    "c = np.arange(16).reshape(8,-1)\n",
    "c"
   ]
  },
  {
   "cell_type": "code",
   "execution_count": 120,
   "id": "f52a32da",
   "metadata": {},
   "outputs": [
    {
     "data": {
      "text/plain": [
       "array([0, 3])"
      ]
     },
     "execution_count": 120,
     "metadata": {},
     "output_type": "execute_result"
    }
   ],
   "source": [
    "np.diag(c)"
   ]
  },
  {
   "cell_type": "code",
   "execution_count": 121,
   "id": "e278d93f",
   "metadata": {},
   "outputs": [
    {
     "data": {
      "text/plain": [
       "array([0, 3])"
      ]
     },
     "execution_count": 121,
     "metadata": {},
     "output_type": "execute_result"
    }
   ],
   "source": [
    "np.diag(np.diag(np.diag(c)))"
   ]
  },
  {
   "cell_type": "code",
   "execution_count": 122,
   "id": "f7a232ff",
   "metadata": {},
   "outputs": [
    {
     "data": {
      "text/plain": [
       "array([[ 0,  1,  2,  3,  4,  5,  6,  7],\n",
       "       [ 8,  9, 10, 11, 12, 13, 14, 15]])"
      ]
     },
     "execution_count": 122,
     "metadata": {},
     "output_type": "execute_result"
    }
   ],
   "source": [
    "d = np.arange(16).reshape(-3254,8)\n",
    "d"
   ]
  },
  {
   "cell_type": "code",
   "execution_count": 123,
   "id": "b617da6e",
   "metadata": {},
   "outputs": [
    {
     "data": {
      "text/plain": [
       "array([ 3, 12])"
      ]
     },
     "execution_count": 123,
     "metadata": {},
     "output_type": "execute_result"
    }
   ],
   "source": [
    "np.diag(d, k=3)"
   ]
  },
  {
   "cell_type": "markdown",
   "id": "1a334a16",
   "metadata": {},
   "source": [
    "## np.diagflat()\n",
    "creating a flatten list and keeping the list as the diagnal"
   ]
  },
  {
   "cell_type": "code",
   "execution_count": 124,
   "id": "55bc3593",
   "metadata": {},
   "outputs": [
    {
     "data": {
      "text/plain": [
       "array([[1, 0, 0, 0],\n",
       "       [0, 2, 0, 0],\n",
       "       [0, 0, 3, 0],\n",
       "       [0, 0, 0, 4]])"
      ]
     },
     "execution_count": 124,
     "metadata": {},
     "output_type": "execute_result"
    }
   ],
   "source": [
    "np.diagflat([[1,2], [3,4]])"
   ]
  },
  {
   "cell_type": "code",
   "execution_count": 125,
   "id": "256e7c02",
   "metadata": {},
   "outputs": [
    {
     "data": {
      "text/plain": [
       "array([[0, 3, 0, 0, 0],\n",
       "       [0, 0, 4, 0, 0],\n",
       "       [0, 0, 0, 5, 0],\n",
       "       [0, 0, 0, 0, 6],\n",
       "       [0, 0, 0, 0, 0]])"
      ]
     },
     "execution_count": 125,
     "metadata": {},
     "output_type": "execute_result"
    }
   ],
   "source": [
    "np.diagflat([[3,4], [5,6]], k=1)"
   ]
  },
  {
   "cell_type": "code",
   "execution_count": 126,
   "id": "09a964ad",
   "metadata": {},
   "outputs": [
    {
     "data": {
      "text/plain": [
       "array([[0, 0, 1, 0, 0, 0],\n",
       "       [0, 0, 0, 2, 0, 0],\n",
       "       [0, 0, 0, 0, 3, 0],\n",
       "       [0, 0, 0, 0, 0, 4],\n",
       "       [0, 0, 0, 0, 0, 0],\n",
       "       [0, 0, 0, 0, 0, 0]])"
      ]
     },
     "execution_count": 126,
     "metadata": {},
     "output_type": "execute_result"
    }
   ],
   "source": [
    "np.diagflat([[1,2], [3,4]], k=2)"
   ]
  },
  {
   "cell_type": "code",
   "execution_count": 127,
   "id": "b67fab7d",
   "metadata": {},
   "outputs": [
    {
     "data": {
      "text/plain": [
       "array([[0, 0, 0, 0, 0],\n",
       "       [5, 0, 0, 0, 0],\n",
       "       [0, 6, 0, 0, 0],\n",
       "       [0, 0, 7, 0, 0],\n",
       "       [0, 0, 0, 8, 0]])"
      ]
     },
     "execution_count": 127,
     "metadata": {},
     "output_type": "execute_result"
    }
   ],
   "source": [
    "np.diagflat([[5,6],[7,8]], k=-1)"
   ]
  },
  {
   "cell_type": "code",
   "execution_count": 128,
   "id": "2cc5d552",
   "metadata": {},
   "outputs": [
    {
     "data": {
      "text/plain": [
       "array([[0, 0, 0, 0, 0, 0],\n",
       "       [0, 0, 0, 0, 0, 0],\n",
       "       [1, 0, 0, 0, 0, 0],\n",
       "       [0, 2, 0, 0, 0, 0],\n",
       "       [0, 0, 3, 0, 0, 0],\n",
       "       [0, 0, 0, 4, 0, 0]])"
      ]
     },
     "execution_count": 128,
     "metadata": {},
     "output_type": "execute_result"
    }
   ],
   "source": [
    "np.diagflat([[1,2], [3,4]], k=-2)"
   ]
  },
  {
   "cell_type": "markdown",
   "id": "57d893c1",
   "metadata": {},
   "source": [
    "## np.tri()\n",
    "an array with ones at and below the given diagnal and zeros else where"
   ]
  },
  {
   "cell_type": "code",
   "execution_count": 129,
   "id": "0503f568",
   "metadata": {},
   "outputs": [
    {
     "data": {
      "text/plain": [
       "array([[1., 0., 0.],\n",
       "       [1., 1., 0.],\n",
       "       [1., 1., 1.]])"
      ]
     },
     "execution_count": 129,
     "metadata": {},
     "output_type": "execute_result"
    }
   ],
   "source": [
    "np.tri(N=3, M=3, k=0)"
   ]
  },
  {
   "cell_type": "code",
   "execution_count": 130,
   "id": "92f733b4",
   "metadata": {},
   "outputs": [
    {
     "data": {
      "text/plain": [
       "array([[1., 0., 0., 0., 0.],\n",
       "       [1., 1., 0., 0., 0.],\n",
       "       [1., 1., 1., 0., 0.],\n",
       "       [1., 1., 1., 1., 0.],\n",
       "       [1., 1., 1., 1., 1.]])"
      ]
     },
     "execution_count": 130,
     "metadata": {},
     "output_type": "execute_result"
    }
   ],
   "source": [
    "np.tri(5,5)"
   ]
  },
  {
   "cell_type": "code",
   "execution_count": 131,
   "id": "5a18f5b1",
   "metadata": {},
   "outputs": [
    {
     "data": {
      "text/plain": [
       "array([[1., 1., 1., 0., 0.],\n",
       "       [1., 1., 1., 1., 0.],\n",
       "       [1., 1., 1., 1., 1.],\n",
       "       [1., 1., 1., 1., 1.],\n",
       "       [1., 1., 1., 1., 1.]])"
      ]
     },
     "execution_count": 131,
     "metadata": {},
     "output_type": "execute_result"
    }
   ],
   "source": [
    "np.tri(5,5,k=2)"
   ]
  },
  {
   "cell_type": "code",
   "execution_count": 132,
   "id": "11f842e9",
   "metadata": {},
   "outputs": [
    {
     "data": {
      "text/plain": [
       "array([[1., 1., 1., 1., 0., 0., 0., 0., 0.],\n",
       "       [1., 1., 1., 1., 1., 0., 0., 0., 0.],\n",
       "       [1., 1., 1., 1., 1., 1., 0., 0., 0.],\n",
       "       [1., 1., 1., 1., 1., 1., 1., 0., 0.],\n",
       "       [1., 1., 1., 1., 1., 1., 1., 1., 0.]])"
      ]
     },
     "execution_count": 132,
     "metadata": {},
     "output_type": "execute_result"
    }
   ],
   "source": [
    "np.tri(5,9,k=3)"
   ]
  },
  {
   "cell_type": "markdown",
   "id": "80be3efc",
   "metadata": {},
   "source": [
    "## np.tril() , np.triu()\n",
    "data below the diagnal will be kept"
   ]
  },
  {
   "cell_type": "code",
   "execution_count": 133,
   "id": "321c734b",
   "metadata": {},
   "outputs": [
    {
     "data": {
      "text/plain": [
       "array([[0, 0, 0],\n",
       "       [4, 0, 0],\n",
       "       [7, 8, 0]])"
      ]
     },
     "execution_count": 133,
     "metadata": {},
     "output_type": "execute_result"
    }
   ],
   "source": [
    "np.tril([[1,2,3], [4,5,6], [7,8,9]], k=-1)"
   ]
  },
  {
   "cell_type": "code",
   "execution_count": 134,
   "id": "30c18656",
   "metadata": {},
   "outputs": [
    {
     "data": {
      "text/plain": [
       "array([[1, 2, 3],\n",
       "       [4, 5, 6],\n",
       "       [7, 8, 9]])"
      ]
     },
     "execution_count": 134,
     "metadata": {},
     "output_type": "execute_result"
    }
   ],
   "source": [
    "np.array([[1,2,3], [4,5,6], [7,8,9]])"
   ]
  },
  {
   "cell_type": "code",
   "execution_count": 135,
   "id": "3a77d2b2",
   "metadata": {},
   "outputs": [
    {
     "data": {
      "text/plain": [
       "array([[ 1,  2,  3],\n",
       "       [ 4,  5,  6],\n",
       "       [ 0,  8,  9],\n",
       "       [ 0,  0, 12]])"
      ]
     },
     "execution_count": 135,
     "metadata": {},
     "output_type": "execute_result"
    }
   ],
   "source": [
    "np.triu([[1,2,3], [4,5,6], [7,8,9], [10,11,12]], k=-1)"
   ]
  },
  {
   "cell_type": "code",
   "execution_count": null,
   "id": "5b05a7aa",
   "metadata": {},
   "outputs": [],
   "source": []
  },
  {
   "cell_type": "markdown",
   "id": "d70f1617",
   "metadata": {},
   "source": [
    "## random number generation"
   ]
  },
  {
   "cell_type": "code",
   "execution_count": 136,
   "id": "e689a06f",
   "metadata": {},
   "outputs": [],
   "source": [
    "import numpy as np"
   ]
  },
  {
   "cell_type": "code",
   "execution_count": 137,
   "id": "69945cf3",
   "metadata": {},
   "outputs": [
    {
     "data": {
      "text/plain": [
       "array([[0.79606409, 0.2487391 , 0.99453841],\n",
       "       [0.55785346, 0.7341806 , 0.87098669]])"
      ]
     },
     "execution_count": 137,
     "metadata": {},
     "output_type": "execute_result"
    }
   ],
   "source": [
    "# this function creates an array and populates the data based on the uniform sample distributin from zero to one\n",
    "# uniform distribution means generating data from zero to one\n",
    "# 2d\n",
    "np.random.rand(2,3)   "
   ]
  },
  {
   "cell_type": "code",
   "execution_count": 139,
   "id": "abfd7939",
   "metadata": {},
   "outputs": [
    {
     "data": {
      "text/plain": [
       "array([[[0.61949962, 0.32318368, 0.77958377, 0.76978402, 0.94427408],\n",
       "        [0.27052773, 0.05803641, 0.75620819, 0.17931926, 0.86575693],\n",
       "        [0.49256722, 0.12651171, 0.41713281, 0.10823569, 0.14917584],\n",
       "        [0.78970748, 0.21896998, 0.71662503, 0.52832042, 0.79147155]],\n",
       "\n",
       "       [[0.55249894, 0.7547832 , 0.93672464, 0.92150691, 0.55765231],\n",
       "        [0.89041342, 0.82678527, 0.54363228, 0.90811332, 0.514055  ],\n",
       "        [0.71672349, 0.16922758, 0.15870792, 0.46764716, 0.6006915 ],\n",
       "        [0.35985289, 0.41473164, 0.33382711, 0.81781327, 0.91025153]],\n",
       "\n",
       "       [[0.05675233, 0.72698262, 0.56687003, 0.00766234, 0.64616663],\n",
       "        [0.44248647, 0.87969571, 0.60625145, 0.04446834, 0.05613986],\n",
       "        [0.28466557, 0.04487581, 0.55926615, 0.71454547, 0.42744652],\n",
       "        [0.69183415, 0.88389547, 0.43315081, 0.09328416, 0.80081988]]])"
      ]
     },
     "execution_count": 139,
     "metadata": {},
     "output_type": "execute_result"
    }
   ],
   "source": [
    "#3d\n",
    "import numpy\n",
    "numpy.random.rand(3,4,5)"
   ]
  },
  {
   "cell_type": "code",
   "execution_count": null,
   "id": "40be601d",
   "metadata": {},
   "outputs": [],
   "source": []
  },
  {
   "cell_type": "markdown",
   "id": "681bd667",
   "metadata": {},
   "source": [
    "numpy.random.randn()\n",
    "data generated by this function has a zero mean and a standard deviation of one"
   ]
  },
  {
   "cell_type": "code",
   "execution_count": 140,
   "id": "e17b25ff",
   "metadata": {},
   "outputs": [
    {
     "data": {
      "text/plain": [
       "array([[-0.26942098, -0.91448043, -0.65758103,  1.41025082],\n",
       "       [-0.21161405,  0.0445771 ,  0.43463527,  0.18116594],\n",
       "       [-0.95548288, -0.52890533, -0.2701858 , -0.64655539]])"
      ]
     },
     "execution_count": 140,
     "metadata": {},
     "output_type": "execute_result"
    }
   ],
   "source": [
    "# 2d\n",
    "np.random.randn(3,4)"
   ]
  },
  {
   "cell_type": "code",
   "execution_count": 141,
   "id": "cf7562c0",
   "metadata": {},
   "outputs": [
    {
     "data": {
      "text/plain": [
       "array([[[ 0.40948681,  1.17875655, -1.98435028, -1.36471266],\n",
       "        [ 0.46310382, -0.41939262, -0.54883739,  1.99391893],\n",
       "        [-0.00418828, -1.40731613,  1.6267189 , -0.92025039]],\n",
       "\n",
       "       [[-2.19498672, -0.76631443, -0.47019356, -0.2105166 ],\n",
       "        [-0.54199006,  0.14463427, -0.94695176,  1.36808009],\n",
       "        [ 0.24800799, -0.31723301,  0.7841203 ,  1.33796012]]])"
      ]
     },
     "execution_count": 141,
     "metadata": {},
     "output_type": "execute_result"
    }
   ],
   "source": [
    "# 3d\n",
    "np.random.randn(2,3,4)"
   ]
  },
  {
   "cell_type": "code",
   "execution_count": null,
   "id": "224db6b4",
   "metadata": {},
   "outputs": [],
   "source": []
  },
  {
   "cell_type": "markdown",
   "id": "1ef59959",
   "metadata": {},
   "source": [
    "numpy.random.randint()\n",
    "\n",
    "this function only generates random intergers\n",
    "\n",
    "if no size is specified only i data will be generated\n"
   ]
  },
  {
   "cell_type": "code",
   "execution_count": 142,
   "id": "f8fea5cb",
   "metadata": {},
   "outputs": [
    {
     "data": {
      "text/plain": [
       "26"
      ]
     },
     "execution_count": 142,
     "metadata": {},
     "output_type": "execute_result"
    }
   ],
   "source": [
    "np.random.randint(1,50)"
   ]
  },
  {
   "cell_type": "code",
   "execution_count": 143,
   "id": "b4d12e84",
   "metadata": {},
   "outputs": [
    {
     "data": {
      "text/plain": [
       "array([59, 57, 59, 84, 97, 88, 82, 72, 84, 70, 86, 68, 51, 82, 94, 80, 56,\n",
       "       77, 75, 70])"
      ]
     },
     "execution_count": 143,
     "metadata": {},
     "output_type": "execute_result"
    }
   ],
   "source": [
    "# low=50, high=100, size=20\n",
    "np.random.randint(50,100,20)"
   ]
  },
  {
   "cell_type": "code",
   "execution_count": 144,
   "id": "4291cf34",
   "metadata": {},
   "outputs": [
    {
     "data": {
      "text/plain": [
       "array([[90, 61, 52, 70],\n",
       "       [87, 75, 67, 97],\n",
       "       [86, 86, 94, 62],\n",
       "       [75, 51, 95, 79],\n",
       "       [65, 60, 66, 68]])"
      ]
     },
     "execution_count": 144,
     "metadata": {},
     "output_type": "execute_result"
    }
   ],
   "source": [
    "np.random.randint(50,100,(5,4))"
   ]
  },
  {
   "cell_type": "code",
   "execution_count": 145,
   "id": "949a626a",
   "metadata": {},
   "outputs": [
    {
     "data": {
      "text/plain": [
       "array([54, 98, 90, 88, 92, 83, 91, 75, 76, 60])"
      ]
     },
     "execution_count": 145,
     "metadata": {},
     "output_type": "execute_result"
    }
   ],
   "source": [
    "np.random.randint(50,100,10)"
   ]
  },
  {
   "cell_type": "markdown",
   "id": "9206fd4d",
   "metadata": {},
   "source": [
    "# Reshaping"
   ]
  },
  {
   "cell_type": "code",
   "execution_count": 146,
   "id": "7b4a2991",
   "metadata": {},
   "outputs": [],
   "source": [
    "# creating an alias of randint\n",
    "from numpy.random import randint as ri"
   ]
  },
  {
   "cell_type": "code",
   "execution_count": 147,
   "id": "78bf8df0",
   "metadata": {},
   "outputs": [
    {
     "data": {
      "text/plain": [
       "array([23, 41, 32, 48, 29, 52, 25, 49, 41, 46, 22, 30, 57, 53, 37, 49, 43,\n",
       "       41, 26, 30])"
      ]
     },
     "execution_count": 147,
     "metadata": {},
     "output_type": "execute_result"
    }
   ],
   "source": [
    "a = ri(20, 60, 20)\n",
    "a"
   ]
  },
  {
   "cell_type": "code",
   "execution_count": 148,
   "id": "c2f07b78",
   "metadata": {},
   "outputs": [
    {
     "data": {
      "text/plain": [
       "array([[23, 41, 32, 48],\n",
       "       [29, 52, 25, 49],\n",
       "       [41, 46, 22, 30],\n",
       "       [57, 53, 37, 49],\n",
       "       [43, 41, 26, 30]])"
      ]
     },
     "execution_count": 148,
     "metadata": {},
     "output_type": "execute_result"
    }
   ],
   "source": [
    "# reshaping a \n",
    "a.reshape(5,4)"
   ]
  },
  {
   "cell_type": "code",
   "execution_count": 149,
   "id": "32341b67",
   "metadata": {},
   "outputs": [
    {
     "data": {
      "text/plain": [
       "array([[[23, 41],\n",
       "        [32, 48]],\n",
       "\n",
       "       [[29, 52],\n",
       "        [25, 49]],\n",
       "\n",
       "       [[41, 46],\n",
       "        [22, 30]],\n",
       "\n",
       "       [[57, 53],\n",
       "        [37, 49]],\n",
       "\n",
       "       [[43, 41],\n",
       "        [26, 30]]])"
      ]
     },
     "execution_count": 149,
     "metadata": {},
     "output_type": "execute_result"
    }
   ],
   "source": [
    "a.reshape(5,2,2)"
   ]
  },
  {
   "cell_type": "code",
   "execution_count": null,
   "id": "2ffce48c",
   "metadata": {},
   "outputs": [],
   "source": []
  },
  {
   "cell_type": "code",
   "execution_count": 150,
   "id": "8a8923ef",
   "metadata": {},
   "outputs": [
    {
     "data": {
      "text/plain": [
       "array([4, 3, 2, 2, 3, 2, 7, 2])"
      ]
     },
     "execution_count": 150,
     "metadata": {},
     "output_type": "execute_result"
    }
   ],
   "source": [
    "b = ri(1,10,8)\n",
    "b"
   ]
  },
  {
   "cell_type": "code",
   "execution_count": 151,
   "id": "1ea69aac",
   "metadata": {},
   "outputs": [
    {
     "data": {
      "text/plain": [
       "array([[4, 3],\n",
       "       [2, 2],\n",
       "       [3, 2],\n",
       "       [7, 2]])"
      ]
     },
     "execution_count": 151,
     "metadata": {},
     "output_type": "execute_result"
    }
   ],
   "source": [
    "b.reshape(4,2)"
   ]
  },
  {
   "cell_type": "code",
   "execution_count": 152,
   "id": "abbbd0df",
   "metadata": {},
   "outputs": [
    {
     "data": {
      "text/plain": [
       "array([[[23, 41],\n",
       "        [32, 48]],\n",
       "\n",
       "       [[29, 52],\n",
       "        [25, 49]],\n",
       "\n",
       "       [[41, 46],\n",
       "        [22, 30]],\n",
       "\n",
       "       [[57, 53],\n",
       "        [37, 49]],\n",
       "\n",
       "       [[43, 41],\n",
       "        [26, 30]]])"
      ]
     },
     "execution_count": 152,
     "metadata": {},
     "output_type": "execute_result"
    }
   ],
   "source": [
    "z = np.copy(a).reshape(5,2,2)\n",
    "z"
   ]
  },
  {
   "cell_type": "code",
   "execution_count": 153,
   "id": "00a462fb",
   "metadata": {},
   "outputs": [
    {
     "data": {
      "text/plain": [
       "(5, 2, 2)"
      ]
     },
     "execution_count": 153,
     "metadata": {},
     "output_type": "execute_result"
    }
   ],
   "source": [
    "z.shape"
   ]
  },
  {
   "cell_type": "code",
   "execution_count": null,
   "id": "851b35db",
   "metadata": {},
   "outputs": [],
   "source": []
  },
  {
   "cell_type": "code",
   "execution_count": 154,
   "id": "6fcc72d0",
   "metadata": {},
   "outputs": [
    {
     "data": {
      "text/plain": [
       "array([21, 38, 25,  8, 42, 36, 44, 72,  7, 91])"
      ]
     },
     "execution_count": 154,
     "metadata": {},
     "output_type": "execute_result"
    }
   ],
   "source": [
    "# vector of random intergers\n",
    "v = ri(1,100, 10)\n",
    "v"
   ]
  },
  {
   "cell_type": "code",
   "execution_count": 155,
   "id": "9e1eb41f",
   "metadata": {},
   "outputs": [
    {
     "data": {
      "text/plain": [
       "array([ 7,  8, 21, 25, 36, 38, 42, 44, 72, 91])"
      ]
     },
     "execution_count": 155,
     "metadata": {},
     "output_type": "execute_result"
    }
   ],
   "source": [
    "np.sort(v)"
   ]
  },
  {
   "cell_type": "code",
   "execution_count": 156,
   "id": "27d8d24b",
   "metadata": {},
   "outputs": [
    {
     "data": {
      "text/plain": [
       "array([[98, 21, 98, 68, 71],\n",
       "       [73, 60, 13, 82,  7],\n",
       "       [ 8,  8, 57, 88,  9],\n",
       "       [ 1, 65, 44, 53, 44],\n",
       "       [85, 41, 66, 56, 70]])"
      ]
     },
     "execution_count": 156,
     "metadata": {},
     "output_type": "execute_result"
    }
   ],
   "source": [
    "# example 2\n",
    "m = ri(1, 100, 25).reshape(5,5)\n",
    "m"
   ]
  },
  {
   "cell_type": "code",
   "execution_count": 157,
   "id": "df7c374b",
   "metadata": {},
   "outputs": [
    {
     "data": {
      "text/plain": [
       "array([[21, 68, 71, 98, 98],\n",
       "       [ 7, 13, 60, 73, 82],\n",
       "       [ 8,  8,  9, 57, 88],\n",
       "       [ 1, 44, 44, 53, 65],\n",
       "       [41, 56, 66, 70, 85]])"
      ]
     },
     "execution_count": 157,
     "metadata": {},
     "output_type": "execute_result"
    }
   ],
   "source": [
    "np.sort(m)"
   ]
  },
  {
   "cell_type": "code",
   "execution_count": 159,
   "id": "ce8c855b",
   "metadata": {},
   "outputs": [
    {
     "data": {
      "text/plain": [
       "array([[ 1,  8, 13, 53,  7],\n",
       "       [ 8, 21, 44, 56,  9],\n",
       "       [73, 41, 57, 68, 44],\n",
       "       [85, 60, 66, 82, 70],\n",
       "       [98, 65, 98, 88, 71]])"
      ]
     },
     "execution_count": 159,
     "metadata": {},
     "output_type": "execute_result"
    }
   ],
   "source": [
    "b = np.sort(m, axis=0)\n",
    "b"
   ]
  },
  {
   "cell_type": "code",
   "execution_count": 160,
   "id": "4438edd0",
   "metadata": {},
   "outputs": [
    {
     "data": {
      "text/plain": [
       "array([[ 1,  7,  8, 13, 53],\n",
       "       [ 8,  9, 21, 44, 56],\n",
       "       [41, 44, 57, 68, 73],\n",
       "       [60, 66, 70, 82, 85],\n",
       "       [65, 71, 88, 98, 98]])"
      ]
     },
     "execution_count": 160,
     "metadata": {},
     "output_type": "execute_result"
    }
   ],
   "source": [
    "np.sort(b, axis=1)"
   ]
  },
  {
   "cell_type": "code",
   "execution_count": 161,
   "id": "b8207441",
   "metadata": {},
   "outputs": [
    {
     "data": {
      "text/plain": [
       "98"
      ]
     },
     "execution_count": 161,
     "metadata": {},
     "output_type": "execute_result"
    }
   ],
   "source": [
    "# getting the max in the array\n",
    "b.max()"
   ]
  },
  {
   "cell_type": "code",
   "execution_count": 163,
   "id": "0348c6d5",
   "metadata": {},
   "outputs": [
    {
     "data": {
      "text/plain": [
       "1"
      ]
     },
     "execution_count": 163,
     "metadata": {},
     "output_type": "execute_result"
    }
   ],
   "source": [
    "# getting the minimum in this array\n",
    "b.min()"
   ]
  },
  {
   "cell_type": "markdown",
   "id": "b64f455b",
   "metadata": {},
   "source": [
    "## argmax()\n",
    "it returns indices of the maximum values along with the given axis"
   ]
  },
  {
   "cell_type": "code",
   "execution_count": 170,
   "id": "00341696",
   "metadata": {},
   "outputs": [
    {
     "data": {
      "text/plain": [
       "array([[10, 84, 47, 15, 59],\n",
       "       [52, 32, 59, 57, 67],\n",
       "       [56, 52,  5, 29, 99],\n",
       "       [74, 83,  2, 81, 34],\n",
       "       [95, 67, 72, 34, 18]])"
      ]
     },
     "execution_count": 170,
     "metadata": {},
     "output_type": "execute_result"
    }
   ],
   "source": [
    "g  = np.random.randint(1,100,25).reshape(5,5)\n",
    "g"
   ]
  },
  {
   "cell_type": "code",
   "execution_count": 172,
   "id": "7eff5cb2",
   "metadata": {},
   "outputs": [
    {
     "data": {
      "text/plain": [
       "array([1, 4, 4, 1, 0], dtype=int64)"
      ]
     },
     "execution_count": 172,
     "metadata": {},
     "output_type": "execute_result"
    }
   ],
   "source": [
    "g.argmax(axis=1)"
   ]
  },
  {
   "cell_type": "markdown",
   "id": "aa3c4602",
   "metadata": {},
   "source": [
    "## indexing and slicing"
   ]
  },
  {
   "cell_type": "code",
   "execution_count": 4,
   "id": "625e0dbf",
   "metadata": {},
   "outputs": [
    {
     "data": {
      "text/plain": [
       "array([ 0,  1,  2,  3,  4,  5,  6,  7,  8,  9, 10, 11, 12, 13, 14])"
      ]
     },
     "execution_count": 4,
     "metadata": {},
     "output_type": "execute_result"
    }
   ],
   "source": [
    "import numpy as np\n",
    "arr = np.arange(0, 15)\n",
    "arr"
   ]
  },
  {
   "cell_type": "code",
   "execution_count": 5,
   "id": "e7017244",
   "metadata": {},
   "outputs": [
    {
     "data": {
      "text/plain": [
       "5"
      ]
     },
     "execution_count": 5,
     "metadata": {},
     "output_type": "execute_result"
    }
   ],
   "source": [
    "arr[5]"
   ]
  },
  {
   "cell_type": "code",
   "execution_count": 6,
   "id": "06b8f661",
   "metadata": {},
   "outputs": [
    {
     "data": {
      "text/plain": [
       "array([1, 2, 3, 4, 5, 6, 7])"
      ]
     },
     "execution_count": 6,
     "metadata": {},
     "output_type": "execute_result"
    }
   ],
   "source": [
    "arr[1:8]"
   ]
  },
  {
   "cell_type": "code",
   "execution_count": 9,
   "id": "7bcf1378",
   "metadata": {},
   "outputs": [
    {
     "data": {
      "text/plain": [
       "array([], dtype=int32)"
      ]
     },
     "execution_count": 9,
     "metadata": {},
     "output_type": "execute_result"
    }
   ],
   "source": [
    "# this will return an empty since the step is positive\n",
    "arr[-1:9]"
   ]
  },
  {
   "cell_type": "code",
   "execution_count": 11,
   "id": "742b958f",
   "metadata": {},
   "outputs": [
    {
     "data": {
      "text/plain": [
       "array([13, 11,  9,  7])"
      ]
     },
     "execution_count": 11,
     "metadata": {},
     "output_type": "execute_result"
    }
   ],
   "source": [
    "arr[-2:-10:-2]"
   ]
  },
  {
   "cell_type": "code",
   "execution_count": null,
   "id": "cad61e19",
   "metadata": {},
   "outputs": [],
   "source": []
  },
  {
   "cell_type": "code",
   "execution_count": 17,
   "id": "fae70365",
   "metadata": {},
   "outputs": [
    {
     "data": {
      "text/plain": [
       "array([0, 2, 4, 6, 8])"
      ]
     },
     "execution_count": 17,
     "metadata": {},
     "output_type": "execute_result"
    }
   ],
   "source": [
    "np.linspace(0,10,5,endpoint=False, dtype=int)"
   ]
  },
  {
   "cell_type": "code",
   "execution_count": 13,
   "id": "383d498d",
   "metadata": {},
   "outputs": [
    {
     "data": {
      "text/plain": [
       "array([6, 7, 3, 9, 4])"
      ]
     },
     "execution_count": 13,
     "metadata": {},
     "output_type": "execute_result"
    }
   ],
   "source": [
    "np.random.randint(0,10,5)"
   ]
  },
  {
   "cell_type": "markdown",
   "id": "448fd5c7",
   "metadata": {},
   "source": [
    "#### slicing  a three dimensional data"
   ]
  },
  {
   "cell_type": "code",
   "execution_count": 20,
   "id": "64c49c0b",
   "metadata": {},
   "outputs": [
    {
     "data": {
      "text/plain": [
       "array([[[80, 42, 41],\n",
       "        [87, 82, 55],\n",
       "        [77, 33, 16],\n",
       "        [65, 60, 57],\n",
       "        [13, 92, 13]],\n",
       "\n",
       "       [[80, 75, 63],\n",
       "        [94, 51, 77],\n",
       "        [98, 97, 55],\n",
       "        [25, 51, 47],\n",
       "        [60, 25, 80]],\n",
       "\n",
       "       [[77, 24, 36],\n",
       "        [60, 91, 95],\n",
       "        [81, 50, 88],\n",
       "        [86, 67, 84],\n",
       "        [38, 62, 66]]])"
      ]
     },
     "execution_count": 20,
     "metadata": {},
     "output_type": "execute_result"
    }
   ],
   "source": [
    "mat = np.random.randint(10,100,45).reshape(3,5,3)\n",
    "mat"
   ]
  },
  {
   "cell_type": "code",
   "execution_count": 24,
   "id": "572442e6",
   "metadata": {},
   "outputs": [
    {
     "data": {
      "text/plain": [
       "51"
      ]
     },
     "execution_count": 24,
     "metadata": {},
     "output_type": "execute_result"
    }
   ],
   "source": [
    "mat[1][1][1]"
   ]
  },
  {
   "cell_type": "code",
   "execution_count": 39,
   "id": "f2ded435",
   "metadata": {},
   "outputs": [
    {
     "data": {
      "text/plain": [
       "array([63, 77, 55, 47, 80])"
      ]
     },
     "execution_count": 39,
     "metadata": {},
     "output_type": "execute_result"
    }
   ],
   "source": [
    "# selecting a column at layer two , column number 2\n",
    "mat[1][:,2]"
   ]
  },
  {
   "cell_type": "code",
   "execution_count": 44,
   "id": "98d0d152",
   "metadata": {},
   "outputs": [
    {
     "data": {
      "text/plain": [
       "array([[[[33, 92],\n",
       "         [ 9, 94],\n",
       "         [52, 39],\n",
       "         [16, 86]],\n",
       "\n",
       "        [[42,  8],\n",
       "         [67, 79],\n",
       "         [ 0, 66],\n",
       "         [86, 62]]],\n",
       "\n",
       "\n",
       "       [[[54, 88],\n",
       "         [10, 90],\n",
       "         [50, 11],\n",
       "         [95, 46]],\n",
       "\n",
       "        [[61, 17],\n",
       "         [35, 87],\n",
       "         [67, 26],\n",
       "         [27, 50]]],\n",
       "\n",
       "\n",
       "       [[[86,  5],\n",
       "         [26, 85],\n",
       "         [83, 15],\n",
       "         [53,  7]],\n",
       "\n",
       "        [[41,  5],\n",
       "         [66, 48],\n",
       "         [10, 29],\n",
       "         [55, 16]]],\n",
       "\n",
       "\n",
       "       [[[66, 39],\n",
       "         [17, 21],\n",
       "         [63, 78],\n",
       "         [43, 49]],\n",
       "\n",
       "        [[89,  0],\n",
       "         [88, 45],\n",
       "         [72,  9],\n",
       "         [70, 54]]]])"
      ]
     },
     "execution_count": 44,
     "metadata": {},
     "output_type": "execute_result"
    }
   ],
   "source": [
    "m2 = np.random.randint(0,100,64).reshape(4,2,4,2)\n",
    "m2\n",
    "    "
   ]
  },
  {
   "cell_type": "code",
   "execution_count": 48,
   "id": "8f2d2ad5",
   "metadata": {},
   "outputs": [
    {
     "data": {
      "text/plain": [
       "array([ 5, 48, 29, 16])"
      ]
     },
     "execution_count": 48,
     "metadata": {},
     "output_type": "execute_result"
    }
   ],
   "source": [
    "m2[2][1][:,1]"
   ]
  },
  {
   "cell_type": "code",
   "execution_count": null,
   "id": "47bc4ab3",
   "metadata": {},
   "outputs": [],
   "source": []
  },
  {
   "cell_type": "code",
   "execution_count": 50,
   "id": "98fd2f40",
   "metadata": {},
   "outputs": [
    {
     "data": {
      "text/plain": [
       "array([[[80, 42, 41],\n",
       "        [87, 82, 55],\n",
       "        [77, 33, 16],\n",
       "        [65, 60, 57],\n",
       "        [13, 92, 13]],\n",
       "\n",
       "       [[80, 75, 63],\n",
       "        [94, 51, 77],\n",
       "        [98, 97, 55],\n",
       "        [25, 51, 47],\n",
       "        [60, 25, 80]],\n",
       "\n",
       "       [[77, 24, 36],\n",
       "        [60, 91, 95],\n",
       "        [81, 50, 88],\n",
       "        [86, 67, 84],\n",
       "        [38, 62, 66]]])"
      ]
     },
     "execution_count": 50,
     "metadata": {},
     "output_type": "execute_result"
    }
   ],
   "source": [
    "mat"
   ]
  },
  {
   "cell_type": "code",
   "execution_count": 74,
   "id": "370883d6",
   "metadata": {},
   "outputs": [
    {
     "data": {
      "text/plain": [
       "(array([[80, 42, 41],\n",
       "        [87, 82, 55]]),\n",
       " array([[80, 75, 63],\n",
       "        [94, 51, 77]]),\n",
       " array([[77, 24, 36],\n",
       "        [60, 91, 95]]))"
      ]
     },
     "execution_count": 74,
     "metadata": {},
     "output_type": "execute_result"
    }
   ],
   "source": [
    "mat[0][0:2:] , mat[1][0:2:] , mat[2][0:2]"
   ]
  },
  {
   "cell_type": "code",
   "execution_count": 78,
   "id": "1cf68201",
   "metadata": {},
   "outputs": [
    {
     "data": {
      "text/plain": [
       "array([[[80, 42, 41],\n",
       "        [87, 82, 55],\n",
       "        [13, 92, 13]],\n",
       "\n",
       "       [[80, 75, 63],\n",
       "        [94, 51, 77],\n",
       "        [60, 25, 80]],\n",
       "\n",
       "       [[77, 24, 36],\n",
       "        [60, 91, 95],\n",
       "        [38, 62, 66]]])"
      ]
     },
     "execution_count": 78,
     "metadata": {},
     "output_type": "execute_result"
    }
   ],
   "source": [
    "mat[0:3, [0,1,4]]"
   ]
  },
  {
   "cell_type": "code",
   "execution_count": 87,
   "id": "ffac14dd",
   "metadata": {},
   "outputs": [
    {
     "name": "stdout",
     "output_type": "stream",
     "text": [
      "[[42 41]\n",
      " [82 55]]\n",
      "[[75 63]\n",
      " [51 77]]\n",
      "[[24 36]\n",
      " [91 95]]\n"
     ]
    }
   ],
   "source": [
    "for i in range(len(mat)):\n",
    "    print(mat[i][0:2,1:3])"
   ]
  },
  {
   "cell_type": "markdown",
   "id": "9cf478e1",
   "metadata": {},
   "source": [
    "## matrix multiplication\n",
    "use at '@' symbol is used to perform matrix multiplication \n",
    "\n",
    "use of asteric '*' is used for index multiplication"
   ]
  },
  {
   "cell_type": "code",
   "execution_count": 91,
   "id": "734237bd",
   "metadata": {},
   "outputs": [
    {
     "data": {
      "text/plain": [
       "array([[9, 9, 9],\n",
       "       [4, 9, 1],\n",
       "       [2, 8, 5]])"
      ]
     },
     "execution_count": 91,
     "metadata": {},
     "output_type": "execute_result"
    }
   ],
   "source": [
    "a = np.random.randint(0,11,9).reshape(3,3)\n",
    "a"
   ]
  },
  {
   "cell_type": "code",
   "execution_count": 93,
   "id": "4ca1a31b",
   "metadata": {},
   "outputs": [
    {
     "data": {
      "text/plain": [
       "array([[10,  2,  4],\n",
       "       [ 7,  8,  7],\n",
       "       [ 1,  7,  2]])"
      ]
     },
     "execution_count": 93,
     "metadata": {},
     "output_type": "execute_result"
    }
   ],
   "source": [
    "b = np.random.randint(1,11,9).reshape(3,3)\n",
    "b"
   ]
  },
  {
   "cell_type": "code",
   "execution_count": 94,
   "id": "db955801",
   "metadata": {},
   "outputs": [
    {
     "data": {
      "text/plain": [
       "array([[162, 153, 117],\n",
       "       [104,  87,  81],\n",
       "       [ 81, 103,  74]])"
      ]
     },
     "execution_count": 94,
     "metadata": {},
     "output_type": "execute_result"
    }
   ],
   "source": [
    "a@b"
   ]
  },
  {
   "cell_type": "code",
   "execution_count": 95,
   "id": "5ace94fa",
   "metadata": {},
   "outputs": [
    {
     "data": {
      "text/plain": [
       "array([[90, 18, 36],\n",
       "       [28, 72,  7],\n",
       "       [ 2, 56, 10]])"
      ]
     },
     "execution_count": 95,
     "metadata": {},
     "output_type": "execute_result"
    }
   ],
   "source": [
    "a*b"
   ]
  },
  {
   "cell_type": "code",
   "execution_count": 96,
   "id": "6a89aa1e",
   "metadata": {},
   "outputs": [
    {
     "name": "stderr",
     "output_type": "stream",
     "text": [
      "C:\\Users\\charles\\AppData\\Local\\Temp\\ipykernel_10324\\4242617604.py:2: RuntimeWarning: divide by zero encountered in true_divide\n",
      "  a/0\n"
     ]
    },
    {
     "data": {
      "text/plain": [
       "array([[inf, inf, inf],\n",
       "       [inf, inf, inf],\n",
       "       [inf, inf, inf]])"
      ]
     },
     "execution_count": 96,
     "metadata": {},
     "output_type": "execute_result"
    }
   ],
   "source": [
    "# dividing a matrix by zero will give you infinity\n",
    "a/0"
   ]
  },
  {
   "cell_type": "code",
   "execution_count": 97,
   "id": "1c8c35c3",
   "metadata": {},
   "outputs": [
    {
     "data": {
      "text/plain": [
       "array([[81, 81, 81],\n",
       "       [16, 81,  1],\n",
       "       [ 4, 64, 25]], dtype=int32)"
      ]
     },
     "execution_count": 97,
     "metadata": {},
     "output_type": "execute_result"
    }
   ],
   "source": [
    "# exponentiaton of matrix\n",
    "a**2\n"
   ]
  },
  {
   "cell_type": "code",
   "execution_count": 98,
   "id": "be494232",
   "metadata": {},
   "outputs": [
    {
     "data": {
      "text/plain": [
       "array([[1000,    8,   64],\n",
       "       [ 343,  512,  343],\n",
       "       [   1,  343,    8]], dtype=int32)"
      ]
     },
     "execution_count": 98,
     "metadata": {},
     "output_type": "execute_result"
    }
   ],
   "source": [
    "b**3"
   ]
  },
  {
   "cell_type": "markdown",
   "id": "0da72193",
   "metadata": {},
   "source": [
    "## broadcasting"
   ]
  },
  {
   "cell_type": "code",
   "execution_count": 102,
   "id": "088aa4c6",
   "metadata": {},
   "outputs": [
    {
     "data": {
      "text/plain": [
       "array([[0., 0., 0., 0., 0.],\n",
       "       [0., 0., 0., 0., 0.],\n",
       "       [0., 0., 0., 0., 0.],\n",
       "       [0., 0., 0., 0., 0.]])"
      ]
     },
     "execution_count": 102,
     "metadata": {},
     "output_type": "execute_result"
    }
   ],
   "source": [
    "arr1 = np.zeros((4,5))\n",
    "arr1"
   ]
  },
  {
   "cell_type": "code",
   "execution_count": 103,
   "id": "dfd88e7c",
   "metadata": {},
   "outputs": [],
   "source": [
    "arr1 = arr1 + 100"
   ]
  },
  {
   "cell_type": "code",
   "execution_count": 104,
   "id": "37d6bb87",
   "metadata": {},
   "outputs": [
    {
     "data": {
      "text/plain": [
       "array([[100., 100., 100., 100., 100.],\n",
       "       [100., 100., 100., 100., 100.],\n",
       "       [100., 100., 100., 100., 100.],\n",
       "       [100., 100., 100., 100., 100.]])"
      ]
     },
     "execution_count": 104,
     "metadata": {},
     "output_type": "execute_result"
    }
   ],
   "source": [
    "arr1"
   ]
  },
  {
   "cell_type": "code",
   "execution_count": 107,
   "id": "5b46e2e2",
   "metadata": {},
   "outputs": [],
   "source": [
    "row =np.array([1,0,6,5,10])"
   ]
  },
  {
   "cell_type": "code",
   "execution_count": 108,
   "id": "ebe817df",
   "metadata": {},
   "outputs": [
    {
     "data": {
      "text/plain": [
       "array([[101., 100., 106., 105., 110.],\n",
       "       [101., 100., 106., 105., 110.],\n",
       "       [101., 100., 106., 105., 110.],\n",
       "       [101., 100., 106., 105., 110.]])"
      ]
     },
     "execution_count": 108,
     "metadata": {},
     "output_type": "execute_result"
    }
   ],
   "source": [
    "arr1 + row"
   ]
  },
  {
   "cell_type": "code",
   "execution_count": 111,
   "id": "5d9691a4",
   "metadata": {},
   "outputs": [
    {
     "data": {
      "text/plain": [
       "array([[100., 100., 100.],\n",
       "       [100., 100., 100.],\n",
       "       [100., 100., 100.]])"
      ]
     },
     "execution_count": 111,
     "metadata": {},
     "output_type": "execute_result"
    }
   ],
   "source": [
    "# performing broadcasting column wise\n",
    "mat2 = np.zeros((3,3)) + 100\n",
    "mat2"
   ]
  },
  {
   "cell_type": "code",
   "execution_count": 116,
   "id": "a20a96c7",
   "metadata": {},
   "outputs": [
    {
     "data": {
      "text/plain": [
       "array([1, 3, 6])"
      ]
     },
     "execution_count": 116,
     "metadata": {},
     "output_type": "execute_result"
    }
   ],
   "source": [
    "column = np.array([1,3,6]).T\n",
    "column"
   ]
  },
  {
   "cell_type": "code",
   "execution_count": 117,
   "id": "349cea7e",
   "metadata": {},
   "outputs": [
    {
     "data": {
      "text/plain": [
       "array([[101., 103., 106.],\n",
       "       [101., 103., 106.],\n",
       "       [101., 103., 106.]])"
      ]
     },
     "execution_count": 117,
     "metadata": {},
     "output_type": "execute_result"
    }
   ],
   "source": [
    "mat2 + column\n"
   ]
  },
  {
   "cell_type": "markdown",
   "id": "309b59c3",
   "metadata": {},
   "source": [
    "# array math"
   ]
  },
  {
   "cell_type": "code",
   "execution_count": 122,
   "id": "b055ac60",
   "metadata": {},
   "outputs": [
    {
     "data": {
      "text/plain": [
       "array([[21, 65, 56],\n",
       "       [21, 84, 67],\n",
       "       [79, 76, 85]])"
      ]
     },
     "execution_count": 122,
     "metadata": {},
     "output_type": "execute_result"
    }
   ],
   "source": [
    "mat  = np.random.randint(10,100,9).reshape(3,3)\n",
    "mat"
   ]
  },
  {
   "cell_type": "code",
   "execution_count": 123,
   "id": "eac766ce",
   "metadata": {},
   "outputs": [
    {
     "data": {
      "text/plain": [
       "array([[4.58257569, 8.06225775, 7.48331477],\n",
       "       [4.58257569, 9.16515139, 8.18535277],\n",
       "       [8.88819442, 8.71779789, 9.21954446]])"
      ]
     },
     "execution_count": 123,
     "metadata": {},
     "output_type": "execute_result"
    }
   ],
   "source": [
    "np.sqrt(mat)"
   ]
  },
  {
   "cell_type": "code",
   "execution_count": 124,
   "id": "8b760ac4",
   "metadata": {},
   "outputs": [
    {
     "ename": "AttributeError",
     "evalue": "module 'numpy' has no attribute 'sqr'",
     "output_type": "error",
     "traceback": [
      "\u001b[1;31m---------------------------------------------------------------------------\u001b[0m",
      "\u001b[1;31mAttributeError\u001b[0m                            Traceback (most recent call last)",
      "\u001b[1;32m~\\AppData\\Local\\Temp\\ipykernel_10324\\3709956181.py\u001b[0m in \u001b[0;36m<module>\u001b[1;34m\u001b[0m\n\u001b[1;32m----> 1\u001b[1;33m \u001b[0mnp\u001b[0m\u001b[1;33m.\u001b[0m\u001b[0msqr\u001b[0m\u001b[1;33m(\u001b[0m\u001b[0mmat\u001b[0m\u001b[1;33m)\u001b[0m\u001b[1;33m\u001b[0m\u001b[1;33m\u001b[0m\u001b[0m\n\u001b[0m",
      "\u001b[1;32mC:\\ProgramData\\Anaconda3\\lib\\site-packages\\numpy\\__init__.py\u001b[0m in \u001b[0;36m__getattr__\u001b[1;34m(attr)\u001b[0m\n\u001b[0;32m    311\u001b[0m                 \u001b[1;32mreturn\u001b[0m \u001b[0mTester\u001b[0m\u001b[1;33m\u001b[0m\u001b[1;33m\u001b[0m\u001b[0m\n\u001b[0;32m    312\u001b[0m \u001b[1;33m\u001b[0m\u001b[0m\n\u001b[1;32m--> 313\u001b[1;33m             raise AttributeError(\"module {!r} has no attribute \"\n\u001b[0m\u001b[0;32m    314\u001b[0m                                  \"{!r}\".format(__name__, attr))\n\u001b[0;32m    315\u001b[0m \u001b[1;33m\u001b[0m\u001b[0m\n",
      "\u001b[1;31mAttributeError\u001b[0m: module 'numpy' has no attribute 'sqr'"
     ]
    }
   ],
   "source": [
    "np."
   ]
  },
  {
   "cell_type": "code",
   "execution_count": null,
   "id": "c8c4b601",
   "metadata": {},
   "outputs": [],
   "source": []
  }
 ],
 "metadata": {
  "kernelspec": {
   "display_name": "Python 3 (ipykernel)",
   "language": "python",
   "name": "python3"
  },
  "language_info": {
   "codemirror_mode": {
    "name": "ipython",
    "version": 3
   },
   "file_extension": ".py",
   "mimetype": "text/x-python",
   "name": "python",
   "nbconvert_exporter": "python",
   "pygments_lexer": "ipython3",
   "version": "3.9.13"
  }
 },
 "nbformat": 4,
 "nbformat_minor": 5
}
