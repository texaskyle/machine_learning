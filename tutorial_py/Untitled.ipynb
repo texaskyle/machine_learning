{
 "cells": [
  {
   "cell_type": "markdown",
   "id": "a68ae33d",
   "metadata": {},
   "source": [
    "# loops"
   ]
  },
  {
   "cell_type": "code",
   "execution_count": 1,
   "id": "7cef9363",
   "metadata": {},
   "outputs": [
    {
     "data": {
      "text/plain": [
       "[1, 24, 60, 45, 67, 8, 9, 2]"
      ]
     },
     "execution_count": 1,
     "metadata": {},
     "output_type": "execute_result"
    }
   ],
   "source": [
    "\n",
    "\n",
    "\n",
    "l = [1,24,45,67,8,9, 8, 9, 2, 2, 2, 1, 24, 45]\n",
    "numbers = []\n",
    "for i in l:\n",
    "    if numbers.count(i) == 0:\n",
    "        numbers.append(i)\n",
    "        \n",
    "numbers\n",
    "\n",
    "numbers.insert(2, 60)\n",
    "numbers"
   ]
  },
  {
   "cell_type": "code",
   "execution_count": 2,
   "id": "fca9c9af",
   "metadata": {},
   "outputs": [
    {
     "name": "stdout",
     "output_type": "stream",
     "text": [
      "[2, 3, 4, 5, 6, 7]\n"
     ]
    }
   ],
   "source": [
    "numbers = [2,3,4,5,5,6,7,7,2]\n",
    "uniques = []\n",
    "for number in numbers:\n",
    "    if number not in uniques:\n",
    "        uniques.append(number)\n",
    "print(uniques)"
   ]
  },
  {
   "cell_type": "code",
   "execution_count": 3,
   "id": "d6dc194a",
   "metadata": {},
   "outputs": [
    {
     "name": "stdout",
     "output_type": "stream",
     "text": [
      "1\n",
      "2\n",
      "3\n",
      "57\n",
      "9\n",
      "4\n",
      "2\n",
      "5\n"
     ]
    }
   ],
   "source": [
    "l = [1,2,3,57,9,4,2,5]\n",
    "\n",
    "for i in range(len(l)):\n",
    "    print(l[i])"
   ]
  },
  {
   "cell_type": "code",
   "execution_count": 4,
   "id": "26ba5beb",
   "metadata": {},
   "outputs": [
    {
     "name": "stdout",
     "output_type": "stream",
     "text": [
      "[57]\n"
     ]
    }
   ],
   "source": [
    "m =[]\n",
    "for i in l:\n",
    "    if i>10:\n",
    "        m.append(i)\n",
    "print(m)"
   ]
  },
  {
   "cell_type": "code",
   "execution_count": 5,
   "id": "cbad1d04",
   "metadata": {},
   "outputs": [
    {
     "name": "stdout",
     "output_type": "stream",
     "text": [
      "['evans', 'kiarie']\n"
     ]
    }
   ],
   "source": [
    "list = [1,25,7,9, \"evans\", \"kiarie\"]\n",
    "m = []\n",
    "for i in list:\n",
    "    if type(i) == str:\n",
    "        m.append(i)\n",
    "print(m)"
   ]
  },
  {
   "cell_type": "code",
   "execution_count": 6,
   "id": "adaeda61",
   "metadata": {},
   "outputs": [
    {
     "name": "stdout",
     "output_type": "stream",
     "text": [
      "1\n",
      "2\n",
      "4\n",
      "Nothing left in this collection\n"
     ]
    }
   ],
   "source": [
    "# using a for loop with an else statement\n",
    "l = [1,2,4]\n",
    "for i in l:\n",
    "    print(i)\n",
    "else:\n",
    "    print(\"Nothing left in this collection\")"
   ]
  },
  {
   "cell_type": "code",
   "execution_count": 7,
   "id": "d44fa660",
   "metadata": {},
   "outputs": [
    {
     "name": "stdout",
     "output_type": "stream",
     "text": [
      "55\n"
     ]
    }
   ],
   "source": [
    "# while loop\n",
    "d = 10\n",
    "s = 0\n",
    "i = 1\n",
    "\n",
    "while d >= i:\n",
    "    s = i + s\n",
    "    i += 1\n",
    "    \n",
    "print(s)"
   ]
  },
  {
   "cell_type": "code",
   "execution_count": 8,
   "id": "8aab7be3",
   "metadata": {},
   "outputs": [
    {
     "name": "stdout",
     "output_type": "stream",
     "text": [
      "out of this loop\n"
     ]
    }
   ],
   "source": [
    "# using  a break\n",
    "for i in \"kiarie\":\n",
    "    if i == \"k\":\n",
    "        break\n",
    "    print(i)\n",
    "else:\n",
    "    print(\"the iteration was able to complete\")\n",
    "    \n",
    "print(\"out of this loop\")"
   ]
  },
  {
   "cell_type": "code",
   "execution_count": 9,
   "id": "5080a63a",
   "metadata": {},
   "outputs": [
    {
     "name": "stdout",
     "output_type": "stream",
     "text": [
      "k\n",
      "i\n",
      "a\n",
      "i\n",
      "e\n"
     ]
    }
   ],
   "source": [
    "# using a continue \n",
    "for x in \"kiarie\":\n",
    "    if x==\"r\":\n",
    "        continue\n",
    "    print(x)"
   ]
  },
  {
   "cell_type": "code",
   "execution_count": 10,
   "id": "87bf2f53",
   "metadata": {},
   "outputs": [
    {
     "name": "stdout",
     "output_type": "stream",
     "text": [
      "y\n"
     ]
    },
    {
     "data": {
      "text/plain": [
       "str"
      ]
     },
     "execution_count": 10,
     "metadata": {},
     "output_type": "execute_result"
    }
   ],
   "source": [
    "# taking commands from a command line\n",
    "name = input()\n",
    "type(name)"
   ]
  },
  {
   "cell_type": "code",
   "execution_count": 11,
   "id": "abbf6f5c",
   "metadata": {},
   "outputs": [
    {
     "name": "stdout",
     "output_type": "stream",
     "text": [
      "45\n"
     ]
    },
    {
     "data": {
      "text/plain": [
       "str"
      ]
     },
     "execution_count": 11,
     "metadata": {},
     "output_type": "execute_result"
    }
   ],
   "source": [
    "# taking commands from a command line\n",
    "age = input()\n",
    "type(age)"
   ]
  },
  {
   "cell_type": "code",
   "execution_count": 12,
   "id": "f80176c6",
   "metadata": {},
   "outputs": [
    {
     "name": "stdout",
     "output_type": "stream",
     "text": [
      "22\n"
     ]
    }
   ],
   "source": [
    "age = int(input())"
   ]
  },
  {
   "cell_type": "code",
   "execution_count": 13,
   "id": "d8b59020",
   "metadata": {},
   "outputs": [
    {
     "data": {
      "text/plain": [
       "int"
      ]
     },
     "execution_count": 13,
     "metadata": {},
     "output_type": "execute_result"
    }
   ],
   "source": [
    "type(age)"
   ]
  },
  {
   "cell_type": "code",
   "execution_count": null,
   "id": "8830dfe2",
   "metadata": {},
   "outputs": [],
   "source": []
  },
  {
   "cell_type": "code",
   "execution_count": 16,
   "id": "2a21168c",
   "metadata": {},
   "outputs": [
    {
     "name": "stdout",
     "output_type": "stream",
     "text": [
      "evans kiarie\n"
     ]
    }
   ],
   "source": [
    "# concatenation\n",
    "name = \"evans\" + \" \" + \"kiarie\"\n",
    "print(name)"
   ]
  },
  {
   "cell_type": "code",
   "execution_count": 18,
   "id": "8c60668d",
   "metadata": {},
   "outputs": [
    {
     "data": {
      "text/plain": [
       "[1, 2, 3, 4, 5, 1, 2, 3, 4, 5]"
      ]
     },
     "execution_count": 18,
     "metadata": {},
     "output_type": "execute_result"
    }
   ],
   "source": [
    "l=[1,2,3,4,5]\n",
    "m=[1,2,3,4,5]\n",
    "final_list = l+m\n",
    "final_list"
   ]
  }
 ],
 "metadata": {
  "kernelspec": {
   "display_name": "Python 3 (ipykernel)",
   "language": "python",
   "name": "python3"
  },
  "language_info": {
   "codemirror_mode": {
    "name": "ipython",
    "version": 3
   },
   "file_extension": ".py",
   "mimetype": "text/x-python",
   "name": "python",
   "nbconvert_exporter": "python",
   "pygments_lexer": "ipython3",
   "version": "3.9.13"
  }
 },
 "nbformat": 4,
 "nbformat_minor": 5
}
