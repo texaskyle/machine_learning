{
 "cells": [
  {
   "cell_type": "code",
   "execution_count": 1,
   "id": "78028e56",
   "metadata": {},
   "outputs": [],
   "source": [
    "import sqlite3"
   ]
  },
  {
   "cell_type": "code",
   "execution_count": 2,
   "id": "97973887",
   "metadata": {},
   "outputs": [],
   "source": [
    "c = sqlite3.connect(\"xyz\")"
   ]
  },
  {
   "cell_type": "code",
   "execution_count": 4,
   "id": "20e8636e",
   "metadata": {},
   "outputs": [
    {
     "data": {
      "text/plain": [
       "<sqlite3.Cursor at 0x1cd2d0baf10>"
      ]
     },
     "execution_count": 4,
     "metadata": {},
     "output_type": "execute_result"
    }
   ],
   "source": [
    "c.execute(\"drop table if exists abc\")"
   ]
  },
  {
   "cell_type": "code",
   "execution_count": 5,
   "id": "27430db8",
   "metadata": {},
   "outputs": [
    {
     "data": {
      "text/plain": [
       "<sqlite3.Cursor at 0x1cd2ca41260>"
      ]
     },
     "execution_count": 5,
     "metadata": {},
     "output_type": "execute_result"
    }
   ],
   "source": [
    "c.execute(\"create table abc(id int, name text, scoring int)\")"
   ]
  },
  {
   "cell_type": "code",
   "execution_count": 9,
   "id": "ee061366",
   "metadata": {},
   "outputs": [
    {
     "data": {
      "text/plain": [
       "<sqlite3.Cursor at 0x1cd2cc2d9d0>"
      ]
     },
     "execution_count": 9,
     "metadata": {},
     "output_type": "execute_result"
    }
   ],
   "source": [
    "c.execute('insert into abc(id, name, scoring) values(19, \"evans\", 10)')"
   ]
  },
  {
   "cell_type": "code",
   "execution_count": 10,
   "id": "7bac5689",
   "metadata": {},
   "outputs": [],
   "source": [
    "c.commit()"
   ]
  },
  {
   "cell_type": "code",
   "execution_count": 11,
   "id": "9ce4f156",
   "metadata": {},
   "outputs": [
    {
     "data": {
      "text/plain": [
       "<sqlite3.Cursor at 0x1cd2cc2db20>"
      ]
     },
     "execution_count": 11,
     "metadata": {},
     "output_type": "execute_result"
    }
   ],
   "source": [
    "c.execute('insert into abc(id, name, scoring) values(20, \"kezz\", 20)')\n",
    "c.execute('insert into abc(id, name, scoring) values(21, \"lucy\", 56)')\n",
    "c.execute('insert into abc(id, name, scoring) values(22, \"dad\", 59)')\n",
    "c.execute('insert into abc(id, name, scoring) values(23, \"mom\", 77)')\n",
    "c.execute('insert into abc(id, name, scoring) values(24, \"george\", 65)')\n",
    "c.execute('insert into abc(id, name, scoring) values(25, \"jane\", 33)')\n",
    "c.execute('insert into abc(id, name, scoring) values(26, \"kyle\", 12)')"
   ]
  },
  {
   "cell_type": "code",
   "execution_count": 13,
   "id": "6cda5233",
   "metadata": {},
   "outputs": [],
   "source": [
    "c.commit()"
   ]
  },
  {
   "cell_type": "code",
   "execution_count": 17,
   "id": "37f445e6",
   "metadata": {},
   "outputs": [
    {
     "data": {
      "text/plain": [
       "[(19, 'evans', 10),\n",
       " (19, 'evans', 10),\n",
       " (20, 'kezz', 20),\n",
       " (21, 'lucy', 56),\n",
       " (22, 'dad', 59),\n",
       " (23, 'mom', 77),\n",
       " (24, 'george', 65),\n",
       " (25, 'jane', 33),\n",
       " (26, 'kyle', 12)]"
      ]
     },
     "execution_count": 17,
     "metadata": {},
     "output_type": "execute_result"
    }
   ],
   "source": [
    "list(c.execute(\"select * from abc\"))"
   ]
  },
  {
   "cell_type": "code",
   "execution_count": 20,
   "id": "c79f8d1a",
   "metadata": {},
   "outputs": [
    {
     "name": "stdout",
     "output_type": "stream",
     "text": [
      "(19, 'evans', 10)\n",
      "(19, 'evans', 10)\n",
      "(26, 'kyle', 12)\n",
      "(20, 'kezz', 20)\n",
      "(25, 'jane', 33)\n",
      "(21, 'lucy', 56)\n",
      "(22, 'dad', 59)\n",
      "(24, 'george', 65)\n",
      "(23, 'mom', 77)\n"
     ]
    }
   ],
   "source": [
    "for i in c.execute(\"select * from abc order by scoring asc\"):\n",
    "    print(i)\n",
    "    "
   ]
  },
  {
   "cell_type": "code",
   "execution_count": 22,
   "id": "4c3a1ab4",
   "metadata": {},
   "outputs": [
    {
     "data": {
      "text/plain": [
       "[(26, 'kyle', 12)]"
      ]
     },
     "execution_count": 22,
     "metadata": {},
     "output_type": "execute_result"
    }
   ],
   "source": [
    "list(c.execute(\"select * from abc where name='kyle'\"))"
   ]
  },
  {
   "cell_type": "code",
   "execution_count": 24,
   "id": "0a21708c",
   "metadata": {},
   "outputs": [
    {
     "data": {
      "text/plain": [
       "[(25, 'jane')]"
      ]
     },
     "execution_count": 24,
     "metadata": {},
     "output_type": "execute_result"
    }
   ],
   "source": [
    "list(c.execute(\"select id, name from abc where name='jane'\"))"
   ]
  },
  {
   "cell_type": "code",
   "execution_count": null,
   "id": "0ce7878e",
   "metadata": {},
   "outputs": [],
   "source": []
  }
 ],
 "metadata": {
  "kernelspec": {
   "display_name": "Python 3 (ipykernel)",
   "language": "python",
   "name": "python3"
  },
  "language_info": {
   "codemirror_mode": {
    "name": "ipython",
    "version": 3
   },
   "file_extension": ".py",
   "mimetype": "text/x-python",
   "name": "python",
   "nbconvert_exporter": "python",
   "pygments_lexer": "ipython3",
   "version": "3.9.13"
  }
 },
 "nbformat": 4,
 "nbformat_minor": 5
}
