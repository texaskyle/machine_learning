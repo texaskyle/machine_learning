{
 "cells": [
  {
   "cell_type": "code",
   "execution_count": 1,
   "id": "7b1c6f13",
   "metadata": {},
   "outputs": [
    {
     "data": {
      "text/plain": [
       "tuple"
      ]
     },
     "execution_count": 1,
     "metadata": {},
     "output_type": "execute_result"
    }
   ],
   "source": [
    "# tuples\n",
    "a = ()\n",
    "type(a)"
   ]
  },
  {
   "cell_type": "code",
   "execution_count": 2,
   "id": "b6bb0ca0",
   "metadata": {},
   "outputs": [
    {
     "data": {
      "text/plain": [
       "6"
      ]
     },
     "execution_count": 2,
     "metadata": {},
     "output_type": "execute_result"
    }
   ],
   "source": [
    "a = (1,2,3,6,\"evans\", (4+7j))\n",
    "a[-1]\n",
    "a[::-1] # reversing a tuple\n",
    "a[0:4:2]\n",
    "len(a)"
   ]
  },
  {
   "cell_type": "code",
   "execution_count": 3,
   "id": "56b3fcc7",
   "metadata": {},
   "outputs": [
    {
     "name": "stdout",
     "output_type": "stream",
     "text": [
      "[1, 2, 'dad', 6, 'evans', (4+7j), 6, 'mom']\n"
     ]
    },
    {
     "ename": "TypeError",
     "evalue": "'tuple' object does not support item assignment",
     "output_type": "error",
     "traceback": [
      "\u001b[1;31m---------------------------------------------------------------------------\u001b[0m",
      "\u001b[1;31mTypeError\u001b[0m                                 Traceback (most recent call last)",
      "\u001b[1;32m~\\AppData\\Local\\Temp\\ipykernel_9252\\1787411154.py\u001b[0m in \u001b[0;36m<module>\u001b[1;34m\u001b[0m\n\u001b[0;32m      7\u001b[0m \u001b[0mt\u001b[0m \u001b[1;33m=\u001b[0m \u001b[1;33m(\u001b[0m\u001b[1;36m3\u001b[0m\u001b[1;33m,\u001b[0m\u001b[1;36m5\u001b[0m\u001b[1;33m,\u001b[0m\u001b[1;36m6\u001b[0m\u001b[1;33m,\u001b[0m\u001b[1;34m\"kezz\"\u001b[0m\u001b[1;33m,\u001b[0m \u001b[1;34m\"lucy\"\u001b[0m\u001b[1;33m,\u001b[0m \u001b[1;36m23\u001b[0m\u001b[1;33m)\u001b[0m\u001b[1;33m\u001b[0m\u001b[1;33m\u001b[0m\u001b[0m\n\u001b[0;32m      8\u001b[0m \u001b[0mt\u001b[0m\u001b[1;33m[\u001b[0m\u001b[1;36m3\u001b[0m\u001b[1;33m]\u001b[0m\u001b[1;33m\u001b[0m\u001b[1;33m\u001b[0m\u001b[0m\n\u001b[1;32m----> 9\u001b[1;33m \u001b[0mt\u001b[0m\u001b[1;33m[\u001b[0m\u001b[1;36m3\u001b[0m\u001b[1;33m]\u001b[0m \u001b[1;33m=\u001b[0m \u001b[1;34m\"mercy\"\u001b[0m\u001b[1;33m\u001b[0m\u001b[1;33m\u001b[0m\u001b[0m\n\u001b[0m",
      "\u001b[1;31mTypeError\u001b[0m: 'tuple' object does not support item assignment"
     ]
    }
   ],
   "source": [
    "# length\n",
    "l = [1, 2, 3, 6, 'evans', (4+7j), 6, \"mom\"]\n",
    "l[2] = \"dad\"\n",
    "print(l)\n",
    "\n",
    "# tuple\n",
    "t = (3,5,6,\"kezz\", \"lucy\", 23)\n",
    "t[3]\n",
    "t[3] = \"mercy\""
   ]
  },
  {
   "cell_type": "code",
   "execution_count": null,
   "id": "7613914b",
   "metadata": {},
   "outputs": [],
   "source": [
    "# immutable elements eg strings and tuples\n",
    "name = \"evans\"\n",
    "name[1]\n"
   ]
  },
  {
   "cell_type": "code",
   "execution_count": null,
   "id": "e6d10983",
   "metadata": {},
   "outputs": [],
   "source": [
    "name[1] = 'k'"
   ]
  },
  {
   "cell_type": "code",
   "execution_count": null,
   "id": "aa22c054",
   "metadata": {},
   "outputs": [],
   "source": [
    "# iterating in tuples\n",
    "t = (1,2,3,4,5,6)\n",
    "\n",
    "for i in t:\n",
    "    print(i)"
   ]
  },
  {
   "cell_type": "code",
   "execution_count": null,
   "id": "055e5331",
   "metadata": {},
   "outputs": [],
   "source": [
    "t = (9, 32, 3, 64, 5, 56)\n",
    "\n",
    "for i in range(len(t)):\n",
    "    print(t[i])\n"
   ]
  },
  {
   "cell_type": "code",
   "execution_count": null,
   "id": "7d75d9c9",
   "metadata": {},
   "outputs": [],
   "source": [
    "# a tuple have only two inbuild functions, that is count and the index\n",
    "t = (3,5,7,8,5,3,2,4,2,4,2,1,5)\n",
    "t.count(2)"
   ]
  },
  {
   "cell_type": "code",
   "execution_count": null,
   "id": "5e3c58fb",
   "metadata": {},
   "outputs": [],
   "source": [
    "t.index(2)\n"
   ]
  },
  {
   "cell_type": "code",
   "execution_count": null,
   "id": "fa14f391",
   "metadata": {},
   "outputs": [],
   "source": [
    "# concatenation in tuples\n",
    "t = (1,2,5,3)\n",
    "t1 = (\"dog\", \"cat\")\n",
    "a = t+t1\n",
    "a"
   ]
  },
  {
   "cell_type": "code",
   "execution_count": null,
   "id": "5b4b8af9",
   "metadata": {},
   "outputs": [],
   "source": [
    "#inserting data into a tuple\n",
    "t = (1,2,3,4)\n",
    "# insert \"evans\" in the second index\n",
    "l = list(t)\n",
    "l.insert(2, \"evans\")\n",
    "print(f\"list = {l}\")\n",
    "t=tuple(l)\n",
    "print(t)"
   ]
  },
  {
   "cell_type": "code",
   "execution_count": null,
   "id": "05f54830",
   "metadata": {},
   "outputs": [],
   "source": [
    "# set\n",
    "s = set([1,3,5,4,2,6,4,2,6,8,0,2,3,4, \"evans\", (4+7j), \"kiarie\"])\n",
    "print(s)\n",
    "set()"
   ]
  },
  {
   "cell_type": "code",
   "execution_count": null,
   "id": "2645023e",
   "metadata": {},
   "outputs": [],
   "source": [
    "for i in s:\n",
    "    print(i)"
   ]
  },
  {
   "cell_type": "code",
   "execution_count": null,
   "id": "69380993",
   "metadata": {},
   "outputs": [],
   "source": [
    "s = set([(4+7j), 0, 1, 2, 3, 4, 5, 6, 8, 'evans', 'kiarie'])\n",
    "l = list(s)\n",
    "l[0] = \"mom\"\n",
    "l"
   ]
  },
  {
   "cell_type": "code",
   "execution_count": null,
   "id": "fab69349",
   "metadata": {},
   "outputs": [],
   "source": [
    "b={}\n",
    "type(b)"
   ]
  },
  {
   "cell_type": "code",
   "execution_count": null,
   "id": "c15f04c7",
   "metadata": {},
   "outputs": [],
   "source": [
    "b={1}\n",
    "type(b)"
   ]
  },
  {
   "cell_type": "code",
   "execution_count": null,
   "id": "c8e28b09",
   "metadata": {},
   "outputs": [],
   "source": [
    "b={1,2,3,1,5,6,1,2,3}\n",
    "b"
   ]
  },
  {
   "cell_type": "code",
   "execution_count": null,
   "id": "a2735705",
   "metadata": {},
   "outputs": [],
   "source": [
    "# methods in a data set\n",
    "b={1,2,3,1,4,2,3}\n",
    "b\n",
    "b.add(\"mom\")\n",
    "b"
   ]
  },
  {
   "cell_type": "code",
   "execution_count": null,
   "id": "c3fc8fb1",
   "metadata": {},
   "outputs": [],
   "source": [
    "b.pop()\n",
    "b"
   ]
  },
  {
   "cell_type": "code",
   "execution_count": null,
   "id": "13edcfac",
   "metadata": {},
   "outputs": [],
   "source": [
    "a = {1,234,2,539,4,5,3,111,\"abc\", \"##\"}\n",
    "a\n"
   ]
  },
  {
   "cell_type": "markdown",
   "id": "8ad1e37b",
   "metadata": {},
   "source": [
    "## Dictionary"
   ]
  },
  {
   "cell_type": "code",
   "execution_count": null,
   "id": "2e3a080f",
   "metadata": {},
   "outputs": [],
   "source": [
    "# duplicates in a dictonary are not allowed\n",
    "d = {\"name\":\"Evans\",\n",
    "    \"age\":22,\n",
    "    \"name\":\"kezz\"}\n",
    "d # since name has been duplicated the most recent key of the word name is used"
   ]
  },
  {
   "cell_type": "code",
   "execution_count": null,
   "id": "3a7ca5f1",
   "metadata": {},
   "outputs": [],
   "source": [
    "# sets, tuples, dictonaries and lists are allowed as values\n",
    "d = {\"key\":{3,4,5,1,2,3,3},  # set\n",
    "     \"key1\":(2,3,3,2,1,4),   # tuple\n",
    "    \"key2\":{'name':'evans',  # dictonary\n",
    "           \"age\":22,\n",
    "           \"school\":\"chuka\"},\n",
    "    \"key3\":[2,4,5,\"cat\", [306, 199,350],\"mom\"]}   # list\n",
    "d"
   ]
  },
  {
   "cell_type": "code",
   "execution_count": null,
   "id": "5c3309d6",
   "metadata": {},
   "outputs": [],
   "source": [
    "# accessing elements in a dictonary\n",
    "d['key2']"
   ]
  },
  {
   "cell_type": "code",
   "execution_count": null,
   "id": "ddf96f99",
   "metadata": {},
   "outputs": [],
   "source": [
    "d['key3'][4][1]"
   ]
  },
  {
   "cell_type": "code",
   "execution_count": null,
   "id": "e8180570",
   "metadata": {},
   "outputs": [],
   "source": [
    "d['key2']['age']"
   ]
  },
  {
   "cell_type": "code",
   "execution_count": null,
   "id": "d3f5c3c6",
   "metadata": {},
   "outputs": [],
   "source": [
    "d"
   ]
  },
  {
   "cell_type": "code",
   "execution_count": null,
   "id": "291e3120",
   "metadata": {},
   "outputs": [],
   "source": [
    "for key, value in d.items():\n",
    "    print(key,value)"
   ]
  },
  {
   "cell_type": "code",
   "execution_count": null,
   "id": "bafedbe6",
   "metadata": {},
   "outputs": [],
   "source": [
    "for key in d:\n",
    "    print(d[key])"
   ]
  },
  {
   "cell_type": "code",
   "execution_count": null,
   "id": "10adc543",
   "metadata": {},
   "outputs": [],
   "source": [
    "# printing only the keysb\n",
    "d.keys()"
   ]
  },
  {
   "cell_type": "code",
   "execution_count": null,
   "id": "8775ee84",
   "metadata": {},
   "outputs": [],
   "source": [
    "# printing only the values\n",
    "d.values()"
   ]
  },
  {
   "cell_type": "code",
   "execution_count": null,
   "id": "5cc314b1",
   "metadata": {},
   "outputs": [],
   "source": [
    "# printing the entire dictonary\n",
    "d.items()"
   ]
  },
  {
   "cell_type": "code",
   "execution_count": null,
   "id": "c3e996fe",
   "metadata": {},
   "outputs": [],
   "source": [
    "d.get(\"key4\", \"key4\")"
   ]
  },
  {
   "cell_type": "code",
   "execution_count": null,
   "id": "3e1df07e",
   "metadata": {},
   "outputs": [],
   "source": [
    "for i in d.keys():\n",
    "    print(d[i])"
   ]
  },
  {
   "cell_type": "code",
   "execution_count": null,
   "id": "7df7321a",
   "metadata": {},
   "outputs": [],
   "source": [
    "dictionary = {\"key\":{3,4,5,1,2,3,3},  # set\n",
    "     \"key1\":(2,3,3,2,1,4),   # tuple\n",
    "    \"key2\":{'name':'evans',  # dictonary\n",
    "           \"age\":22,\n",
    "           \"school\":\"chuka\"},\n",
    "    \"key3\":[2,4,5,\"cat\", [306, 199,350],\"mom\"]}   # list\n",
    "\n",
    "# extracting the values from a tuple\n",
    "m = []\n",
    "for i in dictionary.values():\n",
    "    if type(i) == tuple:\n",
    "        i = list(i)\n",
    "        for a in i:\n",
    "            m.append(a)\n",
    "        \n",
    "print(m)"
   ]
  },
  {
   "cell_type": "code",
   "execution_count": null,
   "id": "4723b37f",
   "metadata": {},
   "outputs": [],
   "source": [
    "# adding a value into a dictonary\n",
    "d.update({\"course\":\"comp science\"})\n",
    "d"
   ]
  },
  {
   "cell_type": "code",
   "execution_count": null,
   "id": "4bd774a6",
   "metadata": {},
   "outputs": [],
   "source": [
    "d[\"key5\"] = \"python\"\n",
    "d"
   ]
  },
  {
   "cell_type": "code",
   "execution_count": 20,
   "id": "33ca051f",
   "metadata": {},
   "outputs": [
    {
     "name": "stdout",
     "output_type": "stream",
     "text": [
      "0 0\n",
      "1 1\n",
      "2 4\n",
      "3 9\n",
      "4 16\n",
      "5 25\n",
      "6 36\n",
      "7 49\n",
      "8 64\n",
      "9 81\n"
     ]
    }
   ],
   "source": [
    "d = {}\n",
    "for i in range(10):\n",
    "    d.update({i : i**2})\n",
    "\n",
    "for key, value in d.items():\n",
    "    print(key, value)\n"
   ]
  },
  {
   "cell_type": "code",
   "execution_count": 12,
   "id": "c65eeeee",
   "metadata": {},
   "outputs": [
    {
     "name": "stdout",
     "output_type": "stream",
     "text": [
      "{3: 9}\n"
     ]
    }
   ],
   "source": [
    "print(dictionary)"
   ]
  },
  {
   "cell_type": "code",
   "execution_count": 23,
   "id": "89fe4512",
   "metadata": {},
   "outputs": [
    {
     "data": {
      "text/plain": [
       "{0: 0, 1: 1, 2: 4, 3: 9, 4: 16, 5: 25, 6: 36, 7: 49, 8: 64, 9: 81}"
      ]
     },
     "execution_count": 23,
     "metadata": {},
     "output_type": "execute_result"
    }
   ],
   "source": [
    "# list comprehension\n",
    "{i:i**2   for i in range(10)}"
   ]
  },
  {
   "cell_type": "code",
   "execution_count": 25,
   "id": "ce59043c",
   "metadata": {},
   "outputs": [
    {
     "data": {
      "text/plain": [
       "{'mom': 'MOM', 'dad': 'DAD', 'cat': 'CAT', 'dog': 'DOG'}"
      ]
     },
     "execution_count": 25,
     "metadata": {},
     "output_type": "execute_result"
    }
   ],
   "source": [
    "# getting upper case for the values and the key remain in lowercase\n",
    "l = [\"mom\", \"dad\", \"cat\", \"dog\"]\n",
    "d = {}\n",
    "for i in l:\n",
    "    d[i] = i.upper()\n",
    "d"
   ]
  },
  {
   "cell_type": "code",
   "execution_count": 26,
   "id": "4ab763f0",
   "metadata": {},
   "outputs": [
    {
     "data": {
      "text/plain": [
       "{'kezz': 'KEZZ', 'lucy': 'LUCY', 'evans': 'EVANS', 'jane': 'JANE'}"
      ]
     },
     "execution_count": 26,
     "metadata": {},
     "output_type": "execute_result"
    }
   ],
   "source": [
    "l = [\"kezz\", \"lucy\", \"evans\", \"jane\"]\n",
    "{i:i.upper() for i in l}"
   ]
  }
 ],
 "metadata": {
  "kernelspec": {
   "display_name": "Python 3 (ipykernel)",
   "language": "python",
   "name": "python3"
  },
  "language_info": {
   "codemirror_mode": {
    "name": "ipython",
    "version": 3
   },
   "file_extension": ".py",
   "mimetype": "text/x-python",
   "name": "python",
   "nbconvert_exporter": "python",
   "pygments_lexer": "ipython3",
   "version": "3.9.13"
  }
 },
 "nbformat": 4,
 "nbformat_minor": 5
}
