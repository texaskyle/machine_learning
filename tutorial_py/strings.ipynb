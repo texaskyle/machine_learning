{
 "cells": [
  {
   "cell_type": "markdown",
   "id": "93c77040",
   "metadata": {},
   "source": [
    "##build in functions"
   ]
  },
  {
   "cell_type": "code",
   "execution_count": 4,
   "id": "b4747e98",
   "metadata": {},
   "outputs": [
    {
     "data": {
      "text/plain": [
       "'evansevansevansevansevansevansevansevansevansevans'"
      ]
     },
     "execution_count": 4,
     "metadata": {},
     "output_type": "execute_result"
    }
   ],
   "source": [
    "name = \"evans\"\n",
    "a = name * 10\n",
    "a"
   ]
  },
  {
   "cell_type": "code",
   "execution_count": 10,
   "id": "4bef1cde",
   "metadata": {},
   "outputs": [
    {
     "data": {
      "text/plain": [
       "[1, 2, 3, 'a', 'b', 1, 2, 3, 'a', 'b', 1, 2, 3, 'a', 'b']"
      ]
     },
     "execution_count": 10,
     "metadata": {},
     "output_type": "execute_result"
    }
   ],
   "source": [
    "l = [1, 2, 3, \"a\", \"b\"]\n",
    "m = l * 3\n",
    "m"
   ]
  },
  {
   "cell_type": "code",
   "execution_count": 13,
   "id": "64991e42",
   "metadata": {},
   "outputs": [
    {
     "data": {
      "text/plain": [
       "'evans kiarie'"
      ]
     },
     "execution_count": 13,
     "metadata": {},
     "output_type": "execute_result"
    }
   ],
   "source": [
    "name = \"evans kiarie\"\n",
    "name.count(\"e\")\n",
    "name"
   ]
  },
  {
   "cell_type": "code",
   "execution_count": 17,
   "id": "c0a8402d",
   "metadata": {},
   "outputs": [
    {
     "data": {
      "text/plain": [
       "'EVANS KIARIE'"
      ]
     },
     "execution_count": 17,
     "metadata": {},
     "output_type": "execute_result"
    }
   ],
   "source": [
    "name = name.upper()\n",
    "name"
   ]
  },
  {
   "cell_type": "code",
   "execution_count": 18,
   "id": "7a0c757e",
   "metadata": {},
   "outputs": [
    {
     "data": {
      "text/plain": [
       "'evans kiarie'"
      ]
     },
     "execution_count": 18,
     "metadata": {},
     "output_type": "execute_result"
    }
   ],
   "source": [
    "name = name.lower()\n",
    "name\n"
   ]
  },
  {
   "cell_type": "code",
   "execution_count": 19,
   "id": "f704b183",
   "metadata": {},
   "outputs": [
    {
     "data": {
      "text/plain": [
       "['my', 'name', 'is', 'evans', 'njoroge']"
      ]
     },
     "execution_count": 19,
     "metadata": {},
     "output_type": "execute_result"
    }
   ],
   "source": [
    "# split\n",
    "description = \"my name is evans njoroge\"\n",
    "description.split()"
   ]
  },
  {
   "cell_type": "code",
   "execution_count": 25,
   "id": "adc7180c",
   "metadata": {},
   "outputs": [
    {
     "data": {
      "text/plain": [
       "'y'"
      ]
     },
     "execution_count": 25,
     "metadata": {},
     "output_type": "execute_result"
    }
   ],
   "source": [
    "description[1]"
   ]
  },
  {
   "cell_type": "code",
   "execution_count": 26,
   "id": "90580c48",
   "metadata": {},
   "outputs": [
    {
     "data": {
      "text/plain": [
       "['my', 'age', 'is', '17', 'years']"
      ]
     },
     "execution_count": 26,
     "metadata": {},
     "output_type": "execute_result"
    }
   ],
   "source": [
    "description = \"my@age@is@17@years\"\n",
    "description.split('@')"
   ]
  },
  {
   "cell_type": "code",
   "execution_count": 30,
   "id": "eee0745d",
   "metadata": {},
   "outputs": [
    {
     "data": {
      "text/plain": [
       "('ch', 'u', 'ka university kenya')"
      ]
     },
     "execution_count": 30,
     "metadata": {},
     "output_type": "execute_result"
    }
   ],
   "source": [
    "# partition\n",
    "school = \"chuka university kenya\"\n",
    "school.partition('u')"
   ]
  },
  {
   "cell_type": "code",
   "execution_count": 33,
   "id": "4e58285e",
   "metadata": {},
   "outputs": [
    {
     "data": {
      "text/plain": [
       "4"
      ]
     },
     "execution_count": 33,
     "metadata": {},
     "output_type": "execute_result"
    }
   ],
   "source": [
    "# find\n",
    "a = \"wserxcyvcbzjkvjksdolk\"\n",
    "a.find('xc')"
   ]
  },
  {
   "cell_type": "code",
   "execution_count": 36,
   "id": "366f23a3",
   "metadata": {},
   "outputs": [
    {
     "data": {
      "text/plain": [
       "'zzzzzzzzzzzzzzzzzzzzzzEVANSzzzzzzzzzzzzzzzzzzzzzzz'"
      ]
     },
     "execution_count": 36,
     "metadata": {},
     "output_type": "execute_result"
    }
   ],
   "source": [
    "# center\n",
    "name = \"EVANS\"\n",
    "name.center(50,\"z\")"
   ]
  },
  {
   "cell_type": "code",
   "execution_count": 40,
   "id": "355ca8a1",
   "metadata": {},
   "outputs": [
    {
     "data": {
      "text/plain": [
       "'evans   kiarie  njoroge'"
      ]
     },
     "execution_count": 40,
     "metadata": {},
     "output_type": "execute_result"
    }
   ],
   "source": [
    "name = \"evans\\tkiarie\\tnjoroge\"\n",
    "name.expandtabs()"
   ]
  },
  {
   "cell_type": "code",
   "execution_count": 43,
   "id": "2dd7adfe",
   "metadata": {},
   "outputs": [
    {
     "name": "stdout",
     "output_type": "stream",
     "text": [
      "what is your age: 22\n",
      "your age is 22\n"
     ]
    }
   ],
   "source": [
    "# format()\n",
    "age = input(\"what is your age: \")\n",
    "print(\"your age is {}\".format(age))"
   ]
  },
  {
   "cell_type": "code",
   "execution_count": 49,
   "id": "2bcf6e62",
   "metadata": {},
   "outputs": [
    {
     "name": "stdout",
     "output_type": "stream",
     "text": [
      "what is your first name: evans\n",
      "what is your last namenjoroge\n",
      "you name is evans kiarie njoroge\n",
      "kiarie\n"
     ]
    }
   ],
   "source": [
    "fname = input(\"what is your first name: \")\n",
    "mname = fname + \"\\t\" + \"kiarie\"\n",
    "mname = mname.split()\n",
    "mname = mname[1]\n",
    "lname = input(\"what is your last name\")\n",
    "\n",
    "print(\"you name is {} {} {}\".format(fname, mname, lname) )\n",
    "print(mname)"
   ]
  },
  {
   "cell_type": "code",
   "execution_count": 50,
   "id": "b280b18c",
   "metadata": {},
   "outputs": [
    {
     "data": {
      "text/plain": [
       "True"
      ]
     },
     "execution_count": 50,
     "metadata": {},
     "output_type": "execute_result"
    }
   ],
   "source": [
    "# is\n",
    "s = \"4353gfh\"\n",
    "s.isalnum()"
   ]
  },
  {
   "cell_type": "code",
   "execution_count": 51,
   "id": "ffd0d050",
   "metadata": {},
   "outputs": [
    {
     "data": {
      "text/plain": [
       "True"
      ]
     },
     "execution_count": 51,
     "metadata": {},
     "output_type": "execute_result"
    }
   ],
   "source": [
    "s = \" Computer\"\n",
    "s.istitle()"
   ]
  }
 ],
 "metadata": {
  "kernelspec": {
   "display_name": "Python 3 (ipykernel)",
   "language": "python",
   "name": "python3"
  },
  "language_info": {
   "codemirror_mode": {
    "name": "ipython",
    "version": 3
   },
   "file_extension": ".py",
   "mimetype": "text/x-python",
   "name": "python",
   "nbconvert_exporter": "python",
   "pygments_lexer": "ipython3",
   "version": "3.9.13"
  }
 },
 "nbformat": 4,
 "nbformat_minor": 5
}
