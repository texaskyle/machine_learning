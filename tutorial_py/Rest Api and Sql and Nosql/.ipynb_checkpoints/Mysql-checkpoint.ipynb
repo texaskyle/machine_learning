{
 "cells": [
  {
   "cell_type": "code",
   "execution_count": 2,
   "id": "8086b1f2",
   "metadata": {},
   "outputs": [],
   "source": [
    "import mysql.connector as connection"
   ]
  },
  {
   "cell_type": "code",
   "execution_count": 3,
   "id": "9c6032cc",
   "metadata": {},
   "outputs": [
    {
     "name": "stdout",
     "output_type": "stream",
     "text": [
      "True\n",
      "[('information_schema',), ('mysql',), ('performance_schema',), ('sys',), ('users',)]\n"
     ]
    }
   ],
   "source": [
    "try:\n",
    "    mydb = connection.connect(host='localhost', user='root', password='kyleEvans', use_pure=True)\n",
    "    # checking if the connection is establibshed\n",
    "    print(mydb.is_connected())  # it returns a true or false, true if it is connected and vice versa\n",
    "    \n",
    "    \n",
    "    query = \"SHOW DATABASES\"\n",
    "    \n",
    "    # To execute any type of queries a cursor has to created,  a cursor is simply a pointer\n",
    "    cursor = mydb.cursor()\n",
    "    cursor.execute(query)\n",
    "    \n",
    "    # try to fetch all the responses from the query \n",
    "    print(cursor.fetchall())\n",
    "    mydb.close()\n",
    "except Exception as e:\n",
    "    mydb.close()\n",
    "    print(str(e))"
   ]
  },
  {
   "cell_type": "markdown",
   "id": "2d5b1b4f",
   "metadata": {},
   "source": [
    "## creating a database"
   ]
  },
  {
   "cell_type": "code",
   "execution_count": 4,
   "id": "16ea59fc",
   "metadata": {},
   "outputs": [
    {
     "name": "stdout",
     "output_type": "stream",
     "text": [
      "True\n",
      "1007 (HY000): Can't create database 'users'; database exists\n"
     ]
    }
   ],
   "source": [
    "import mysql.connector as connection\n",
    "\n",
    "try:\n",
    "    mydb = connection.connect(host='localhost', user='root', password='kyleEvans', use_pure=True)\n",
    "    # check if the connection is established\n",
    "    print(mydb.is_connected())\n",
    "    \n",
    "    query = \"create database users\"\n",
    "    \n",
    "    cursor = mydb.cursor()  # create a cursor to execute the query\n",
    "    cursor.execute(query)\n",
    "    print(\"Database users created\")\n",
    "    \n",
    "    mydb.close()\n",
    "except Exception as e:\n",
    "    mydb.close()\n",
    "    print(str(e))\n",
    "    "
   ]
  },
  {
   "cell_type": "markdown",
   "id": "3dc7f939",
   "metadata": {},
   "source": [
    "## creating a table in a database"
   ]
  },
  {
   "cell_type": "code",
   "execution_count": 5,
   "id": "479eb253",
   "metadata": {},
   "outputs": [
    {
     "name": "stdout",
     "output_type": "stream",
     "text": [
      "1050 (42S01): Table 'userdetails' already exists\n"
     ]
    }
   ],
   "source": [
    "import mysql.connector as connection\n",
    "\n",
    "try:\n",
    "    mydb = connection.connect(host='localhost', database='users', user='root', password='kyleEvans', use_pure=True)\n",
    "    # checking whether the connection is established\n",
    "    mydb.is_connected()\n",
    "    \n",
    "    # query to create a table\n",
    "    query = \"CREATE TABLE userDetails(userId INT(10) AUTO_INCREMENT PRIMARY KEY, FirstName VARCHAR(50), LastName VARCHAR(50),\"\\\n",
    "    \"RegistrationDate DATE, class VARCHAR(20), section VARCHAR(20))\"\n",
    "    \n",
    "    cursor = mydb.cursor()\n",
    "    cursor.execute(query)\n",
    "    print(\"Table created\")\n",
    "    mydb.close()\n",
    "except Exception as e:\n",
    "    mydb.close()\n",
    "    print(str(e))"
   ]
  },
  {
   "cell_type": "markdown",
   "id": "0cecd1a0",
   "metadata": {},
   "source": [
    "## inserting the values into the table"
   ]
  },
  {
   "cell_type": "code",
   "execution_count": 6,
   "id": "f71a3acc",
   "metadata": {},
   "outputs": [
    {
     "name": "stdout",
     "output_type": "stream",
     "text": [
      "True\n",
      "1062 (23000): Duplicate entry '4' for key 'userdetails.PRIMARY'\n"
     ]
    }
   ],
   "source": [
    "import mysql.connector as connection\n",
    "\n",
    "try: \n",
    "    mydb = connection.connect(host='localhost', database='users', user='root', password='kyleEvans', use_pure = True)\n",
    "    # checking if the connection is established\n",
    "    print(mydb.is_connected())\n",
    "    \n",
    "    # query to insert the data into the table\n",
    "    query = \"insert into userDetails values('4','Evans', 'kiarie', '2019-09-02', 'first', 'A')\"\n",
    "    \n",
    "    # create the cursor to execute the queries\n",
    "    cursor = mydb.cursor()\n",
    "    cursor.execute(query)\n",
    "    print(\"data has been inserted into the userDetails table\")\n",
    "    mydb.commit()\n",
    "    \n",
    "    mydb.close()\n",
    "except Exception as e:\n",
    "    mydb.close()\n",
    "    print(str(e))\n",
    "    "
   ]
  },
  {
   "cell_type": "code",
   "execution_count": 7,
   "id": "c095c295",
   "metadata": {},
   "outputs": [
    {
     "name": "stdout",
     "output_type": "stream",
     "text": [
      "True\n",
      "1062 (23000): Duplicate entry '3' for key 'userdetails.PRIMARY'\n"
     ]
    }
   ],
   "source": [
    "import mysql.connector as connection\n",
    "\n",
    "try: \n",
    "    mydb = connection.connect(host='localhost', database='users', user='root', password='kyleEvans', use_pure = True)\n",
    "    # checking if the connection is established\n",
    "    print(mydb.is_connected())\n",
    "    \n",
    "    # query to insert the data into the table\n",
    "    query = \"insert into userDetails values(3, 'kezz', 'Njoroge', '2013-01-23' ,'third', 'c')\"\n",
    "    \n",
    "    # create the cursor to execute the queries\n",
    "    cursor = mydb.cursor()\n",
    "    cursor.execute(query)\n",
    "    print(\"data has been inserted into the userDetails table\")\n",
    "    mydb.commit()\n",
    "    \n",
    "    mydb.close()\n",
    "except Exception as e:\n",
    "    mydb.close()\n",
    "    print(str(e))\n",
    "    "
   ]
  },
  {
   "cell_type": "markdown",
   "id": "f35733c0",
   "metadata": {},
   "source": [
    "## updating a record"
   ]
  },
  {
   "cell_type": "code",
   "execution_count": 8,
   "id": "f0f972e7",
   "metadata": {},
   "outputs": [
    {
     "name": "stdout",
     "output_type": "stream",
     "text": [
      "your data has been updated!!\n",
      "(1, 'Evans', 'kiarie', datetime.date(2019, 9, 2), 'first', 'A')\n",
      "(2, 'Lucy', 'Njoroge', datetime.date(2022, 12, 23), 'second', 'B')\n",
      "(3, 'kezz', 'Njoroge', datetime.date(2013, 1, 23), 'third', 'c')\n",
      "(4, 'Njoroge', 'Dedan', datetime.date(1977, 12, 27), 'first', 'A')\n"
     ]
    }
   ],
   "source": [
    "import mysql.connector as connection\n",
    "\n",
    "try:\n",
    "    mydb = connection.connect(host='localhost', database='users', user='root', password='kyleEvans', use_pure=True)\n",
    "    # check if the connection is established\n",
    "    mydb.is_connected()\n",
    "    \n",
    "    # query for updating\n",
    "    query = \"UPDATE userDetails SET FirstName='Njoroge', LastName='Dedan', RegistrationDate='1977-12-27' WHERE userId=4\"\n",
    "    \n",
    "    # cursor to excute the query\n",
    "    cursor = mydb.cursor()\n",
    "    cursor.execute(query)\n",
    "    print(\"your data has been updated!!\")\n",
    "    mydb.commit()\n",
    "    \n",
    "    # checking if the value has been updated\n",
    "    query2 = \"SELECT * FROM userDetails\"\n",
    "    # cursor to excute the query\n",
    "    cursor = mydb.cursor()\n",
    "    cursor.execute(query2)\n",
    "    \n",
    "    for result in cursor.fetchall():\n",
    "        print(result)\n",
    "    \n",
    "    mydb.close() # closing the connection\n",
    "except Exception as e:\n",
    "    mydb.close()\n",
    "    print(str(e))"
   ]
  },
  {
   "cell_type": "code",
   "execution_count": null,
   "id": "11e90eb2",
   "metadata": {},
   "outputs": [],
   "source": []
  },
  {
   "cell_type": "markdown",
   "id": "e64a52b2",
   "metadata": {},
   "source": [
    "## inserting data into mysql from  text document"
   ]
  },
  {
   "cell_type": "code",
   "execution_count": 206,
   "id": "1974fa01",
   "metadata": {},
   "outputs": [],
   "source": [
    "import seaborn as sns\n",
    "import pandas as pd\n",
    "titanic = sns.load_dataset('titanic')\n",
    "titanic.to_csv(\"titanic2.txt\", sep=',', na_rep='null', header=None, index=False)"
   ]
  },
  {
   "cell_type": "code",
   "execution_count": 207,
   "id": "f35dbd5e",
   "metadata": {},
   "outputs": [
    {
     "data": {
      "text/html": [
       "<div>\n",
       "<style scoped>\n",
       "    .dataframe tbody tr th:only-of-type {\n",
       "        vertical-align: middle;\n",
       "    }\n",
       "\n",
       "    .dataframe tbody tr th {\n",
       "        vertical-align: top;\n",
       "    }\n",
       "\n",
       "    .dataframe thead th {\n",
       "        text-align: right;\n",
       "    }\n",
       "</style>\n",
       "<table border=\"1\" class=\"dataframe\">\n",
       "  <thead>\n",
       "    <tr style=\"text-align: right;\">\n",
       "      <th></th>\n",
       "      <th>survived</th>\n",
       "      <th>pclass</th>\n",
       "      <th>sex</th>\n",
       "      <th>age</th>\n",
       "      <th>sibsp</th>\n",
       "      <th>parch</th>\n",
       "      <th>fare</th>\n",
       "      <th>embarked</th>\n",
       "      <th>class</th>\n",
       "      <th>who</th>\n",
       "      <th>adult_male</th>\n",
       "      <th>deck</th>\n",
       "      <th>embark_town</th>\n",
       "      <th>alive</th>\n",
       "      <th>alone</th>\n",
       "    </tr>\n",
       "  </thead>\n",
       "  <tbody>\n",
       "    <tr>\n",
       "      <th>0</th>\n",
       "      <td>0</td>\n",
       "      <td>3</td>\n",
       "      <td>male</td>\n",
       "      <td>22.0</td>\n",
       "      <td>1</td>\n",
       "      <td>0</td>\n",
       "      <td>7.2500</td>\n",
       "      <td>S</td>\n",
       "      <td>Third</td>\n",
       "      <td>man</td>\n",
       "      <td>True</td>\n",
       "      <td>NaN</td>\n",
       "      <td>Southampton</td>\n",
       "      <td>no</td>\n",
       "      <td>False</td>\n",
       "    </tr>\n",
       "    <tr>\n",
       "      <th>1</th>\n",
       "      <td>1</td>\n",
       "      <td>1</td>\n",
       "      <td>female</td>\n",
       "      <td>38.0</td>\n",
       "      <td>1</td>\n",
       "      <td>0</td>\n",
       "      <td>71.2833</td>\n",
       "      <td>C</td>\n",
       "      <td>First</td>\n",
       "      <td>woman</td>\n",
       "      <td>False</td>\n",
       "      <td>C</td>\n",
       "      <td>Cherbourg</td>\n",
       "      <td>yes</td>\n",
       "      <td>False</td>\n",
       "    </tr>\n",
       "    <tr>\n",
       "      <th>2</th>\n",
       "      <td>1</td>\n",
       "      <td>3</td>\n",
       "      <td>female</td>\n",
       "      <td>26.0</td>\n",
       "      <td>0</td>\n",
       "      <td>0</td>\n",
       "      <td>7.9250</td>\n",
       "      <td>S</td>\n",
       "      <td>Third</td>\n",
       "      <td>woman</td>\n",
       "      <td>False</td>\n",
       "      <td>NaN</td>\n",
       "      <td>Southampton</td>\n",
       "      <td>yes</td>\n",
       "      <td>True</td>\n",
       "    </tr>\n",
       "    <tr>\n",
       "      <th>3</th>\n",
       "      <td>1</td>\n",
       "      <td>1</td>\n",
       "      <td>female</td>\n",
       "      <td>35.0</td>\n",
       "      <td>1</td>\n",
       "      <td>0</td>\n",
       "      <td>53.1000</td>\n",
       "      <td>S</td>\n",
       "      <td>First</td>\n",
       "      <td>woman</td>\n",
       "      <td>False</td>\n",
       "      <td>C</td>\n",
       "      <td>Southampton</td>\n",
       "      <td>yes</td>\n",
       "      <td>False</td>\n",
       "    </tr>\n",
       "    <tr>\n",
       "      <th>4</th>\n",
       "      <td>0</td>\n",
       "      <td>3</td>\n",
       "      <td>male</td>\n",
       "      <td>35.0</td>\n",
       "      <td>0</td>\n",
       "      <td>0</td>\n",
       "      <td>8.0500</td>\n",
       "      <td>S</td>\n",
       "      <td>Third</td>\n",
       "      <td>man</td>\n",
       "      <td>True</td>\n",
       "      <td>NaN</td>\n",
       "      <td>Southampton</td>\n",
       "      <td>no</td>\n",
       "      <td>True</td>\n",
       "    </tr>\n",
       "  </tbody>\n",
       "</table>\n",
       "</div>"
      ],
      "text/plain": [
       "   survived  pclass     sex   age  sibsp  parch     fare embarked  class  \\\n",
       "0         0       3    male  22.0      1      0   7.2500        S  Third   \n",
       "1         1       1  female  38.0      1      0  71.2833        C  First   \n",
       "2         1       3  female  26.0      0      0   7.9250        S  Third   \n",
       "3         1       1  female  35.0      1      0  53.1000        S  First   \n",
       "4         0       3    male  35.0      0      0   8.0500        S  Third   \n",
       "\n",
       "     who  adult_male deck  embark_town alive  alone  \n",
       "0    man        True  NaN  Southampton    no  False  \n",
       "1  woman       False    C    Cherbourg   yes  False  \n",
       "2  woman       False  NaN  Southampton   yes   True  \n",
       "3  woman       False    C  Southampton   yes  False  \n",
       "4    man        True  NaN  Southampton    no   True  "
      ]
     },
     "execution_count": 207,
     "metadata": {},
     "output_type": "execute_result"
    }
   ],
   "source": [
    "titanic.head(5)"
   ]
  },
  {
   "cell_type": "code",
   "execution_count": 212,
   "id": "dbff18b4",
   "metadata": {},
   "outputs": [
    {
     "name": "stdout",
     "output_type": "stream",
     "text": [
      "1007 (HY000): Can't create database 'titanic'; database exists\n"
     ]
    }
   ],
   "source": [
    "import mysql.connector as connection\n",
    "\n",
    "try:\n",
    "    mydb = connection.connect(host='localhost', user='root', password='kyleEvans', use_pure=True)\n",
    "    # checking if the database is connected\n",
    "    mydb.is_connected()\n",
    "    \n",
    "    # query to create a database\n",
    "    query = \"CREATE DATABASE titanic\"\n",
    "    \n",
    "    # cursor to execute the query\n",
    "    cursor = mydb.cursor()\n",
    "    cursor.execute(query)\n",
    "    print(\"database created\")\n",
    "    \n",
    "    # creating a table titanic_dataset\n",
    "    query2 = \"CREATE TABLE IF NOT EXIST titanic_dataset('survived INT(10)','pclass INT(10)','sex VARCHAR(20)','age FLOAT(20)','sibsp INT(10)',\"\\\n",
    "    \"'parch INT(10)','fare FLOAT(20)','embarked VARCHAR(30)','class VARCHAR(30)','who VARCHAR(30)','adult_male VARCHAR(30)','deck VARCHAR(30)',\"\\\n",
    "    \"'embark_town VARCHAR(30)','alive VARCHAR(30)','alone VARCHAR(30)')\"\n",
    "    \n",
    "    # cursor to excute the query2\n",
    "    cursor = mydb.cursor()\n",
    "    cursor.execute(query2)\n",
    "    print(\"Table has been created\")\n",
    "    \n",
    "    \n",
    "    mydb.close()\n",
    "except Exception as e:\n",
    "    mydb.close()\n",
    "    print(str(e))"
   ]
  },
  {
   "cell_type": "code",
   "execution_count": 219,
   "id": "9afc40e3",
   "metadata": {},
   "outputs": [
    {
     "name": "stdout",
     "output_type": "stream",
     "text": [
      "Table has been created\n"
     ]
    }
   ],
   "source": [
    "import mysql.connector as connection\n",
    "\n",
    "try:\n",
    "    mydb = connection.connect(host='localhost', database='titanic', user='root', password='kyleEvans', use_pure=True)\n",
    "    # checking if the database is connected\n",
    "    mydb.is_connected()\n",
    "    \n",
    "    # creating a table titanic_dataset\n",
    "    query2 = \"CREATE TABLE IF NOT EXISTS titanicDataset(survived INT(10), pclass INT(10), sex VARCHAR(20), age FLOAT(20),\"\\\n",
    "    \"sibsp INT(10), parch INT(10), fare FLOAT(20), embarked VARCHAR(30), class VARCHAR(30), who VARCHAR(30),\"\\\n",
    "    \"adult_male VARCHAR(30), deck VARCHAR(30), embark_town VARCHAR(30), alive VARCHAR(30), alone VARCHAR(30))\"\n",
    "    \n",
    "    # cursor to excute the query2\n",
    "    cursor = mydb.cursor()\n",
    "    cursor.execute(query2)\n",
    "    print(\"Table has been created\")\n",
    "    \n",
    "    \n",
    "    mydb.close()\n",
    "except Exception as e:\n",
    "    mydb.close()\n",
    "    print(str(e))"
   ]
  },
  {
   "cell_type": "code",
   "execution_count": 263,
   "id": "87ea454e",
   "metadata": {},
   "outputs": [
    {
     "name": "stdout",
     "output_type": "stream",
     "text": [
      "1064 (42000): You have an error in your SQL syntax; check the manual that corresponds to your MySQL server version for the right syntax to use near 'values})' at line 1\n"
     ]
    }
   ],
   "source": [
    "import mysql.connector as connection\n",
    "import csv\n",
    "\n",
    "try:\n",
    "    mydb = connection.connect(host='localhost', user='root', password='kyleEvans', use_pure=True)\n",
    "    # checking if the database is connected\n",
    "    mydb.is_connected()\n",
    "    \n",
    "    cursor = mydb.cursor()\n",
    "    # read from the file\n",
    "    with open('titanic2.txt') as file:\n",
    "        next(file)\n",
    "        titanic_data = csv.reader(\"titanic2.txt\", delimiter='\\n')\n",
    "        for line in enumerate(titanic_data):\n",
    "            for list_ in (line[1]):\n",
    "                cursor.execute(\"INSERT INTO titanicDataset VALUES({values})\").format(values=(list_))\n",
    "    \n",
    "    print(\"Values have beein inserted!!\")        \n",
    "    mydb.commit()\n",
    "    cursor.close()\n",
    "    \n",
    "    \n",
    "    mydb.close()\n",
    "except Exception as e:\n",
    "    mydb.close()\n",
    "    print(str(e))\n",
    "\n",
    "\n",
    "\n",
    "\n",
    "        "
   ]
  },
  {
   "cell_type": "code",
   "execution_count": 269,
   "id": "c8e82894",
   "metadata": {},
   "outputs": [
    {
     "name": "stdout",
     "output_type": "stream",
     "text": [
      "1064 (42000): You have an error in your SQL syntax; check the manual that corresponds to your MySQL server version for the right syntax to use near 'values})' at line 1\n"
     ]
    }
   ],
   "source": [
    "import mysql.connector as connection\n",
    "import pandas as pd\n",
    "import csv\n",
    "\n",
    "try:\n",
    "    mydb = connection.connect(host='localhost', user='root', password='kyleEvans', use_pure=True)\n",
    "    cursor = mydb.cursor()\n",
    "    \n",
    "    # read from the file\n",
    "    with open('titanic2.txt') as file:\n",
    "        next(file)\n",
    "        titanic_data = csv.reader(\"titanic2.txt\", delimiter='\\n')\n",
    "        for line in enumerate(titanic_data):\n",
    "            for list_ in (line[1]):\n",
    "                # cursor.execute(\"INSERT INTO titanicDaset VALUES (%s, %s, %s, %s, %s, %s, %s, %s, %s, %s, %s, %s, %s, %s, %s)\", tuple(list_))\n",
    "                cursor.execute(\"INSERT INTO titanicDataset VALUES({values})\").format(values=(list_))\n",
    "                print(\"Values have been inserted!!\")\n",
    "                mydb.commit()\n",
    "    \n",
    "    cursor.close()\n",
    "    mydb.close()\n",
    "except Exception as e:\n",
    "    mydb.close()\n",
    "    print(str(e))\n"
   ]
  },
  {
   "cell_type": "markdown",
   "id": "c750ff42",
   "metadata": {},
   "source": [
    "## dumping the iris data into mysql database"
   ]
  },
  {
   "cell_type": "code",
   "execution_count": null,
   "id": "80d14066",
   "metadata": {},
   "outputs": [],
   "source": [
    "import mysql.connector as connection\n",
    "import csv\n",
    "\n",
    "try:\n",
    "    mydb = connection.connect(host='localhost', user='root', password='kyleEvans', use_pure=True)\n",
    "    # checking if the database is connected\n",
    "    mydb.is_connected()\n",
    "    \n",
    "    # query to create a database\n",
    "    query = \"CREATE DATABASE iris\"\n",
    "    \n",
    "    # cursor to execute the query\n",
    "    cursor = mydb.cursor()\n",
    "    cursor.execute(query)\n",
    "    print(\"iris database created\")\n",
    "    \n",
    "    # creating a table titanic_dataset\n",
    "    query2 = \"CREATE TABLE IF NOT EXISTS titanicDataset()\"\n",
    "    \n",
    "    # cursor to excute the query2\n",
    "    cursor = mydb.cursor()\n",
    "    cursor.execute(query2)\n",
    "    print(\"Table has been created\")\n",
    "    \n",
    "    # read from the file\n",
    "    with open('titanic2.txt') as file:\n",
    "        next(file)\n",
    "        titanic_data = csv.reader(\"titanic2.txt\", delimiter='\\n')\n",
    "        for line in enumerate(titanic_data):\n",
    "            for list_ in (line[1]):\n",
    "                cursor.execute(\"INSERT INTO titanicDataset VALUES({values})\").format(values=(list_))\n",
    "    \n",
    "    print(\"Values have beein inserted!!\")        \n",
    "    mydb.commit()\n",
    "    cursor.close()\n",
    "    \n",
    "    \n",
    "    mydb.close()\n",
    "except Exception as e:\n",
    "    mydb.close()\n",
    "    print(str(e))"
   ]
  },
  {
   "cell_type": "code",
   "execution_count": null,
   "id": "5945cc75",
   "metadata": {},
   "outputs": [],
   "source": []
  }
 ],
 "metadata": {
  "kernelspec": {
   "display_name": "Python 3 (ipykernel)",
   "language": "python",
   "name": "python3"
  },
  "language_info": {
   "codemirror_mode": {
    "name": "ipython",
    "version": 3
   },
   "file_extension": ".py",
   "mimetype": "text/x-python",
   "name": "python",
   "nbconvert_exporter": "python",
   "pygments_lexer": "ipython3",
   "version": "3.9.13"
  }
 },
 "nbformat": 4,
 "nbformat_minor": 5
}
