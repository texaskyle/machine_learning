{
 "cells": [
  {
   "cell_type": "code",
   "execution_count": 1,
   "id": "97e96abb",
   "metadata": {},
   "outputs": [],
   "source": [
    "import sqlite3"
   ]
  },
  {
   "cell_type": "code",
   "execution_count": 2,
   "id": "ff8293ba",
   "metadata": {},
   "outputs": [],
   "source": [
    "# connecting to the database, if the database is not there it will be created \n",
    "db = sqlite3.connect(\"company_database\")"
   ]
  },
  {
   "cell_type": "code",
   "execution_count": 3,
   "id": "9187e4e1",
   "metadata": {},
   "outputs": [],
   "source": [
    "# to execute the sql commands one needs create the cursor object\n",
    "c = db.cursor()"
   ]
  },
  {
   "cell_type": "code",
   "execution_count": 4,
   "id": "6abecdb5",
   "metadata": {},
   "outputs": [
    {
     "data": {
      "text/plain": [
       "<sqlite3.Cursor at 0x1c494196030>"
      ]
     },
     "execution_count": 4,
     "metadata": {},
     "output_type": "execute_result"
    }
   ],
   "source": [
    "# create a table\n",
    "c.execute(\"CREATE TABLE IF NOT EXISTS company1(id int, name text, age int, address text, salary float)\")"
   ]
  },
  {
   "cell_type": "code",
   "execution_count": 5,
   "id": "bd0594fa",
   "metadata": {},
   "outputs": [
    {
     "data": {
      "text/plain": [
       "<sqlite3.Cursor at 0x1c494196030>"
      ]
     },
     "execution_count": 5,
     "metadata": {},
     "output_type": "execute_result"
    }
   ],
   "source": [
    "# insert data into the table that has been created\n",
    "c.execute(\"INSERT INTO company1 VALUES(1, 'naivas', 5, 'Nairobi', 50000)\")"
   ]
  },
  {
   "cell_type": "code",
   "execution_count": 6,
   "id": "128cdddb",
   "metadata": {},
   "outputs": [
    {
     "data": {
      "text/plain": [
       "<sqlite3.Cursor at 0x1c494196030>"
      ]
     },
     "execution_count": 6,
     "metadata": {},
     "output_type": "execute_result"
    }
   ],
   "source": [
    "c.execute(\"INSERT INTO company1 VALUES(2, 'Uchumi', 7, 'Kikuyu', 30000)\")\n"
   ]
  },
  {
   "cell_type": "code",
   "execution_count": 7,
   "id": "116d0dcc",
   "metadata": {},
   "outputs": [],
   "source": [
    "# fetching the data from the database\n",
    "data = c.execute(\"SELECT * FROM company1\")"
   ]
  },
  {
   "cell_type": "code",
   "execution_count": 8,
   "id": "7c0348b0",
   "metadata": {},
   "outputs": [
    {
     "name": "stdout",
     "output_type": "stream",
     "text": [
      "(1, 'naivas', 5, 'Nairobi', 50000.0)\n",
      "(2, 'Uchumi', 7, 'Kikuyu', 30000.0)\n",
      "(1, 'naivas', 5, 'Nairobi', 50000.0)\n",
      "(2, 'Uchumi', 7, 'Kikuyu', 30000.0)\n",
      "(1, 'naivas', 5, 'Nairobi', 50000.0)\n",
      "(2, 'Uchumi', 7, 'Kikuyu', 30000.0)\n",
      "(1, 'naivas', 5, 'Nairobi', 50000.0)\n",
      "(2, 'Uchumi', 7, 'Kikuyu', 30000.0)\n"
     ]
    }
   ],
   "source": [
    "# iterating the data that has been obtaoned from the query\n",
    "for i in data:\n",
    "    print(i)"
   ]
  },
  {
   "cell_type": "code",
   "execution_count": 9,
   "id": "667392e6",
   "metadata": {},
   "outputs": [],
   "source": [
    "# save (commit) the changes\n",
    "db.commit()"
   ]
  },
  {
   "cell_type": "code",
   "execution_count": 10,
   "id": "ee533682",
   "metadata": {},
   "outputs": [],
   "source": [
    "# closing the database so that to make sure that the changes have been commited\n",
    "# db.close()"
   ]
  },
  {
   "cell_type": "code",
   "execution_count": null,
   "id": "5b5a0d22",
   "metadata": {},
   "outputs": [],
   "source": []
  },
  {
   "cell_type": "code",
   "execution_count": 11,
   "id": "b22cd4de",
   "metadata": {},
   "outputs": [],
   "source": [
    "# Opening the database onec again\n",
    "db = sqlite3.connect(\"company_database\")"
   ]
  },
  {
   "cell_type": "code",
   "execution_count": 12,
   "id": "09fed438",
   "metadata": {},
   "outputs": [
    {
     "data": {
      "text/plain": [
       "<sqlite3.Cursor at 0x1c494196030>"
      ]
     },
     "execution_count": 12,
     "metadata": {},
     "output_type": "execute_result"
    }
   ],
   "source": [
    "# inserting data into the table company1\n",
    "c.execute(\"INSERT INTO company1 VALUES(3, 'Clean shelf', 10, 'Limuru', 150000)\")\n",
    "c.execute(\"INSERT INTO company1 VALUES(4, 'Self Ridges', 6, 'Wangige', 60000)\")\n",
    "c.execute(\"INSERT INTO company1 VALUES(5, 'Magunas', 4, 'Chuka', 90000)\")"
   ]
  },
  {
   "cell_type": "markdown",
   "id": "8d0f9d64",
   "metadata": {},
   "source": [
    "## some data filtering operations"
   ]
  },
  {
   "cell_type": "code",
   "execution_count": 13,
   "id": "2fc08253",
   "metadata": {},
   "outputs": [],
   "source": [
    "data = c.execute(\"SELECT * FROM company1 WHERE salary > 70000\")\n"
   ]
  },
  {
   "cell_type": "code",
   "execution_count": 14,
   "id": "54791d7e",
   "metadata": {},
   "outputs": [
    {
     "name": "stdout",
     "output_type": "stream",
     "text": [
      "(3, 'Clean shelf', 10, 'Limuru', 150000.0)\n",
      "(5, 'Magunas', 4, 'Chuka', 90000.0)\n"
     ]
    }
   ],
   "source": [
    "for i in data:\n",
    "    print(i)"
   ]
  },
  {
   "cell_type": "code",
   "execution_count": 15,
   "id": "a791660f",
   "metadata": {},
   "outputs": [],
   "source": [
    "data = c.execute(\"SELECT * FROM company1 WHERE address = 'Wangige'\")"
   ]
  },
  {
   "cell_type": "code",
   "execution_count": 16,
   "id": "315f6e26",
   "metadata": {},
   "outputs": [
    {
     "name": "stdout",
     "output_type": "stream",
     "text": [
      "(4, 'Self Ridges', 6, 'Wangige', 60000.0)\n"
     ]
    }
   ],
   "source": [
    "for i in data:\n",
    "    print(i)"
   ]
  },
  {
   "cell_type": "code",
   "execution_count": 18,
   "id": "754bc00e",
   "metadata": {},
   "outputs": [],
   "source": [
    "data = c.execute(\"SELECT id, name FROM company1 order by name\")"
   ]
  },
  {
   "cell_type": "code",
   "execution_count": 19,
   "id": "b886a2f9",
   "metadata": {},
   "outputs": [
    {
     "name": "stdout",
     "output_type": "stream",
     "text": [
      "(3, 'Clean shelf')\n",
      "(5, 'Magunas')\n",
      "(4, 'Self Ridges')\n",
      "(2, 'Uchumi')\n",
      "(2, 'Uchumi')\n",
      "(2, 'Uchumi')\n",
      "(2, 'Uchumi')\n",
      "(1, 'naivas')\n",
      "(1, 'naivas')\n",
      "(1, 'naivas')\n",
      "(1, 'naivas')\n"
     ]
    }
   ],
   "source": [
    "for i in data:\n",
    "    print(i)"
   ]
  },
  {
   "cell_type": "code",
   "execution_count": 22,
   "id": "085c69a2",
   "metadata": {},
   "outputs": [],
   "source": [
    "data = c.execute(\"SELECT * FROM company1 ORDER BY age DESC\")"
   ]
  },
  {
   "cell_type": "code",
   "execution_count": 23,
   "id": "2b13a8e1",
   "metadata": {},
   "outputs": [
    {
     "name": "stdout",
     "output_type": "stream",
     "text": [
      "(3, 'Clean shelf', 10, 'Limuru', 150000.0)\n",
      "(2, 'Uchumi', 7, 'Kikuyu', 30000.0)\n",
      "(2, 'Uchumi', 7, 'Kikuyu', 30000.0)\n",
      "(2, 'Uchumi', 7, 'Kikuyu', 30000.0)\n",
      "(2, 'Uchumi', 7, 'Kikuyu', 30000.0)\n",
      "(4, 'Self Ridges', 6, 'Wangige', 60000.0)\n",
      "(1, 'naivas', 5, 'Nairobi', 50000.0)\n",
      "(1, 'naivas', 5, 'Nairobi', 50000.0)\n",
      "(1, 'naivas', 5, 'Nairobi', 50000.0)\n",
      "(1, 'naivas', 5, 'Nairobi', 50000.0)\n",
      "(5, 'Magunas', 4, 'Chuka', 90000.0)\n"
     ]
    }
   ],
   "source": [
    "for i in data:\n",
    "    print(i)"
   ]
  },
  {
   "cell_type": "markdown",
   "id": "8454dd58",
   "metadata": {},
   "source": [
    "## Table drop"
   ]
  },
  {
   "cell_type": "code",
   "execution_count": 25,
   "id": "cb628c0e",
   "metadata": {},
   "outputs": [],
   "source": [
    "import sqlite3\n",
    "db = sqlite3.connect(\"food\")"
   ]
  },
  {
   "cell_type": "code",
   "execution_count": 26,
   "id": "f335c36b",
   "metadata": {},
   "outputs": [],
   "source": [
    "# cursor to execute the sqlite commands\n",
    "c = db.cursor()"
   ]
  },
  {
   "cell_type": "code",
   "execution_count": 28,
   "id": "b9601314",
   "metadata": {},
   "outputs": [
    {
     "data": {
      "text/plain": [
       "<sqlite3.Cursor at 0x1c49424fc70>"
      ]
     },
     "execution_count": 28,
     "metadata": {},
     "output_type": "execute_result"
    }
   ],
   "source": [
    "# creating a table\n",
    "c.execute(\"CREATE TABLE food1(name text, calories int)\")"
   ]
  },
  {
   "cell_type": "code",
   "execution_count": 30,
   "id": "dba74e99",
   "metadata": {},
   "outputs": [
    {
     "data": {
      "text/plain": [
       "<sqlite3.Cursor at 0x1c49424fc70>"
      ]
     },
     "execution_count": 30,
     "metadata": {},
     "output_type": "execute_result"
    }
   ],
   "source": [
    "# inserting data into the database\n",
    "c.execute(\"INSERT INTO food1 values('banana', 20)\")\n",
    "c.execute(\"INSERT INTO food1 values('mango', 30)\")\n",
    "c.execute(\"INSERT INTO food1 values('grapes', 5)\")\n"
   ]
  },
  {
   "cell_type": "code",
   "execution_count": 31,
   "id": "468f8870",
   "metadata": {},
   "outputs": [
    {
     "name": "stdout",
     "output_type": "stream",
     "text": [
      "('grapes', 5)\n",
      "('banana', 20)\n",
      "('mango', 30)\n"
     ]
    }
   ],
   "source": [
    "# fetching all the data from the database\n",
    "data = c.execute(\"SELECT * FROM food1 ORDER BY calories\")\n",
    "for i in data:\n",
    "    print(i)"
   ]
  },
  {
   "cell_type": "code",
   "execution_count": 32,
   "id": "8d50971a",
   "metadata": {},
   "outputs": [
    {
     "data": {
      "text/plain": [
       "<sqlite3.Cursor at 0x1c49424fc70>"
      ]
     },
     "execution_count": 32,
     "metadata": {},
     "output_type": "execute_result"
    }
   ],
   "source": [
    "c.execute(\"DROP TABLE food1\")"
   ]
  },
  {
   "cell_type": "code",
   "execution_count": null,
   "id": "dd1cc288",
   "metadata": {},
   "outputs": [],
   "source": []
  },
  {
   "cell_type": "code",
   "execution_count": null,
   "id": "376a0c16",
   "metadata": {},
   "outputs": [],
   "source": []
  }
 ],
 "metadata": {
  "kernelspec": {
   "display_name": "Python 3 (ipykernel)",
   "language": "python",
   "name": "python3"
  },
  "language_info": {
   "codemirror_mode": {
    "name": "ipython",
    "version": 3
   },
   "file_extension": ".py",
   "mimetype": "text/x-python",
   "name": "python",
   "nbconvert_exporter": "python",
   "pygments_lexer": "ipython3",
   "version": "3.9.13"
  }
 },
 "nbformat": 4,
 "nbformat_minor": 5
}
