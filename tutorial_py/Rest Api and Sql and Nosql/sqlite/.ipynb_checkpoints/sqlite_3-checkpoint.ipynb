{
 "cells": [
  {
   "cell_type": "code",
   "execution_count": 1,
   "id": "572a9736",
   "metadata": {},
   "outputs": [],
   "source": [
    "import sqlite3"
   ]
  },
  {
   "cell_type": "code",
   "execution_count": 3,
   "id": "9fc9f8ad",
   "metadata": {},
   "outputs": [],
   "source": [
    "# connecting to the database, if the database is not there it will be created \n",
    "db = sqlite3.connect(\"company_database\")"
   ]
  },
  {
   "cell_type": "code",
   "execution_count": 4,
   "id": "55e14e92",
   "metadata": {},
   "outputs": [],
   "source": [
    "# to execute the sql commands one needs create the cursor object\n",
    "c = db.cursor()"
   ]
  },
  {
   "cell_type": "code",
   "execution_count": 5,
   "id": "c2f2cd10",
   "metadata": {},
   "outputs": [
    {
     "data": {
      "text/plain": [
       "<sqlite3.Cursor at 0x24dea608b90>"
      ]
     },
     "execution_count": 5,
     "metadata": {},
     "output_type": "execute_result"
    }
   ],
   "source": [
    "# create a table\n",
    "c.execute(\"CREATE TABLE company1(id int, name text, age int, address text, salary float)\")"
   ]
  },
  {
   "cell_type": "code",
   "execution_count": 6,
   "id": "abee831d",
   "metadata": {},
   "outputs": [
    {
     "data": {
      "text/plain": [
       "<sqlite3.Cursor at 0x24dea608b90>"
      ]
     },
     "execution_count": 6,
     "metadata": {},
     "output_type": "execute_result"
    }
   ],
   "source": [
    "# insert data into the table that has been created\n",
    "c.execute(\"INSERT INTO company1 VALUES(1, 'naivas', 5, 'Nairobi', 50000)\")"
   ]
  },
  {
   "cell_type": "code",
   "execution_count": null,
   "id": "f6716b67",
   "metadata": {},
   "outputs": [],
   "source": []
  }
 ],
 "metadata": {
  "kernelspec": {
   "display_name": "Python 3 (ipykernel)",
   "language": "python",
   "name": "python3"
  },
  "language_info": {
   "codemirror_mode": {
    "name": "ipython",
    "version": 3
   },
   "file_extension": ".py",
   "mimetype": "text/x-python",
   "name": "python",
   "nbconvert_exporter": "python",
   "pygments_lexer": "ipython3",
   "version": "3.9.13"
  }
 },
 "nbformat": 4,
 "nbformat_minor": 5
}
