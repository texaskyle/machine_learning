{
 "cells": [
  {
   "cell_type": "markdown",
   "id": "1b2a7817",
   "metadata": {},
   "source": [
    "## iterator"
   ]
  },
  {
   "cell_type": "code",
   "execution_count": null,
   "id": "cfe48f63",
   "metadata": {},
   "outputs": [],
   "source": [
    "next(\"evans\")"
   ]
  },
  {
   "cell_type": "code",
   "execution_count": null,
   "id": "69b56a32",
   "metadata": {},
   "outputs": [],
   "source": [
    "a = iter(\"evans\")\n",
    "a"
   ]
  },
  {
   "cell_type": "code",
   "execution_count": null,
   "id": "3e58f27b",
   "metadata": {},
   "outputs": [],
   "source": [
    "next(a)"
   ]
  },
  {
   "cell_type": "code",
   "execution_count": null,
   "id": "ad966165",
   "metadata": {},
   "outputs": [],
   "source": [
    "for i in 76:\n",
    "    print(i)"
   ]
  },
  {
   "cell_type": "markdown",
   "id": "a0052ced",
   "metadata": {},
   "source": [
    "## Generator"
   ]
  },
  {
   "cell_type": "code",
   "execution_count": null,
   "id": "9730d47d",
   "metadata": {},
   "outputs": [],
   "source": [
    "# this will not be possible since range is not an interator\n",
    "next(range(10))"
   ]
  },
  {
   "cell_type": "code",
   "execution_count": null,
   "id": "2547a663",
   "metadata": {},
   "outputs": [],
   "source": [
    "# a for loop  will be possible since it converts range to an iterator\n",
    "for i in range(5):\n",
    "    print(i)"
   ]
  },
  {
   "cell_type": "code",
   "execution_count": 18,
   "id": "33930770",
   "metadata": {},
   "outputs": [],
   "source": [
    "# converting range to an iterator\n",
    "b = iter(range(10))"
   ]
  },
  {
   "cell_type": "code",
   "execution_count": 21,
   "id": "59b9dff6",
   "metadata": {},
   "outputs": [
    {
     "data": {
      "text/plain": [
       "2"
      ]
     },
     "execution_count": 21,
     "metadata": {},
     "output_type": "execute_result"
    }
   ],
   "source": [
    "next(b)"
   ]
  },
  {
   "cell_type": "code",
   "execution_count": 2,
   "id": "4167db91",
   "metadata": {},
   "outputs": [
    {
     "name": "stdout",
     "output_type": "stream",
     "text": [
      "0\n",
      "1\n",
      "8\n",
      "27\n",
      "64\n",
      "125\n",
      "216\n",
      "343\n",
      "512\n",
      "729\n"
     ]
    }
   ],
   "source": [
    "# creating a generator\n",
    "def gencube(n):\n",
    "    for i in range(n):\n",
    "        yield i**3\n",
    "\n",
    "        \n",
    "for i in gencube(10):\n",
    "    print(i)\n"
   ]
  },
  {
   "cell_type": "code",
   "execution_count": 3,
   "id": "fcbf8131",
   "metadata": {},
   "outputs": [
    {
     "data": {
      "text/plain": [
       "0"
      ]
     },
     "execution_count": 3,
     "metadata": {},
     "output_type": "execute_result"
    }
   ],
   "source": [
    "next(gencube(10)) # you will not get the output directly since this is a generator"
   ]
  },
  {
   "cell_type": "code",
   "execution_count": 45,
   "id": "00824af4",
   "metadata": {},
   "outputs": [],
   "source": [
    "v = iter(gencube(10))\n"
   ]
  },
  {
   "cell_type": "code",
   "execution_count": 52,
   "id": "7699a868",
   "metadata": {},
   "outputs": [
    {
     "data": {
      "text/plain": [
       "216"
      ]
     },
     "execution_count": 52,
     "metadata": {},
     "output_type": "execute_result"
    }
   ],
   "source": [
    "next(v)"
   ]
  },
  {
   "cell_type": "code",
   "execution_count": 29,
   "id": "a0cd565b",
   "metadata": {},
   "outputs": [
    {
     "data": {
      "text/plain": [
       "0"
      ]
     },
     "execution_count": 29,
     "metadata": {},
     "output_type": "execute_result"
    }
   ],
   "source": [
    "a = iter(range(10))\n",
    "next(a)"
   ]
  },
  {
   "cell_type": "code",
   "execution_count": 41,
   "id": "6412d6e5",
   "metadata": {},
   "outputs": [],
   "source": [
    "b = iter(range(10))\n"
   ]
  },
  {
   "cell_type": "code",
   "execution_count": 44,
   "id": "dc84969b",
   "metadata": {},
   "outputs": [
    {
     "data": {
      "text/plain": [
       "2"
      ]
     },
     "execution_count": 44,
     "metadata": {},
     "output_type": "execute_result"
    }
   ],
   "source": [
    "next(b)"
   ]
  }
 ],
 "metadata": {
  "kernelspec": {
   "display_name": "Python 3 (ipykernel)",
   "language": "python",
   "name": "python3"
  },
  "language_info": {
   "codemirror_mode": {
    "name": "ipython",
    "version": 3
   },
   "file_extension": ".py",
   "mimetype": "text/x-python",
   "name": "python",
   "nbconvert_exporter": "python",
   "pygments_lexer": "ipython3",
   "version": "3.9.13"
  }
 },
 "nbformat": 4,
 "nbformat_minor": 5
}
