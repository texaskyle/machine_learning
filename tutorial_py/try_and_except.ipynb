{
 "cells": [
  {
   "cell_type": "code",
   "execution_count": 12,
   "id": "33729211",
   "metadata": {},
   "outputs": [
    {
     "name": "stdout",
     "output_type": "stream",
     "text": [
      "NGIGE MARGARET NJAMBI\n",
      "P.O BOX 13429-00100 GPO NAIROBI\n",
      "+2547 46277602 | fancyngige60@gmail.com\n",
      "Objective \n",
      "I am a hardworking, motivated and ambitious Supply Chain professional who has developed a mature and responsible \n",
      "approach to any task I undertake or situation I am presented with. My career objective is to uphold ethical concepts and \n",
      "principles including integrity, loyalty and respect and be part of the force that steers the company ahead.\n",
      "Experience \n",
      "â€¢ Page Turners Kenya Organization April 2022 - date\n",
      "Community Volunteer\n",
      "\n",
      "the try block was successful\n",
      "This block always excutes\n",
      "The file was not found\n"
     ]
    }
   ],
   "source": [
    "try:\n",
    "    with open(\"C:\\\\Users\\\\charles\\\\Desktop\\\\Ngige Margaret Njambi. CV.txt\") as f:\n",
    "        print(f.read())\n",
    "except:\n",
    "    print(\"file was not found\")\n",
    "else:\n",
    "    print(\"the try block was successful\")\n",
    "finally:\n",
    "    print(\"This block always excutes\")\n",
    "    try:\n",
    "        with open('rtyu.txt') as f:\n",
    "            print(f.read())\n",
    "    except FileNotFoundError:\n",
    "        print(\"The file was not found\")\n",
    "    except Exception as e:\n",
    "        print(e)"
   ]
  },
  {
   "cell_type": "code",
   "execution_count": 2,
   "id": "d343d2cf",
   "metadata": {},
   "outputs": [
    {
     "name": "stdout",
     "output_type": "stream",
     "text": [
      "Enter an interger: gvf\n",
      "Interger cannot be a string!!\n"
     ]
    },
    {
     "ename": "UnboundLocalError",
     "evalue": "local variable 'a' referenced before assignment",
     "output_type": "error",
     "traceback": [
      "\u001b[1;31m---------------------------------------------------------------------------\u001b[0m",
      "\u001b[1;31mUnboundLocalError\u001b[0m                         Traceback (most recent call last)",
      "\u001b[1;32m~\\AppData\\Local\\Temp\\ipykernel_8124\\2147595877.py\u001b[0m in \u001b[0;36m<module>\u001b[1;34m\u001b[0m\n\u001b[0;32m      9\u001b[0m     \u001b[1;32mfinally\u001b[0m\u001b[1;33m:\u001b[0m\u001b[1;33m\u001b[0m\u001b[1;33m\u001b[0m\u001b[0m\n\u001b[0;32m     10\u001b[0m         \u001b[0mprint\u001b[0m\u001b[1;33m(\u001b[0m\u001b[0ma\u001b[0m\u001b[1;33m)\u001b[0m\u001b[1;33m\u001b[0m\u001b[1;33m\u001b[0m\u001b[0m\n\u001b[1;32m---> 11\u001b[1;33m \u001b[0maskint\u001b[0m\u001b[1;33m(\u001b[0m\u001b[1;33m)\u001b[0m\u001b[1;33m\u001b[0m\u001b[1;33m\u001b[0m\u001b[0m\n\u001b[0m",
      "\u001b[1;32m~\\AppData\\Local\\Temp\\ipykernel_8124\\2147595877.py\u001b[0m in \u001b[0;36maskint\u001b[1;34m()\u001b[0m\n\u001b[0;32m      8\u001b[0m         \u001b[0mprint\u001b[0m\u001b[1;33m(\u001b[0m\u001b[1;34m\"You encounterd an error\"\u001b[0m\u001b[1;33m)\u001b[0m\u001b[1;33m\u001b[0m\u001b[1;33m\u001b[0m\u001b[0m\n\u001b[0;32m      9\u001b[0m     \u001b[1;32mfinally\u001b[0m\u001b[1;33m:\u001b[0m\u001b[1;33m\u001b[0m\u001b[1;33m\u001b[0m\u001b[0m\n\u001b[1;32m---> 10\u001b[1;33m         \u001b[0mprint\u001b[0m\u001b[1;33m(\u001b[0m\u001b[0ma\u001b[0m\u001b[1;33m)\u001b[0m\u001b[1;33m\u001b[0m\u001b[1;33m\u001b[0m\u001b[0m\n\u001b[0m\u001b[0;32m     11\u001b[0m \u001b[0maskint\u001b[0m\u001b[1;33m(\u001b[0m\u001b[1;33m)\u001b[0m\u001b[1;33m\u001b[0m\u001b[1;33m\u001b[0m\u001b[0m\n",
      "\u001b[1;31mUnboundLocalError\u001b[0m: local variable 'a' referenced before assignment"
     ]
    }
   ],
   "source": [
    "# code to ask for an interger\n",
    "def askint():\n",
    "    try:\n",
    "        a = int(input(\"Enter an interger: \"))\n",
    "    except ValueError:\n",
    "        print(\"Interger cannot be a string!!\")\n",
    "    except Exception as e:\n",
    "        print(\"You encounterd an error\")\n",
    "    finally:\n",
    "        print(a)\n",
    "askint()"
   ]
  },
  {
   "cell_type": "code",
   "execution_count": 5,
   "id": "905dc3f5",
   "metadata": {},
   "outputs": [
    {
     "name": "stdout",
     "output_type": "stream",
     "text": [
      "number: 6\n",
      "6\n"
     ]
    }
   ],
   "source": [
    "v = int(input(\"number: \"))\n",
    "print(v)"
   ]
  },
  {
   "cell_type": "code",
   "execution_count": 15,
   "id": "88ee8fb4",
   "metadata": {},
   "outputs": [
    {
     "name": "stdout",
     "output_type": "stream",
     "text": [
      "Input an intergeryu\n",
      "invalid literal for int() with base 10: 'yu'\n",
      "a nice program\n",
      "Input an intergert\n",
      "invalid literal for int() with base 10: 't'\n",
      "a nice program\n",
      "Input an interger8\n",
      "good this is an interger!!\n",
      "a nice program\n"
     ]
    }
   ],
   "source": [
    "# a program to keep on asking for the input if you input a string instead of a interger\n",
    " \n",
    "a = \"\"\n",
    "while type(a) == str:\n",
    "    try:\n",
    "        a = int(input(\"Input an interger\"))\n",
    "    except Exception as e:\n",
    "        print(e)\n",
    "    else:\n",
    "        print(\"good this is an interger!!\")\n",
    "    finally:\n",
    "        print(\"a nice program\")"
   ]
  },
  {
   "cell_type": "code",
   "execution_count": 23,
   "id": "bdf419fe",
   "metadata": {},
   "outputs": [
    {
     "name": "stdout",
     "output_type": "stream",
     "text": [
      "Enter an integer: er\n",
      "invalid literal for int() with base 10: 'er'\n",
      "program to input intergers\n",
      "Enter an integer: er\n",
      "invalid literal for int() with base 10: 'er'\n",
      "program to input intergers\n",
      "Enter an integer: er\n",
      "invalid literal for int() with base 10: 'er'\n",
      "program to input intergers\n",
      "Enter an integer: 5\n",
      "Condition satisfied!!\n",
      "program to input intergers\n"
     ]
    }
   ],
   "source": [
    "#  a program to keep on asking for the input if you input a string instead of a interger now using a break and continue statement\n",
    "while True:\n",
    "    try:\n",
    "        a = int(input(\"Enter an integer: \"))\n",
    "    except Exception as e:\n",
    "        print(e)\n",
    "        continue\n",
    "    else:\n",
    "        print(\"Condition satisfied!!\")\n",
    "        break\n",
    "    finally:\n",
    "        print(\"program to input intergers\")\n",
    "    \n",
    "    "
   ]
  },
  {
   "cell_type": "code",
   "execution_count": null,
   "id": "294bdc97",
   "metadata": {},
   "outputs": [],
   "source": []
  },
  {
   "cell_type": "markdown",
   "id": "fbfdee83",
   "metadata": {},
   "source": [
    "## creating my own error handling"
   ]
  },
  {
   "cell_type": "code",
   "execution_count": 28,
   "id": "f608d056",
   "metadata": {},
   "outputs": [
    {
     "name": "stdout",
     "output_type": "stream",
     "text": [
      "Enter an interger: 3\n",
      "This number is too small !!\n"
     ]
    }
   ],
   "source": [
    "try:\n",
    "    v = int(input(\"Enter an interger: \"))\n",
    "    if v < 5:\n",
    "        raise ValueError(\"This number is too small !!\")\n",
    "except ValueError as e:\n",
    "    print(e)"
   ]
  },
  {
   "cell_type": "code",
   "execution_count": 37,
   "id": "319cbb6a",
   "metadata": {},
   "outputs": [
    {
     "name": "stdout",
     "output_type": "stream",
     "text": [
      "Enter an interger: 8\n",
      "Enter a number greater than zero 0\n"
     ]
    },
    {
     "ename": "NameError",
     "evalue": "name 'ZeroError' is not defined",
     "output_type": "error",
     "traceback": [
      "\u001b[1;31m---------------------------------------------------------------------------\u001b[0m",
      "\u001b[1;31mNameError\u001b[0m                                 Traceback (most recent call last)",
      "\u001b[1;32m~\\AppData\\Local\\Temp\\ipykernel_8124\\2332501447.py\u001b[0m in \u001b[0;36m<module>\u001b[1;34m\u001b[0m\n\u001b[0;32m      4\u001b[0m     \u001b[1;32mif\u001b[0m \u001b[0mb\u001b[0m \u001b[1;33m==\u001b[0m \u001b[1;36m0\u001b[0m\u001b[1;33m:\u001b[0m\u001b[1;33m\u001b[0m\u001b[1;33m\u001b[0m\u001b[0m\n\u001b[1;32m----> 5\u001b[1;33m         \u001b[1;32mraise\u001b[0m \u001b[0mZeroError\u001b[0m\u001b[1;33m(\u001b[0m\u001b[1;34m\"Dont input a zero, you fool !\"\u001b[0m\u001b[1;33m)\u001b[0m\u001b[1;33m\u001b[0m\u001b[1;33m\u001b[0m\u001b[0m\n\u001b[0m\u001b[0;32m      6\u001b[0m     \u001b[1;32mif\u001b[0m \u001b[0ma\u001b[0m \u001b[1;33m<\u001b[0m \u001b[1;36m5\u001b[0m\u001b[1;33m:\u001b[0m\u001b[1;33m\u001b[0m\u001b[1;33m\u001b[0m\u001b[0m\n",
      "\u001b[1;31mNameError\u001b[0m: name 'ZeroError' is not defined",
      "\nDuring handling of the above exception, another exception occurred:\n",
      "\u001b[1;31mNameError\u001b[0m                                 Traceback (most recent call last)",
      "\u001b[1;32m~\\AppData\\Local\\Temp\\ipykernel_8124\\2332501447.py\u001b[0m in \u001b[0;36m<module>\u001b[1;34m\u001b[0m\n\u001b[0;32m      9\u001b[0m \u001b[1;32mexcept\u001b[0m \u001b[0mValueError\u001b[0m \u001b[1;32mas\u001b[0m \u001b[0mV\u001b[0m\u001b[1;33m:\u001b[0m\u001b[1;33m\u001b[0m\u001b[1;33m\u001b[0m\u001b[0m\n\u001b[0;32m     10\u001b[0m     \u001b[0mprint\u001b[0m\u001b[1;33m(\u001b[0m\u001b[0mV\u001b[0m\u001b[1;33m)\u001b[0m\u001b[1;33m\u001b[0m\u001b[1;33m\u001b[0m\u001b[0m\n\u001b[1;32m---> 11\u001b[1;33m \u001b[1;32mexcept\u001b[0m \u001b[0mZeroError\u001b[0m \u001b[1;32mas\u001b[0m \u001b[0mZ\u001b[0m\u001b[1;33m:\u001b[0m\u001b[1;33m\u001b[0m\u001b[1;33m\u001b[0m\u001b[0m\n\u001b[0m\u001b[0;32m     12\u001b[0m     \u001b[0mprint\u001b[0m\u001b[1;33m(\u001b[0m\u001b[0mZ\u001b[0m\u001b[1;33m)\u001b[0m\u001b[1;33m\u001b[0m\u001b[1;33m\u001b[0m\u001b[0m\n",
      "\u001b[1;31mNameError\u001b[0m: name 'ZeroError' is not defined"
     ]
    }
   ],
   "source": [
    "try:\n",
    "    a = int(input(\"Enter an interger: \"))\n",
    "    b = int(input(\"Enter a number greater than zero \"))\n",
    "    if b == 0:\n",
    "        raise ZeroError(\"Dont input a zero, you fool !\")\n",
    "    if a < 5:\n",
    "        raise ValueError(\"This number is too small !!\")\n",
    "    \n",
    "except ValueError as V:\n",
    "    print(V)\n",
    "except ZeroError as Z:\n",
    "    print(Z)"
   ]
  },
  {
   "cell_type": "code",
   "execution_count": 38,
   "id": "3ac9aad1",
   "metadata": {},
   "outputs": [
    {
     "name": "stdout",
     "output_type": "stream",
     "text": [
      "Enter an interger: 7\n",
      "Enter a number greater than zero 0\n"
     ]
    },
    {
     "ename": "NameError",
     "evalue": "name 'ZeroError' is not defined",
     "output_type": "error",
     "traceback": [
      "\u001b[1;31m---------------------------------------------------------------------------\u001b[0m",
      "\u001b[1;31mNameError\u001b[0m                                 Traceback (most recent call last)",
      "\u001b[1;32m~\\AppData\\Local\\Temp\\ipykernel_8124\\1584810591.py\u001b[0m in \u001b[0;36m<module>\u001b[1;34m\u001b[0m\n\u001b[0;32m      6\u001b[0m     \u001b[1;32melif\u001b[0m \u001b[0mb\u001b[0m \u001b[1;33m==\u001b[0m \u001b[1;36m0\u001b[0m\u001b[1;33m:\u001b[0m\u001b[1;33m\u001b[0m\u001b[1;33m\u001b[0m\u001b[0m\n\u001b[1;32m----> 7\u001b[1;33m         \u001b[1;32mraise\u001b[0m \u001b[0mZeroError\u001b[0m\u001b[1;33m(\u001b[0m\u001b[1;34m\"Dont input a zero, you fool !\"\u001b[0m\u001b[1;33m)\u001b[0m\u001b[1;33m\u001b[0m\u001b[1;33m\u001b[0m\u001b[0m\n\u001b[0m\u001b[0;32m      8\u001b[0m \u001b[1;32mexcept\u001b[0m \u001b[0mValueError\u001b[0m \u001b[1;32mas\u001b[0m \u001b[0mv\u001b[0m\u001b[1;33m:\u001b[0m\u001b[1;33m\u001b[0m\u001b[1;33m\u001b[0m\u001b[0m\n",
      "\u001b[1;31mNameError\u001b[0m: name 'ZeroError' is not defined",
      "\nDuring handling of the above exception, another exception occurred:\n",
      "\u001b[1;31mNameError\u001b[0m                                 Traceback (most recent call last)",
      "\u001b[1;32m~\\AppData\\Local\\Temp\\ipykernel_8124\\1584810591.py\u001b[0m in \u001b[0;36m<module>\u001b[1;34m\u001b[0m\n\u001b[0;32m      8\u001b[0m \u001b[1;32mexcept\u001b[0m \u001b[0mValueError\u001b[0m \u001b[1;32mas\u001b[0m \u001b[0mv\u001b[0m\u001b[1;33m:\u001b[0m\u001b[1;33m\u001b[0m\u001b[1;33m\u001b[0m\u001b[0m\n\u001b[0;32m      9\u001b[0m     \u001b[0mprint\u001b[0m\u001b[1;33m(\u001b[0m\u001b[0mv\u001b[0m\u001b[1;33m)\u001b[0m\u001b[1;33m\u001b[0m\u001b[1;33m\u001b[0m\u001b[0m\n\u001b[1;32m---> 10\u001b[1;33m \u001b[1;32mexcept\u001b[0m \u001b[0mZeroError\u001b[0m \u001b[1;32mas\u001b[0m \u001b[0mz\u001b[0m\u001b[1;33m:\u001b[0m\u001b[1;33m\u001b[0m\u001b[1;33m\u001b[0m\u001b[0m\n\u001b[0m\u001b[0;32m     11\u001b[0m     \u001b[0mprint\u001b[0m\u001b[1;33m(\u001b[0m\u001b[0mz\u001b[0m\u001b[1;33m)\u001b[0m\u001b[1;33m\u001b[0m\u001b[1;33m\u001b[0m\u001b[0m\n",
      "\u001b[1;31mNameError\u001b[0m: name 'ZeroError' is not defined"
     ]
    }
   ],
   "source": [
    "try:\n",
    "    a = int(input(\"Enter an interger: \"))\n",
    "    b = int(input(\"Enter a number greater than zero \"))\n",
    "    if a < 5:\n",
    "        raise ValueError(\"This number is too small !!\")\n",
    "    elif b == 0:\n",
    "        raise ZeroError(\"Dont input a zero, you fool !\")\n",
    "except ValueError as v:\n",
    "    print(v)\n",
    "except ZeroError as z:\n",
    "    print(z)\n"
   ]
  },
  {
   "cell_type": "code",
   "execution_count": null,
   "id": "19584b95",
   "metadata": {},
   "outputs": [],
   "source": [
    "class ZeroError(Exception):\n",
    "    pass\n",
    "\n",
    "try:\n",
    "    a = int(input(\"Enter an interger: \"))\n",
    "    b = int(input(\"Enter a number greater than zero \"))\n",
    "    if a < 5:\n",
    "        raise ValueError(\"This number is too small !!\")\n",
    "    elif b == 0:\n",
    "        raise ZeroError(\"Dont input a zero, you fool !\")\n",
    "except ValueError as v:\n",
    "    print(v)\n",
    "except ZeroError as z:\n",
    "    print(z)\n"
   ]
  },
  {
   "cell_type": "code",
   "execution_count": null,
   "id": "1de86ab8",
   "metadata": {},
   "outputs": [],
   "source": []
  },
  {
   "cell_type": "code",
   "execution_count": null,
   "id": "fd247c54",
   "metadata": {},
   "outputs": [],
   "source": []
  }
 ],
 "metadata": {
  "kernelspec": {
   "display_name": "Python 3 (ipykernel)",
   "language": "python",
   "name": "python3"
  },
  "language_info": {
   "codemirror_mode": {
    "name": "ipython",
    "version": 3
   },
   "file_extension": ".py",
   "mimetype": "text/x-python",
   "name": "python",
   "nbconvert_exporter": "python",
   "pygments_lexer": "ipython3",
   "version": "3.9.13"
  }
 },
 "nbformat": 4,
 "nbformat_minor": 5
}
