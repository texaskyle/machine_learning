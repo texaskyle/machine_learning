{
 "cells": [
  {
   "cell_type": "code",
   "execution_count": null,
   "id": "dc661aca",
   "metadata": {},
   "outputs": [],
   "source": []
  },
  {
   "cell_type": "code",
   "execution_count": 12,
   "id": "383da4e0",
   "metadata": {},
   "outputs": [
    {
     "name": "stdout",
     "output_type": "stream",
     "text": [
      "<class 'int'>\n"
     ]
    }
   ],
   "source": [
    "i = 10\n",
    "print(type(i))"
   ]
  },
  {
   "cell_type": "code",
   "execution_count": 65,
   "id": "a8917265",
   "metadata": {},
   "outputs": [],
   "source": [
    "# creating a class\n",
    "class Person: \n",
    "    pass"
   ]
  },
  {
   "cell_type": "code",
   "execution_count": 66,
   "id": "6e4c98d4",
   "metadata": {},
   "outputs": [],
   "source": [
    "p_1 = Person"
   ]
  },
  {
   "cell_type": "code",
   "execution_count": 23,
   "id": "146342cd",
   "metadata": {},
   "outputs": [
    {
     "name": "stdout",
     "output_type": "stream",
     "text": [
      "<class '__main__.Person'>\n"
     ]
    }
   ],
   "source": [
    "print(person_1)"
   ]
  },
  {
   "cell_type": "code",
   "execution_count": 67,
   "id": "3740ba55",
   "metadata": {},
   "outputs": [],
   "source": [
    "p_1 = Person\n",
    "p_1.name=\"Evans\"\n",
    "p_1.age=22\n",
    "p_1.yob = 2001"
   ]
  },
  {
   "cell_type": "code",
   "execution_count": 68,
   "id": "604b76e3",
   "metadata": {},
   "outputs": [
    {
     "data": {
      "text/plain": [
       "'Evans'"
      ]
     },
     "execution_count": 68,
     "metadata": {},
     "output_type": "execute_result"
    }
   ],
   "source": [
    "p_1.name  # name is an attribute of the class person"
   ]
  },
  {
   "cell_type": "code",
   "execution_count": 69,
   "id": "a51f5819",
   "metadata": {},
   "outputs": [
    {
     "data": {
      "text/plain": [
       "22"
      ]
     },
     "execution_count": 69,
     "metadata": {},
     "output_type": "execute_result"
    }
   ],
   "source": [
    "p_1.age"
   ]
  },
  {
   "cell_type": "code",
   "execution_count": 70,
   "id": "e208bf15",
   "metadata": {},
   "outputs": [],
   "source": [
    "# creating another object\n",
    "p_2  = Person()\n",
    "p_2.name = \"kezz\"\n",
    "p_2.yob = 2013\n",
    "p_2.gender = \"Female\""
   ]
  },
  {
   "cell_type": "code",
   "execution_count": 71,
   "id": "1a066c95",
   "metadata": {},
   "outputs": [
    {
     "data": {
      "text/plain": [
       "'kezz'"
      ]
     },
     "execution_count": 71,
     "metadata": {},
     "output_type": "execute_result"
    }
   ],
   "source": [
    "p_2.name"
   ]
  },
  {
   "cell_type": "code",
   "execution_count": 72,
   "id": "51236116",
   "metadata": {},
   "outputs": [
    {
     "data": {
      "text/plain": [
       "2001"
      ]
     },
     "execution_count": 72,
     "metadata": {},
     "output_type": "execute_result"
    }
   ],
   "source": [
    "p_1.yob"
   ]
  },
  {
   "cell_type": "markdown",
   "id": "b0222d88",
   "metadata": {},
   "source": [
    "## best approach"
   ]
  },
  {
   "cell_type": "code",
   "execution_count": 55,
   "id": "a92c9a5f",
   "metadata": {},
   "outputs": [],
   "source": [
    "class Person:\n",
    "    def __init__(self, name, surname, age, gender):\n",
    "        self.name = name\n",
    "        self.surname = surname\n",
    "        self.age = age\n",
    "        self.gender = gender\n",
    "        \n",
    "    def __str__(self):\n",
    "        return \"my name is %s %s. i am %d years old, and am a %s\" %(self.name, self.surname, self.age, self.gender)\n"
   ]
  },
  {
   "cell_type": "code",
   "execution_count": 56,
   "id": "c07412ed",
   "metadata": {},
   "outputs": [
    {
     "name": "stdout",
     "output_type": "stream",
     "text": [
      "my name is evans Njoroge. i am 22 years old, and am a m\n"
     ]
    }
   ],
   "source": [
    "# creating an object\n",
    "person_1 = Person(\"evans\", \"Njoroge\", 22, \"m\")\n",
    "person_1.surname\n",
    "print(person_1)"
   ]
  },
  {
   "cell_type": "code",
   "execution_count": 36,
   "id": "ea163d0a",
   "metadata": {},
   "outputs": [
    {
     "data": {
      "text/plain": [
       "'f'"
      ]
     },
     "execution_count": 36,
     "metadata": {},
     "output_type": "execute_result"
    }
   ],
   "source": [
    "# creating another object\n",
    "person_2  = Person(\"kezz\", \"Wanjiku\", 11, \"f\")\n",
    "person_2.gender"
   ]
  },
  {
   "cell_type": "code",
   "execution_count": 51,
   "id": "cf8732ae",
   "metadata": {},
   "outputs": [
    {
     "data": {
      "text/plain": [
       "192"
      ]
     },
     "execution_count": 51,
     "metadata": {},
     "output_type": "execute_result"
    }
   ],
   "source": [
    "# creating a class of erea\n",
    "class Shapes:\n",
    "    def __init__(self, length, width, heigth):\n",
    "        self.length = length\n",
    "        self.width = width\n",
    "        self.heigth = heigth\n",
    "        \n",
    "    def sqr_area(self, side_length):\n",
    "        return self.length * self.length\n",
    "    \n",
    "    def volume(self, length, width, heigth):\n",
    "        return self.length * self.width * self.heigth\n",
    "    \n",
    "    def rec_area(self, length, width):\n",
    "        return self.length * self.width\n",
    "    \n",
    "# creating an object\n",
    "\n",
    "\n",
    "square = Shapes(4,4,4)\n",
    "square.sqr_area(4)\n",
    "\n",
    "# rectangle\n",
    "rectangle = Shapes(8, 4, 6)\n",
    "rectangle.rec_area(8, 4)\n",
    "\n",
    "#rec volume\n",
    "rectangle.volume(8,4,6)"
   ]
  },
  {
   "cell_type": "markdown",
   "id": "18cc8ecf",
   "metadata": {},
   "source": [
    "## Abstraction"
   ]
  },
  {
   "cell_type": "code",
   "execution_count": 75,
   "id": "c20acc7b",
   "metadata": {},
   "outputs": [
    {
     "data": {
      "text/plain": [
       "'Daniel'"
      ]
     },
     "execution_count": 75,
     "metadata": {},
     "output_type": "execute_result"
    }
   ],
   "source": [
    "# protected\n",
    "class Student:\n",
    "    def __init__(self, name, surname, age):\n",
    "        self._name = name  # because there is an underscore this abstraction\n",
    "        self._surname = surname\n",
    "        self._age = age\n",
    "        \n",
    "# object\n",
    "student_1 = Student(\"Daniel\", \"Thathi\", 23)\n",
    "student_1._name # here there is an underscore "
   ]
  },
  {
   "cell_type": "code",
   "execution_count": 77,
   "id": "801b870f",
   "metadata": {},
   "outputs": [
    {
     "data": {
      "text/plain": [
       "{'_name': 'Daniel', '_surname': 'Thathi', '_age': 23}"
      ]
     },
     "execution_count": 77,
     "metadata": {},
     "output_type": "execute_result"
    }
   ],
   "source": [
    "# how a class tries to store a class varible\n",
    "student_1.__dict__"
   ]
  },
  {
   "cell_type": "code",
   "execution_count": null,
   "id": "3590e003",
   "metadata": {},
   "outputs": [],
   "source": []
  },
  {
   "cell_type": "code",
   "execution_count": 81,
   "id": "7e20e4c2",
   "metadata": {},
   "outputs": [],
   "source": [
    "# private is annoted by a souble underscore\n",
    "class Animal:\n",
    "    def __init__(self, name, age, backbone):\n",
    "        self.__name = name # private because of a double underscore\n",
    "        self._age = age\n",
    "        self._backbone = backbone\n",
    "        \n",
    "# object\n",
    "lion = Animal(\"lion\", 6, \"verterbrade\")"
   ]
  },
  {
   "cell_type": "code",
   "execution_count": 82,
   "id": "1de61368",
   "metadata": {},
   "outputs": [
    {
     "data": {
      "text/plain": [
       "{'_Animal__name': 'lion', '_age': 6, '_backbone': 'verterbrade'}"
      ]
     },
     "execution_count": 82,
     "metadata": {},
     "output_type": "execute_result"
    }
   ],
   "source": [
    "lion.__dict__"
   ]
  },
  {
   "cell_type": "code",
   "execution_count": 84,
   "id": "05735833",
   "metadata": {},
   "outputs": [
    {
     "data": {
      "text/plain": [
       "'lion'"
      ]
     },
     "execution_count": 84,
     "metadata": {},
     "output_type": "execute_result"
    }
   ],
   "source": [
    "lion._Animal__name"
   ]
  },
  {
   "cell_type": "markdown",
   "id": "f703c976",
   "metadata": {},
   "source": [
    "## inheritance "
   ]
  },
  {
   "cell_type": "code",
   "execution_count": 104,
   "id": "71f9708c",
   "metadata": {},
   "outputs": [
    {
     "ename": "TypeError",
     "evalue": "__init__() missing 3 required keyword-only arguments: 'teacher_no', 'subject', and 'gender'",
     "output_type": "error",
     "traceback": [
      "\u001b[1;31m---------------------------------------------------------------------------\u001b[0m",
      "\u001b[1;31mTypeError\u001b[0m                                 Traceback (most recent call last)",
      "\u001b[1;32m~\\AppData\\Local\\Temp\\ipykernel_3164\\3223790152.py\u001b[0m in \u001b[0;36m<module>\u001b[1;34m\u001b[0m\n\u001b[0;32m     14\u001b[0m \u001b[1;33m\u001b[0m\u001b[0m\n\u001b[0;32m     15\u001b[0m \u001b[1;31m#object\u001b[0m\u001b[1;33m\u001b[0m\u001b[1;33m\u001b[0m\u001b[0m\n\u001b[1;32m---> 16\u001b[1;33m \u001b[0mteacher_1\u001b[0m \u001b[1;33m=\u001b[0m \u001b[0mTeacher\u001b[0m\u001b[1;33m(\u001b[0m\u001b[1;36m1213\u001b[0m\u001b[1;33m,\u001b[0m \u001b[1;34m\"maths\"\u001b[0m\u001b[1;33m,\u001b[0m \u001b[1;34m\"M\"\u001b[0m\u001b[1;33m,\u001b[0m \u001b[1;34m\"evans\"\u001b[0m\u001b[1;33m,\u001b[0m \u001b[1;34m\"njoroge\"\u001b[0m\u001b[1;33m,\u001b[0m \u001b[1;36m22\u001b[0m\u001b[1;33m)\u001b[0m\u001b[1;33m\u001b[0m\u001b[1;33m\u001b[0m\u001b[0m\n\u001b[0m\u001b[0;32m     17\u001b[0m \u001b[0mteacher_1\u001b[0m\u001b[1;33m.\u001b[0m\u001b[0mname\u001b[0m\u001b[1;33m\u001b[0m\u001b[1;33m\u001b[0m\u001b[0m\n\u001b[0;32m     18\u001b[0m \u001b[1;31m#person_1 = Person(\"evans\", \"njoroge\", 22)\u001b[0m\u001b[1;33m\u001b[0m\u001b[1;33m\u001b[0m\u001b[0m\n",
      "\u001b[1;31mTypeError\u001b[0m: __init__() missing 3 required keyword-only arguments: 'teacher_no', 'subject', and 'gender'"
     ]
    }
   ],
   "source": [
    "class Person:\n",
    "    def __init__(self, name, surname, age):\n",
    "        self.name = name\n",
    "        self.surname = surname\n",
    "        self.age = age\n",
    "class Teacher(Person):\n",
    "    def __init__(self , teacher_no , subject, gender, *args):\n",
    "        super(Teacher, self).__init__(*args)\n",
    "        # initialize the class varibles in the teachers class\n",
    "        self.teacher_no = teacher_no\n",
    "        self.subject = subject\n",
    "        self.gender = gender\n",
    "       \n",
    "    \n",
    "#object\n",
    "teacher_1 = Teacher(1213, \"maths\", \"M\", \"evans\", \"njoroge\", 22)\n",
    "teacher_1.name\n",
    "#person_1 = Person(\"evans\", \"njoroge\", 22)\n",
    "#person_1.name"
   ]
  }
 ],
 "metadata": {
  "kernelspec": {
   "display_name": "Python 3 (ipykernel)",
   "language": "python",
   "name": "python3"
  },
  "language_info": {
   "codemirror_mode": {
    "name": "ipython",
    "version": 3
   },
   "file_extension": ".py",
   "mimetype": "text/x-python",
   "name": "python",
   "nbconvert_exporter": "python",
   "pygments_lexer": "ipython3",
   "version": "3.9.13"
  }
 },
 "nbformat": 4,
 "nbformat_minor": 5
}
