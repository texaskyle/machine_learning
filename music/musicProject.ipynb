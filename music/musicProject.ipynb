{
 "cells": [
  {
   "cell_type": "code",
   "execution_count": 103,
   "id": "95a9ce47",
   "metadata": {},
   "outputs": [],
   "source": [
    "import pandas as pd\n",
    "from sklearn.tree import DecisionTreeClassifier \n",
    "from sklearn.model_selection import train_test_split # it helps in training the model\n",
    "from sklearn.metrics import accuracy_score # used to check the score of the trained model\n",
    "\n",
    "\n",
    "music_data = pd.read_csv('music.csv') #reading the csv file\n",
    "X = music_data.drop(columns=['genre']) # spilting the input dataset\n",
    "y = music_data['genre'] # this is the prediction which the model is supporsed to make\n",
    "X_train, X_test, y_train, y_test = train_test_split(X, y, test_size=0.2) # the first two are the imputs for training and the last two are the outputs for training and testing respectively\n",
    "\n"
   ]
  },
  {
   "cell_type": "code",
   "execution_count": 104,
   "id": "810642dc",
   "metadata": {},
   "outputs": [
    {
     "data": {
      "text/plain": [
       "1.0"
      ]
     },
     "execution_count": 104,
     "metadata": {},
     "output_type": "execute_result"
    }
   ],
   "source": [
    "# creating a model\n",
    "model = DecisionTreeClassifier()\n",
    "\n",
    "# Training the model\n",
    "# model.fit(X, y)\n",
    "model.fit(X_train, y_train)\n",
    "\n",
    "# making a prediction\n",
    "predictions = model.predict(X_test)\n",
    "\n",
    "score = accuracy_score(y_test, predictions)\n",
    "score"
   ]
  }
 ],
 "metadata": {
  "kernelspec": {
   "display_name": "Python 3 (ipykernel)",
   "language": "python",
   "name": "python3"
  },
  "language_info": {
   "codemirror_mode": {
    "name": "ipython",
    "version": 3
   },
   "file_extension": ".py",
   "mimetype": "text/x-python",
   "name": "python",
   "nbconvert_exporter": "python",
   "pygments_lexer": "ipython3",
   "version": "3.9.13"
  }
 },
 "nbformat": 4,
 "nbformat_minor": 5
}
